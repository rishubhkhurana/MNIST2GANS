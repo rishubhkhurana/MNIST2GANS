{
 "cells": [
  {
   "cell_type": "markdown",
   "metadata": {},
   "source": [
    "## Personal Attributes"
   ]
  },
  {
   "cell_type": "markdown",
   "metadata": {
    "heading_collapsed": true
   },
   "source": [
    "### Importing Libs"
   ]
  },
  {
   "cell_type": "code",
   "execution_count": null,
   "metadata": {
    "hidden": true
   },
   "outputs": [],
   "source": [
    "#if running in colab\n",
    "# mount gdrive and unzip data\n",
    "from google.colab import drive\n",
    "drive.mount('/content/gdrive')\n",
    "!unzip -q \"/content/gdrive/My Drive/hvc_data.zip\"\n",
    "# look for `hvc_annotations.csv` file and `resized` dir\n",
    "%ls "
   ]
  },
  {
   "cell_type": "code",
   "execution_count": 1,
   "metadata": {
    "hidden": true
   },
   "outputs": [],
   "source": [
    "import sklearn"
   ]
  },
  {
   "cell_type": "code",
   "execution_count": 2,
   "metadata": {
    "hidden": true
   },
   "outputs": [],
   "source": [
    "from sklearn.model_selection import train_test_split"
   ]
  },
  {
   "cell_type": "code",
   "execution_count": 3,
   "metadata": {
    "hidden": true
   },
   "outputs": [
    {
     "name": "stderr",
     "output_type": "stream",
     "text": [
      "Using TensorFlow backend.\n"
     ]
    }
   ],
   "source": [
    "import keras\n",
    "import cv2,json\n",
    "from pathlib import Path\n",
    "import pandas as pd\n",
    "import numpy as np\n",
    "from sklearn.model_selection import train_test_split\n",
    "import keras.backend as K\n",
    "from keras.layers import Conv2D,Dense,Flatten,Activation,BatchNormalization,Add,Concatenate,Input\n",
    "from keras.layers import GlobalMaxPooling2D,GlobalAveragePooling2D,MaxPooling2D,Dropout\n",
    "from albumentations import Compose,RandomCrop,RandomGamma,HueSaturationValue\n",
    "from albumentations import HorizontalFlip,RandomContrast,ShiftScaleRotate,RandomBrightness\n",
    "from sklearn.dummy import DummyClassifier\n",
    "import matplotlib.pyplot as plt\n",
    "from keras.models import Model,load_model\n",
    "from keras.utils import plot_model\n",
    "import pydot\n",
    "import tensorflow as tf\n",
    "import math\n",
    "from keras.applications import VGG16\n",
    "from sklearn.utils import class_weight\n",
    "import skimage"
   ]
  },
  {
   "cell_type": "markdown",
   "metadata": {
    "heading_collapsed": true
   },
   "source": [
    "### Data set reading "
   ]
  },
  {
   "cell_type": "code",
   "execution_count": 4,
   "metadata": {
    "hidden": true
   },
   "outputs": [],
   "source": [
    "data = pd.read_csv(\"hvc_annotations.csv\")"
   ]
  },
  {
   "cell_type": "code",
   "execution_count": 5,
   "metadata": {
    "hidden": true
   },
   "outputs": [
    {
     "data": {
      "text/html": [
       "<div>\n",
       "<style scoped>\n",
       "    .dataframe tbody tr th:only-of-type {\n",
       "        vertical-align: middle;\n",
       "    }\n",
       "\n",
       "    .dataframe tbody tr th {\n",
       "        vertical-align: top;\n",
       "    }\n",
       "\n",
       "    .dataframe thead th {\n",
       "        text-align: right;\n",
       "    }\n",
       "</style>\n",
       "<table border=\"1\" class=\"dataframe\">\n",
       "  <thead>\n",
       "    <tr style=\"text-align: right;\">\n",
       "      <th></th>\n",
       "      <th>filename</th>\n",
       "      <th>gender</th>\n",
       "      <th>imagequality</th>\n",
       "      <th>age</th>\n",
       "      <th>weight</th>\n",
       "      <th>carryingbag</th>\n",
       "      <th>footwear</th>\n",
       "      <th>emotion</th>\n",
       "      <th>bodypose</th>\n",
       "      <th>image_path</th>\n",
       "    </tr>\n",
       "  </thead>\n",
       "  <tbody>\n",
       "    <tr>\n",
       "      <th>0</th>\n",
       "      <td>images/Set1/5580_2 (3).jpg</td>\n",
       "      <td>male</td>\n",
       "      <td>Average</td>\n",
       "      <td>35-45</td>\n",
       "      <td>normal-healthy</td>\n",
       "      <td>Grocery/Home/Plastic Bag</td>\n",
       "      <td>Normal</td>\n",
       "      <td>Neutral</td>\n",
       "      <td>Front-Frontish</td>\n",
       "      <td>resized/1.jpg</td>\n",
       "    </tr>\n",
       "    <tr>\n",
       "      <th>1</th>\n",
       "      <td>images/Set1/4650_1 (4).jpg</td>\n",
       "      <td>female</td>\n",
       "      <td>Average</td>\n",
       "      <td>35-45</td>\n",
       "      <td>over-weight</td>\n",
       "      <td>None</td>\n",
       "      <td>Normal</td>\n",
       "      <td>Angry/Serious</td>\n",
       "      <td>Front-Frontish</td>\n",
       "      <td>resized/2.jpg</td>\n",
       "    </tr>\n",
       "    <tr>\n",
       "      <th>2</th>\n",
       "      <td>images/Set1/44880_0.jpg</td>\n",
       "      <td>male</td>\n",
       "      <td>Good</td>\n",
       "      <td>45-55</td>\n",
       "      <td>normal-healthy</td>\n",
       "      <td>Grocery/Home/Plastic Bag</td>\n",
       "      <td>CantSee</td>\n",
       "      <td>Neutral</td>\n",
       "      <td>Front-Frontish</td>\n",
       "      <td>resized/3.jpg</td>\n",
       "    </tr>\n",
       "    <tr>\n",
       "      <th>3</th>\n",
       "      <td>images/Set1/26130_2.jpg</td>\n",
       "      <td>male</td>\n",
       "      <td>Good</td>\n",
       "      <td>45-55</td>\n",
       "      <td>normal-healthy</td>\n",
       "      <td>Daily/Office/Work Bag</td>\n",
       "      <td>Normal</td>\n",
       "      <td>Neutral</td>\n",
       "      <td>Front-Frontish</td>\n",
       "      <td>resized/4.jpg</td>\n",
       "    </tr>\n",
       "    <tr>\n",
       "      <th>4</th>\n",
       "      <td>images/Set1/IMG (4438).jpg</td>\n",
       "      <td>female</td>\n",
       "      <td>Good</td>\n",
       "      <td>35-45</td>\n",
       "      <td>slightly-overweight</td>\n",
       "      <td>None</td>\n",
       "      <td>CantSee</td>\n",
       "      <td>Neutral</td>\n",
       "      <td>Front-Frontish</td>\n",
       "      <td>resized/5.jpg</td>\n",
       "    </tr>\n",
       "  </tbody>\n",
       "</table>\n",
       "</div>"
      ],
      "text/plain": [
       "                     filename  gender imagequality    age  \\\n",
       "0  images/Set1/5580_2 (3).jpg    male      Average  35-45   \n",
       "1  images/Set1/4650_1 (4).jpg  female      Average  35-45   \n",
       "2     images/Set1/44880_0.jpg    male         Good  45-55   \n",
       "3     images/Set1/26130_2.jpg    male         Good  45-55   \n",
       "4  images/Set1/IMG (4438).jpg  female         Good  35-45   \n",
       "\n",
       "                weight               carryingbag footwear        emotion  \\\n",
       "0       normal-healthy  Grocery/Home/Plastic Bag   Normal        Neutral   \n",
       "1          over-weight                      None   Normal  Angry/Serious   \n",
       "2       normal-healthy  Grocery/Home/Plastic Bag  CantSee        Neutral   \n",
       "3       normal-healthy     Daily/Office/Work Bag   Normal        Neutral   \n",
       "4  slightly-overweight                      None  CantSee        Neutral   \n",
       "\n",
       "         bodypose     image_path  \n",
       "0  Front-Frontish  resized/1.jpg  \n",
       "1  Front-Frontish  resized/2.jpg  \n",
       "2  Front-Frontish  resized/3.jpg  \n",
       "3  Front-Frontish  resized/4.jpg  \n",
       "4  Front-Frontish  resized/5.jpg  "
      ]
     },
     "execution_count": 5,
     "metadata": {},
     "output_type": "execute_result"
    }
   ],
   "source": [
    "data.head()"
   ]
  },
  {
   "cell_type": "code",
   "execution_count": 6,
   "metadata": {
    "hidden": true
   },
   "outputs": [],
   "source": [
    "one_hot_df = pd.concat([data['image_path'],pd.get_dummies(data['gender'],prefix='gender'),\n",
    "                       pd.get_dummies(data['imagequality'],prefix='imagequality'),\n",
    "                       pd.get_dummies(data['age'],prefix='age'),\n",
    "                       pd.get_dummies(data['weight'],prefix='weight'),\n",
    "                       pd.get_dummies(data['carryingbag'],prefix='carryingbag'),\n",
    "                       pd.get_dummies(data['footwear'],prefix='footwear'),\n",
    "                       pd.get_dummies(data['emotion'],prefix='emotion'),\n",
    "                       pd.get_dummies(data['bodypose'],prefix='bodypose')],axis=1)"
   ]
  },
  {
   "cell_type": "code",
   "execution_count": 7,
   "metadata": {
    "hidden": true
   },
   "outputs": [
    {
     "data": {
      "text/html": [
       "<div>\n",
       "<style scoped>\n",
       "    .dataframe tbody tr th:only-of-type {\n",
       "        vertical-align: middle;\n",
       "    }\n",
       "\n",
       "    .dataframe tbody tr th {\n",
       "        vertical-align: top;\n",
       "    }\n",
       "\n",
       "    .dataframe thead th {\n",
       "        text-align: right;\n",
       "    }\n",
       "</style>\n",
       "<table border=\"1\" class=\"dataframe\">\n",
       "  <thead>\n",
       "    <tr style=\"text-align: right;\">\n",
       "      <th></th>\n",
       "      <th>image_path</th>\n",
       "      <th>gender_female</th>\n",
       "      <th>gender_male</th>\n",
       "      <th>imagequality_Average</th>\n",
       "      <th>imagequality_Bad</th>\n",
       "      <th>imagequality_Good</th>\n",
       "      <th>age_15-25</th>\n",
       "      <th>age_25-35</th>\n",
       "      <th>age_35-45</th>\n",
       "      <th>age_45-55</th>\n",
       "      <th>...</th>\n",
       "      <th>footwear_CantSee</th>\n",
       "      <th>footwear_Fancy</th>\n",
       "      <th>footwear_Normal</th>\n",
       "      <th>emotion_Angry/Serious</th>\n",
       "      <th>emotion_Happy</th>\n",
       "      <th>emotion_Neutral</th>\n",
       "      <th>emotion_Sad</th>\n",
       "      <th>bodypose_Back</th>\n",
       "      <th>bodypose_Front-Frontish</th>\n",
       "      <th>bodypose_Side</th>\n",
       "    </tr>\n",
       "  </thead>\n",
       "  <tbody>\n",
       "    <tr>\n",
       "      <th>0</th>\n",
       "      <td>resized/1.jpg</td>\n",
       "      <td>0</td>\n",
       "      <td>1</td>\n",
       "      <td>1</td>\n",
       "      <td>0</td>\n",
       "      <td>0</td>\n",
       "      <td>0</td>\n",
       "      <td>0</td>\n",
       "      <td>1</td>\n",
       "      <td>0</td>\n",
       "      <td>...</td>\n",
       "      <td>0</td>\n",
       "      <td>0</td>\n",
       "      <td>1</td>\n",
       "      <td>0</td>\n",
       "      <td>0</td>\n",
       "      <td>1</td>\n",
       "      <td>0</td>\n",
       "      <td>0</td>\n",
       "      <td>1</td>\n",
       "      <td>0</td>\n",
       "    </tr>\n",
       "    <tr>\n",
       "      <th>1</th>\n",
       "      <td>resized/2.jpg</td>\n",
       "      <td>1</td>\n",
       "      <td>0</td>\n",
       "      <td>1</td>\n",
       "      <td>0</td>\n",
       "      <td>0</td>\n",
       "      <td>0</td>\n",
       "      <td>0</td>\n",
       "      <td>1</td>\n",
       "      <td>0</td>\n",
       "      <td>...</td>\n",
       "      <td>0</td>\n",
       "      <td>0</td>\n",
       "      <td>1</td>\n",
       "      <td>1</td>\n",
       "      <td>0</td>\n",
       "      <td>0</td>\n",
       "      <td>0</td>\n",
       "      <td>0</td>\n",
       "      <td>1</td>\n",
       "      <td>0</td>\n",
       "    </tr>\n",
       "    <tr>\n",
       "      <th>2</th>\n",
       "      <td>resized/3.jpg</td>\n",
       "      <td>0</td>\n",
       "      <td>1</td>\n",
       "      <td>0</td>\n",
       "      <td>0</td>\n",
       "      <td>1</td>\n",
       "      <td>0</td>\n",
       "      <td>0</td>\n",
       "      <td>0</td>\n",
       "      <td>1</td>\n",
       "      <td>...</td>\n",
       "      <td>1</td>\n",
       "      <td>0</td>\n",
       "      <td>0</td>\n",
       "      <td>0</td>\n",
       "      <td>0</td>\n",
       "      <td>1</td>\n",
       "      <td>0</td>\n",
       "      <td>0</td>\n",
       "      <td>1</td>\n",
       "      <td>0</td>\n",
       "    </tr>\n",
       "    <tr>\n",
       "      <th>3</th>\n",
       "      <td>resized/4.jpg</td>\n",
       "      <td>0</td>\n",
       "      <td>1</td>\n",
       "      <td>0</td>\n",
       "      <td>0</td>\n",
       "      <td>1</td>\n",
       "      <td>0</td>\n",
       "      <td>0</td>\n",
       "      <td>0</td>\n",
       "      <td>1</td>\n",
       "      <td>...</td>\n",
       "      <td>0</td>\n",
       "      <td>0</td>\n",
       "      <td>1</td>\n",
       "      <td>0</td>\n",
       "      <td>0</td>\n",
       "      <td>1</td>\n",
       "      <td>0</td>\n",
       "      <td>0</td>\n",
       "      <td>1</td>\n",
       "      <td>0</td>\n",
       "    </tr>\n",
       "    <tr>\n",
       "      <th>4</th>\n",
       "      <td>resized/5.jpg</td>\n",
       "      <td>1</td>\n",
       "      <td>0</td>\n",
       "      <td>0</td>\n",
       "      <td>0</td>\n",
       "      <td>1</td>\n",
       "      <td>0</td>\n",
       "      <td>0</td>\n",
       "      <td>1</td>\n",
       "      <td>0</td>\n",
       "      <td>...</td>\n",
       "      <td>1</td>\n",
       "      <td>0</td>\n",
       "      <td>0</td>\n",
       "      <td>0</td>\n",
       "      <td>0</td>\n",
       "      <td>1</td>\n",
       "      <td>0</td>\n",
       "      <td>0</td>\n",
       "      <td>1</td>\n",
       "      <td>0</td>\n",
       "    </tr>\n",
       "  </tbody>\n",
       "</table>\n",
       "<p>5 rows × 28 columns</p>\n",
       "</div>"
      ],
      "text/plain": [
       "      image_path  gender_female  gender_male  imagequality_Average  \\\n",
       "0  resized/1.jpg              0            1                     1   \n",
       "1  resized/2.jpg              1            0                     1   \n",
       "2  resized/3.jpg              0            1                     0   \n",
       "3  resized/4.jpg              0            1                     0   \n",
       "4  resized/5.jpg              1            0                     0   \n",
       "\n",
       "   imagequality_Bad  imagequality_Good  age_15-25  age_25-35  age_35-45  \\\n",
       "0                 0                  0          0          0          1   \n",
       "1                 0                  0          0          0          1   \n",
       "2                 0                  1          0          0          0   \n",
       "3                 0                  1          0          0          0   \n",
       "4                 0                  1          0          0          1   \n",
       "\n",
       "   age_45-55  ...  footwear_CantSee  footwear_Fancy  footwear_Normal  \\\n",
       "0          0  ...                 0               0                1   \n",
       "1          0  ...                 0               0                1   \n",
       "2          1  ...                 1               0                0   \n",
       "3          1  ...                 0               0                1   \n",
       "4          0  ...                 1               0                0   \n",
       "\n",
       "   emotion_Angry/Serious  emotion_Happy  emotion_Neutral  emotion_Sad  \\\n",
       "0                      0              0                1            0   \n",
       "1                      1              0                0            0   \n",
       "2                      0              0                1            0   \n",
       "3                      0              0                1            0   \n",
       "4                      0              0                1            0   \n",
       "\n",
       "   bodypose_Back  bodypose_Front-Frontish  bodypose_Side  \n",
       "0              0                        1              0  \n",
       "1              0                        1              0  \n",
       "2              0                        1              0  \n",
       "3              0                        1              0  \n",
       "4              0                        1              0  \n",
       "\n",
       "[5 rows x 28 columns]"
      ]
     },
     "execution_count": 7,
     "metadata": {},
     "output_type": "execute_result"
    }
   ],
   "source": [
    "one_hot_df.head()"
   ]
  },
  {
   "cell_type": "code",
   "execution_count": 8,
   "metadata": {
    "hidden": true
   },
   "outputs": [
    {
     "data": {
      "text/plain": [
       "((11537, 28), (2036, 28))"
      ]
     },
     "execution_count": 8,
     "metadata": {},
     "output_type": "execute_result"
    }
   ],
   "source": [
    "train_df, val_df = train_test_split(one_hot_df, test_size=0.15,random_state=42)\n",
    "train_df.shape, val_df.shape"
   ]
  },
  {
   "cell_type": "code",
   "execution_count": 9,
   "metadata": {
    "hidden": true
   },
   "outputs": [],
   "source": [
    "train_df.reset_index(inplace=True,drop=True)\n",
    "val_df.reset_index(inplace=True,drop=True)"
   ]
  },
  {
   "cell_type": "markdown",
   "metadata": {
    "heading_collapsed": true
   },
   "source": [
    "###  Baseline classifiers\n",
    "Predicting most frequent class for every output"
   ]
  },
  {
   "cell_type": "code",
   "execution_count": 10,
   "metadata": {
    "hidden": true
   },
   "outputs": [
    {
     "name": "stdout",
     "output_type": "stream",
     "text": [
      "Baseline accuracy for age:  0.39865910263022175\n",
      "Baseline accuracy for gender:  0.5625874898695941\n",
      "Baseline accuracy for imagequality:  0.5532306785530097\n",
      "Baseline accuracy for weight:  0.6356737640904737\n",
      "Baseline accuracy for carryingbag:  0.56354527370515\n",
      "Baseline accuracy for footwear:  0.4448537537758786\n",
      "Baseline accuracy for emotion:  0.7117070654976793\n",
      "Baseline accuracy for bodypose:  0.6176232225742282\n"
     ]
    }
   ],
   "source": [
    "print(f\"Baseline accuracy for age:  {data['age'].value_counts(normalize=True).max()}\")\n",
    "print(f\"Baseline accuracy for gender:  {data['gender'].value_counts(normalize=True).max()}\")\n",
    "print(f\"Baseline accuracy for imagequality:  {data['imagequality'].value_counts(normalize=True).max()}\")\n",
    "print(f\"Baseline accuracy for weight:  {data['weight'].value_counts(normalize=True).max()}\")\n",
    "print(f\"Baseline accuracy for carryingbag:  {data['carryingbag'].value_counts(normalize=True).max()}\")\n",
    "print(f\"Baseline accuracy for footwear:  {data['footwear'].value_counts(normalize=True).max()}\")\n",
    "print(f\"Baseline accuracy for emotion:  {data['emotion'].value_counts(normalize=True).max()}\")\n",
    "print(f\"Baseline accuracy for bodypose:  {data['bodypose'].value_counts(normalize=True).max()}\")"
   ]
  },
  {
   "cell_type": "markdown",
   "metadata": {
    "heading_collapsed": true
   },
   "source": [
    "### DataGenerators "
   ]
  },
  {
   "cell_type": "code",
   "execution_count": 11,
   "metadata": {
    "hidden": true
   },
   "outputs": [],
   "source": [
    "_age_cols_=[col for col in train_df.columns if col.startswith('age')]\n",
    "_imagequality_cols_=[col for col in train_df.columns if col.startswith('imagequality')]\n",
    "_gender_cols_=[col for col in train_df.columns if col.startswith('gen')]\n",
    "_weight_cols_=[col for col in train_df.columns if col.startswith('wei')]\n",
    "_carryingbag_cols_=[col for col in train_df.columns if col.startswith('carry')]\n",
    "_footwear_cols_=[col for col in train_df.columns if col.startswith('foot')]\n",
    "_emotion_cols_=[col for col in train_df.columns if col.startswith('emotion')]\n",
    "_bodypose_cols_=[col for col in train_df.columns if col.startswith('bodypose')]"
   ]
  },
  {
   "cell_type": "code",
   "execution_count": 12,
   "metadata": {
    "code_folding": [],
    "hidden": true
   },
   "outputs": [],
   "source": [
    "augmentations = Compose([HorizontalFlip(p=0.5),RandomContrast(limit=0.2, p=0.5)\n",
    "                         ,RandomGamma(gamma_limit=(80, 120), p=0.5),RandomBrightness(limit=0.2, p=0.5),\n",
    "                        HueSaturationValue(hue_shift_limit=5, sat_shift_limit=20,val_shift_limit=10, p=.9),\n",
    "                        ShiftScaleRotate(shift_limit=0.0625, scale_limit=0.1,rotate_limit=15, border_mode=cv2.BORDER_REFLECT_101, p=0.8)])"
   ]
  },
  {
   "cell_type": "code",
   "execution_count": 13,
   "metadata": {
    "hidden": true
   },
   "outputs": [],
   "source": [
    "img = skimage.io.imread(train_df.image_path[0])"
   ]
  },
  {
   "cell_type": "code",
   "execution_count": 14,
   "metadata": {
    "hidden": true
   },
   "outputs": [
    {
     "data": {
      "image/png": "[encoded data removed]",
      "text/plain": [
       "<Figure size 1152x720 with 6 Axes>"
      ]
     },
     "metadata": {
      "needs_background": "light"
     },
     "output_type": "display_data"
    }
   ],
   "source": [
    "_,axs=plt.subplots(6,1,figsize=(16,10))\n",
    "for i in range(6):\n",
    "    axs[i].imshow(augmentations(image=img)[\"image\"])"
   ]
  },
  {
   "cell_type": "code",
   "execution_count": 15,
   "metadata": {
    "code_folding": [],
    "hidden": true
   },
   "outputs": [],
   "source": [
    "class PersonalAttributeGen(keras.utils.Sequence):\n",
    "    def __init__(self,df,augment=augmentations,bs=32,mean=0,shuffle=True,std=1.):\n",
    "        super().__init__()\n",
    "        self.df=df\n",
    "        self.shuffle=shuffle\n",
    "        self.mean=mean\n",
    "        self.std=std\n",
    "        self.bs=bs\n",
    "        self.augment=augment\n",
    "        self.on_epoch_end()\n",
    "    def __len__(self):\n",
    "        return self.df.shape[0]//self.bs\n",
    "    def __getitem__(self,idxs):\n",
    "        batch_slice = slice(idxs*self.bs,(idxs+1)*self.bs)\n",
    "        batch_data = self.df.iloc[batch_slice]\n",
    "        if self.augment is not None:\n",
    "            image_data = np.stack([self.augment(image=skimage.io.imread(img))[\"image\"]/255. for img in batch_data.image_path])\n",
    "        else:\n",
    "            image_data = np.stack([skimage.io.imread(img)/255. for img in batch_data.image_path])\n",
    "  \n",
    "        target={'age_output':batch_data[_age_cols_].values,\n",
    "               'gender_output':batch_data[_gender_cols_].values,\n",
    "               'emotion_output':batch_data[_emotion_cols_].values,\n",
    "               'footwear_output':batch_data[_footwear_cols_].values,\n",
    "               'bodypose_output':batch_data[_bodypose_cols_].values,\n",
    "               'weight_output':batch_data[_weight_cols_].values,\n",
    "               'imagequality_output':batch_data[_imagequality_cols_].values,\n",
    "               'carryingbag_output':batch_data[_carryingbag_cols_].values\n",
    "               }\n",
    "        #return batch_data\n",
    "        return image_data,target\n",
    "    def on_epoch_end(self):\n",
    "        if self.shuffle:\n",
    "            self.df=self.df.sample(frac=1).reset_index(drop=True)"
   ]
  },
  {
   "cell_type": "code",
   "execution_count": 16,
   "metadata": {
    "hidden": true
   },
   "outputs": [],
   "source": [
    "train_gen = PersonalAttributeGen(train_df)"
   ]
  },
  {
   "cell_type": "code",
   "execution_count": 17,
   "metadata": {
    "hidden": true
   },
   "outputs": [],
   "source": [
    "X,y=next(iter(train_gen))"
   ]
  },
  {
   "cell_type": "code",
   "execution_count": 18,
   "metadata": {
    "hidden": true
   },
   "outputs": [],
   "source": [
    "num_units={}\n",
    "for k,v in y.items():\n",
    "    num_units[k.split('_output')[0]]=v.shape[1]"
   ]
  },
  {
   "cell_type": "code",
   "execution_count": 19,
   "metadata": {
    "hidden": true
   },
   "outputs": [
    {
     "data": {
      "text/plain": [
       "{'age': 5,\n",
       " 'gender': 2,\n",
       " 'emotion': 4,\n",
       " 'footwear': 3,\n",
       " 'bodypose': 3,\n",
       " 'weight': 4,\n",
       " 'imagequality': 3,\n",
       " 'carryingbag': 3}"
      ]
     },
     "execution_count": 19,
     "metadata": {},
     "output_type": "execute_result"
    }
   ],
   "source": [
    "num_units"
   ]
  },
  {
   "cell_type": "code",
   "execution_count": null,
   "metadata": {
    "hidden": true
   },
   "outputs": [],
   "source": [
    "# function to add label smoothing\n",
    "def add_label_noise(y,noise_level=0.2,selected_cols=[]):\n",
    "    def add_noise(x):\n",
    "        temp = x*(1-noise_level)\n",
    "        res = (np.asarray(([noise_level]*x.shape[1]))/x.shape[1]).reshape(1,-1)\n",
    "        temp=temp+res\n",
    "        return temp\n",
    "    if len(selected_cols)==0:\n",
    "        temp=add_noise(y)\n",
    "    else:\n",
    "        temp=y.copy()\n",
    "        for c in selected_cols:\n",
    "            temp[temp[c]==1] = add_noise(temp[temp[c]==1])  \n",
    "    return temp\n",
    "\n",
    "    "
   ]
  },
  {
   "cell_type": "code",
   "execution_count": null,
   "metadata": {
    "hidden": true
   },
   "outputs": [],
   "source": [
    "data['weight'].value_counts(normalize=True)"
   ]
  },
  {
   "cell_type": "code",
   "execution_count": null,
   "metadata": {
    "hidden": true
   },
   "outputs": [],
   "source": [
    "data.age.value_counts(normalize=True)"
   ]
  },
  {
   "cell_type": "code",
   "execution_count": null,
   "metadata": {
    "hidden": true
   },
   "outputs": [],
   "source": [
    "train_df_ls = train_df.copy()\n",
    "train_df_ls[_age_cols_]=add_label_noise(train_df_ls[_age_cols_],noise_level=0.3,selected_cols=['age_25-35'])\n",
    "train_df_ls[_emotion_cols_]=add_label_noise(train_df_ls[_emotion_cols_],noise_level=0.4,selected_cols=['emotion_Neutral'])\n",
    "train_df_ls[_weight_cols_]=add_label_noise(train_df_ls[_weight_cols_],noise_level=0.4,selected_cols=['weight_normal-healthy'])"
   ]
  },
  {
   "cell_type": "code",
   "execution_count": null,
   "metadata": {
    "hidden": true
   },
   "outputs": [],
   "source": [
    "train_df_ls.head()"
   ]
  },
  {
   "cell_type": "code",
   "execution_count": 20,
   "metadata": {
    "hidden": true
   },
   "outputs": [],
   "source": [
    "train_gen = PersonalAttributeGen(train_df,augment=augmentations)\n",
    "val_gen = PersonalAttributeGen(val_df,bs=64,augment=None,shuffle=False)"
   ]
  },
  {
   "cell_type": "code",
   "execution_count": null,
   "metadata": {
    "hidden": true
   },
   "outputs": [],
   "source": [
    "class MixUpGenerator(keras.utils.Sequence):\n",
    "    def __init__(self,df,augment=augmentations,bs=32,shuffle=True,alpha=0.2):\n",
    "        super().__init__()\n",
    "        self.df=df\n",
    "        self.idxs1 = np.arange(self.df.shape[0])\n",
    "        self.idxs2 = np.arange(self.df.shape[0])\n",
    "        self.shuffle=shuffle\n",
    "        self.bs=bs\n",
    "        self.augment=augment\n",
    "        self.on_epoch_end()\n",
    "        self.alpha=alpha\n",
    "        \n",
    "    def __len__(self):\n",
    "        return self.df.shape[0]//self.bs\n",
    "    \n",
    "    def __getitem__(self,idxs):\n",
    "        batch_slice = slice(idxs*self.bs,(idxs+1)*self.bs)\n",
    "        batch_slice1 = self.idxs1[batch_slice]\n",
    "        batch_slice2 = self.idxs2[batch_slice]\n",
    "        batch_data1 = self.df.iloc[batch_slice1]\n",
    "        batch_data2 = self.df.iloc[batch_slice2]\n",
    "        bs = batch_data2.shape[0]\n",
    "        l = np.random.beta(self.alpha,self.alpha,bs)\n",
    "        #l=np.ones(bs,dtype='uint8')\n",
    "        image_data1 = np.stack([skimage.io.imread(img)/255. for img in batch_data1.image_path])\n",
    "        image_data2 = np.stack([skimage.io.imread(img)/255. for img in batch_data2.image_path])\n",
    "        x_mult = l.reshape(bs,1,1,1)\n",
    "        y_mult = l.reshape(bs,1)\n",
    "        image_data = image_data1*x_mult+(1-x_mult)*image_data2\n",
    "        #print(x_mult)\n",
    "        target={'age_output':y_mult*batch_data1[_age_cols_].values+(1-y_mult)*batch_data2[_age_cols_].values,\n",
    "               'gender_output':y_mult*batch_data1[_gender_cols_].values + (1-y_mult)*batch_data2[_gender_cols_].values,\n",
    "               'emotion_output':y_mult*batch_data1[_emotion_cols_].values + (1-y_mult)*batch_data2[_emotion_cols_].values,\n",
    "               'footwear_output':y_mult*batch_data1[_footwear_cols_].values + (1-y_mult)*batch_data2[_footwear_cols_].values,\n",
    "               'bodypose_output':y_mult*batch_data1[_bodypose_cols_].values + (1-y_mult)*batch_data2[_bodypose_cols_].values,\n",
    "               'weight_output':y_mult*batch_data1[_weight_cols_].values + (1-y_mult)*batch_data2[_weight_cols_].values,\n",
    "               'imagequality_output':y_mult*batch_data1[_imagequality_cols_].values + (1-y_mult)*batch_data2[_imagequality_cols_].values,\n",
    "               'carryingbag_output':y_mult*batch_data1[_carryingbag_cols_].values + (1-y_mult)*batch_data2[_carryingbag_cols_].values\n",
    "               }\n",
    "        #return batch_data\n",
    "        #return image_data1,image_data2,image_data,l,target\n",
    "        return image_data,target\n",
    "    def on_epoch_end(self):\n",
    "        if self.shuffle:\n",
    "            np.random.shuffle(self.idxs1)\n",
    "            np.random.shuffle(self.idxs2)\n",
    "            #self.df=self.df.sample(frac=1).reset_index(drop=True)"
   ]
  },
  {
   "cell_type": "code",
   "execution_count": null,
   "metadata": {
    "hidden": true
   },
   "outputs": [],
   "source": [
    "train_gen = MixUpGenerator(train_df,augment=augmentations)\n"
   ]
  },
  {
   "cell_type": "code",
   "execution_count": null,
   "metadata": {
    "hidden": true
   },
   "outputs": [],
   "source": [
    "X1,X2,X,l,y=next(iter(train_gen))"
   ]
  },
  {
   "cell_type": "code",
   "execution_count": null,
   "metadata": {
    "hidden": true
   },
   "outputs": [],
   "source": [
    "plt.imshow(X2[3])"
   ]
  },
  {
   "cell_type": "code",
   "execution_count": null,
   "metadata": {
    "hidden": true
   },
   "outputs": [],
   "source": [
    "plt.imshow(X1[3])"
   ]
  },
  {
   "cell_type": "code",
   "execution_count": null,
   "metadata": {
    "hidden": true
   },
   "outputs": [],
   "source": [
    "plt.imshow(X[3].astype('uint8'))"
   ]
  },
  {
   "cell_type": "markdown",
   "metadata": {
    "heading_collapsed": true
   },
   "source": [
    "### Model Layers "
   ]
  },
  {
   "cell_type": "code",
   "execution_count": 21,
   "metadata": {
    "code_folding": [],
    "hidden": true
   },
   "outputs": [],
   "source": [
    "def basic_conv(inp,nf=16,kernel_size=3,strides=1,padding='same',conv_first=True,bn=True,activation='relu',wd=1e-4,dropout=True,p=0.1,initialize_bn=False):\n",
    "    if conv_first:\n",
    "        x = Conv2D(filters=nf,kernel_size=kernel_size,strides=strides,padding=padding,kernel_initializer='he_normal',kernel_regularizer=keras.regularizers.l2(wd))(inp)\n",
    "        if bn:\n",
    "            if initialize_bn:\n",
    "                x = BatchNormalization(gamma_initializer='zeros')(x)\n",
    "            else:\n",
    "                x = BatchNormalization()(x)\n",
    "        x = Activation(activation)(x)\n",
    "        if dropout:\n",
    "            x=Dropout(rate=p)(x)\n",
    "    else:\n",
    "        if bn:\n",
    "            x = BatchNormalization()(inp)\n",
    "        x=Activation(activation)(x)\n",
    "        x = Conv2D(filters=nf,kernel_size=kernel_size,strides=strides,padding=padding,kernel_initializer='he_normal',kernel_regularizer=keras.regularizers.l2(wd))(x)\n",
    "        if dropout:\n",
    "            x=Dropout(rate=p)(x)\n",
    "    return x   "
   ]
  },
  {
   "cell_type": "code",
   "execution_count": 22,
   "metadata": {
    "code_folding": [],
    "hidden": true
   },
   "outputs": [],
   "source": [
    "def build_bone(nf=32,n_stacks=3,n_resblocks=3,dropout=False,p=0.1,initialize_bn=False):\n",
    "    inp = Input(shape=(224,224,3))\n",
    "    x = basic_conv(inp,nf=nf,dropout=dropout,p=p)\n",
    "    if nf<64:\n",
    "        nf=nf*2\n",
    "    x = basic_conv(x,nf=nf,dropout=dropout,p=p)\n",
    "    x = MaxPooling2D()(x)\n",
    "    x = basic_conv(x,nf=nf,dropout=dropout,p=p)\n",
    "    x = MaxPooling2D()(x)\n",
    "    for s in range(n_stacks):\n",
    "        for j in range(n_resblocks):\n",
    "            if s>0 and j==0:\n",
    "                y = basic_conv(x,nf=nf,strides=2,dropout=dropout,p=p)\n",
    "                x = basic_conv(x,nf=nf,kernel_size=1,strides=2,activation=None,bn=False)\n",
    "            else:\n",
    "                y = basic_conv(x,nf=nf,strides=1,dropout=dropout,p=p)\n",
    "            if not initialize_bn:\n",
    "                y = basic_conv(y,nf=nf,strides=1,activation=None)\n",
    "            else:\n",
    "                y =  basic_conv(y,nf=nf,strides=1,activation=None,initialize_bn=True)\n",
    "            x = Add()([x,y])\n",
    "            x = Activation('relu')(x)\n",
    "        nf*=2\n",
    "    out1 = GlobalAveragePooling2D()(x)\n",
    "    out2 = GlobalMaxPooling2D()(x)\n",
    "    out=Concatenate()([out1,out2])\n",
    "    model = Model(inp,out)\n",
    "    return model\n",
    "                "
   ]
  },
  {
   "cell_type": "code",
   "execution_count": null,
   "metadata": {
    "hidden": true
   },
   "outputs": [],
   "source": [
    "backbone=build_bone(n_resblocks=3,initialize_bn=True)"
   ]
  },
  {
   "cell_type": "code",
   "execution_count": null,
   "metadata": {
    "hidden": true
   },
   "outputs": [],
   "source": [
    "backbone.summary()"
   ]
  },
  {
   "cell_type": "code",
   "execution_count": null,
   "metadata": {
    "code_folding": [
     0
    ],
    "hidden": true
   },
   "outputs": [],
   "source": [
    "class lr_finder(keras.callbacks.Callback):\n",
    "    def __init__(self,min_lr=1e-6,max_lr=5,max_loss=1e9,max_iters=1000,smooth=0.98,patience=10):\n",
    "        self.min_lr,self.max_lr=min_lr,max_lr\n",
    "        self.max_loss=max_loss\n",
    "        self.max_iters=max_iters\n",
    "        self.smooth=smooth\n",
    "        self.patience=patience\n",
    "        self.reset()\n",
    "    def reset(self):\n",
    "        self.min_loss=self.max_loss\n",
    "        self.lr=self.min_lr\n",
    "        self.rate = (self.max_lr/self.min_lr)**(1/self.max_iters)\n",
    "        self.lrs=[]\n",
    "        self.losses=[]\n",
    "        self.wait=0\n",
    "        self.iters=0\n",
    "    def on_train_begin(self,logs={}):\n",
    "        self.reset()\n",
    "        K.set_value(self.model.optimizer.lr,self.lr)\n",
    "        \n",
    "    def on_batch_end(self,batch,logs={}):\n",
    "        loss=logs['loss']\n",
    "        self.iters+=1\n",
    "        lr = K.get_value(self.model.optimizer.lr)\n",
    "        self.lr = self.min_lr*(self.rate)**self.iters\n",
    "        self.losses.append(loss)\n",
    "        self.lrs.append(lr)\n",
    "        if loss<self.min_loss:\n",
    "            self.min_loss=loss\n",
    "        elif  loss>self.min_loss*10 or self.iters>self.max_iters:\n",
    "            self.model.stop_training=True\n",
    "        K.set_value(self.model.optimizer.lr,self.lr)\n",
    "    def on_epoch_end(self,epoch,logs={}):\n",
    "        #pass\n",
    "        print(self.lr,K.get_value(self.model.optimizer.lr))\n",
    "    \n",
    "    def plot(self,start=20,skip_last=100):\n",
    "        loss_smooth=[]\n",
    "        for l in self.losses:\n",
    "            if len(loss_smooth)==0:\n",
    "                loss_smooth.append((1-self.smooth)*l)\n",
    "                continue\n",
    "            loss_smooth.append(self.smooth*loss_smooth[-1]+(1-self.smooth)*l)\n",
    "        plt.plot(self.lrs[start:-skip_last],loss_smooth[start:-skip_last])\n",
    "        plt.xscale('log')\n",
    "        plt.show()\n",
    "        \n",
    "        \n",
    "    \n"
   ]
  },
  {
   "cell_type": "code",
   "execution_count": 27,
   "metadata": {
    "code_folding": [
     0,
     2,
     5,
     10
    ],
    "hidden": true
   },
   "outputs": [],
   "source": [
    "class LR_scheduler(keras.callbacks.Callback):\n",
    "    \n",
    "    def __init__(self,min_lr=1e-6,max_lr=1e-2,steps=[0.4,0.9,1.],tot_batches=1000):\n",
    "        self.min_lr,self.max_lr,self.steps,self.tot_batches=min_lr,max_lr,steps,tot_batches\n",
    "        \n",
    "    def reset(self):\n",
    "        self.pos=0\n",
    "        self.iters=0\n",
    "        self.lrs=[]\n",
    "        \n",
    "    def on_train_begin(self,logs={}):\n",
    "        self.reset()\n",
    "        \n",
    "    def on_epoch_end(self,epoch,logs={}):\n",
    "        print(f\"Epoch Number: {epoch}\")\n",
    "        print(f\"Learning Rate: {K.get_value(self.model.optimizer.lr)}\")\n",
    "\n",
    "    def get_lr(self,mode=\"increasing\"):\n",
    "        if mode=='increasing':\n",
    "            pos = self.pos/self.steps[0]\n",
    "            #print(f\"increasring: {self.pos}\")\n",
    "            self.lr = self.min_lr + (self.max_lr-self.min_lr)*pos\n",
    "        elif mode==\"decreasing\":\n",
    "            if self.pos<self.steps[1]:\n",
    "                #print(f\"\\n {self.pos}\")\n",
    "                pos=(self.pos-self.steps[0])/(self.steps[1]-self.steps[0])\n",
    "                self.lr = self.max_lr + (self.min_lr-self.max_lr)*pos\n",
    "            else:\n",
    "                pos = (self.pos-self.steps[1])/(self.steps[2]-self.steps[1])\n",
    "                self.lr = self.min_lr + (self.min_lr-0.1*self.min_lr)*pos\n",
    "                \n",
    "    def on_batch_end(self,batch,logs={}):\n",
    "        \n",
    "        self.iters+=1\n",
    "        self.pos = self.iters/self.tot_batches\n",
    "        \n",
    "        if self.pos<self.steps[0]:\n",
    "            self.get_lr()\n",
    "        else:\n",
    "            self.get_lr(mode='decreasing')\n",
    "        K.set_value(self.model.optimizer.lr,self.lr)\n",
    "        self.lrs.append(K.get_value(self.model.optimizer.lr))\n",
    "        "
   ]
  },
  {
   "cell_type": "code",
   "execution_count": 23,
   "metadata": {
    "hidden": true
   },
   "outputs": [
    {
     "name": "stdout",
     "output_type": "stream",
     "text": [
      "WARNING:tensorflow:From /local/mnt/workspace/usr/rishubh/anaconda3/envs/eip/lib/python3.6/site-packages/tensorflow_core/python/ops/resource_variable_ops.py:1630: calling BaseResourceVariable.__init__ (from tensorflow.python.ops.resource_variable_ops) with constraint is deprecated and will be removed in a future version.\n",
      "Instructions for updating:\n",
      "If using Keras pass *_constraint arguments to layers.\n",
      "WARNING:tensorflow:From /local/mnt/workspace/usr/rishubh/anaconda3/envs/eip/lib/python3.6/site-packages/keras/backend/tensorflow_backend.py:4070: The name tf.nn.max_pool is deprecated. Please use tf.nn.max_pool2d instead.\n",
      "\n"
     ]
    }
   ],
   "source": [
    "bone = build_bone(n_stacks=3,dropout=True,p=0.1)#,initialize_bn=True)\n",
    "neck=bone.output\n",
    "neck = Dense(256,kernel_initializer='he_normal',kernel_regularizer=keras.regularizers.l2(1e-4))(neck)\n",
    "neck = BatchNormalization()(neck)\n",
    "neck=Activation('relu')(neck)\n",
    "\n",
    "def build_tower(neck,p=0.1,hids=[128,128]):\n",
    "    x = Dropout(p)(neck)\n",
    "    x = Dense(hids[0],kernel_initializer='he_normal',kernel_regularizer=keras.regularizers.l2(1e-4))(x)\n",
    "    x=BatchNormalization()(x)\n",
    "    x = Activation('relu')(x)\n",
    "    x = Dropout(p)(x)\n",
    "    x = Dense(hids[1],kernel_initializer='he_normal',kernel_regularizer=keras.regularizers.l2(1e-4))(x)\n",
    "    x=BatchNormalization()(x)\n",
    "    x = Activation('relu')(x)\n",
    "    return x\n",
    "def build_head(tower,name):\n",
    "    return Dense(num_units[name],activation='softmax',kernel_initializer='he_normal',name=\"{}_output\".format(name))(tower)\n",
    "age = build_head(build_tower(neck),\"age\")\n",
    "image = build_head(build_tower(neck),\"imagequality\")\n",
    "emotion = build_head(build_tower(neck),\"emotion\")\n",
    "bag = build_head(build_tower(neck),\"carryingbag\")\n",
    "weight = build_head(build_tower(neck),\"weight\")\n",
    "foot = build_head(build_tower(neck),\"footwear\")\n",
    "gender = build_head(build_tower(neck),\"gender\")\n",
    "body = build_head(build_tower(neck),\"bodypose\")\n",
    "\n",
    "model= Model(bone.input,outputs=[age,image,emotion,bag,weight,foot,gender,body]) "
   ]
  },
  {
   "cell_type": "code",
   "execution_count": null,
   "metadata": {
    "hidden": true
   },
   "outputs": [],
   "source": [
    "losses={\"age_output\":\"categorical_crossentropy\",\"gender_output\":\"binary_crossentropy\",\"footwear_output\":\"categorical_crossentropy\",\"weight_output\":\"categorical_crossentropy\"\n",
    "       ,\"bodypose_output\":\"categorical_crossentropy\",\"carryingbag_output\":\"categorical_crossentropy\",\"emotion_output\":\"categorical_crossentropy\",\"imagequality_output\":\"categorical_crossentropy\"}\n",
    "opt = keras.optimizers.SGD(lr=0.001,momentum=0.9)\n",
    "finder = lr_finder()\n",
    "loss_weights={\"age_output\":3,\"gender_output\":1,\"footwear_output\":2,\"bodypose_output\":1,\n",
    "             \"carryingbag_output\":3,\"emotion_output\":3,\"imagequality_output\":2,\"weight_output\":2}\n",
    "model.compile(optimizer=opt,loss=losses,metrics=['accuracy'])#,loss_weights=loss_weights)"
   ]
  },
  {
   "cell_type": "code",
   "execution_count": null,
   "metadata": {
    "hidden": true
   },
   "outputs": [],
   "source": [
    "model.fit_generator(generator=train_gen,validation_data=val_gen,use_multiprocessing=True,workers=6,verbose=1\n",
    "                    ,callbacks=[finder],epochs=5)"
   ]
  },
  {
   "cell_type": "code",
   "execution_count": null,
   "metadata": {
    "hidden": true
   },
   "outputs": [],
   "source": [
    "finder.plot(skip_last=1)"
   ]
  },
  {
   "cell_type": "code",
   "execution_count": null,
   "metadata": {
    "hidden": true
   },
   "outputs": [],
   "source": [
    "import gc\n",
    "del model\n",
    "gc.collect()"
   ]
  },
  {
   "cell_type": "markdown",
   "metadata": {
    "heading_collapsed": true
   },
   "source": [
    "### After finding learning rate\n",
    "max_lr,min_lr=1e-2,1e-6"
   ]
  },
  {
   "cell_type": "code",
   "execution_count": 28,
   "metadata": {
    "hidden": true
   },
   "outputs": [],
   "source": [
    "bone = build_bone(n_stacks=3,dropout=True,p=0.1)\n",
    "neck=bone.output\n",
    "neck = Dense(256,kernel_initializer='he_normal',kernel_regularizer=keras.regularizers.l2(1e-4))(neck)\n",
    "neck = BatchNormalization()(neck)\n",
    "neck=Activation('relu')(neck)\n",
    "\n",
    "def build_tower(neck,p=0.1,hids=[128,128]):\n",
    "    x = Dropout(p)(neck)\n",
    "    x = Dense(hids[0],kernel_initializer='he_normal',kernel_regularizer=keras.regularizers.l2(1e-4))(x)\n",
    "    x=BatchNormalization()(x)\n",
    "    x = Activation('relu')(x)\n",
    "    x = Dropout(p)(x)\n",
    "    x = Dense(hids[1],kernel_initializer='he_normal',kernel_regularizer=keras.regularizers.l2(1e-4))(x)\n",
    "    x=BatchNormalization()(x)\n",
    "    x = Activation('relu')(x)\n",
    "    return x\n",
    "def build_head(tower,name):\n",
    "    return Dense(num_units[name],activation='softmax',kernel_initializer='he_normal',name=\"{}_output\".format(name))(tower)\n",
    "age = build_head(build_tower(neck),\"age\")\n",
    "image = build_head(build_tower(neck),\"imagequality\")\n",
    "emotion = build_head(build_tower(neck),\"emotion\")\n",
    "bag = build_head(build_tower(neck),\"carryingbag\")\n",
    "weight = build_head(build_tower(neck),\"weight\")\n",
    "foot = build_head(build_tower(neck),\"footwear\")\n",
    "gender = build_head(build_tower(neck),\"gender\")\n",
    "body = build_head(build_tower(neck),\"bodypose\")\n",
    "\n",
    "model= Model(bone.input,outputs=[age,image,emotion,bag,weight,foot,gender,body]) "
   ]
  },
  {
   "cell_type": "code",
   "execution_count": 29,
   "metadata": {
    "hidden": true
   },
   "outputs": [],
   "source": [
    "losses={\"age_output\":\"categorical_crossentropy\",\"gender_output\":\"binary_crossentropy\",\"footwear_output\":\"categorical_crossentropy\",\"weight_output\":\"categorical_crossentropy\"\n",
    "       ,\"bodypose_output\":\"categorical_crossentropy\",\"carryingbag_output\":\"categorical_crossentropy\",\"emotion_output\":\"categorical_crossentropy\",\"imagequality_output\":\"categorical_crossentropy\"}\n",
    "opt = keras.optimizers.SGD(lr=0.001,momentum=0.9)\n",
    "loss_weights={\"age_output\":3,\"gender_output\":1,\"footwear_output\":2,\"bodypose_output\":1,\n",
    "             \"carryingbag_output\":3,\"emotion_output\":3,\"imagequality_output\":2,\"weight_output\":2}\n",
    "max_lr=1e-2\n",
    "min_lr=5e-6\n",
    "NEPOCHS=80\n",
    "sched=LR_scheduler(max_lr=max_lr,min_lr=min_lr,tot_batches=NEPOCHS*len(train_gen),steps=[0.25,0.75,1.])\n",
    "\n",
    "model.compile(optimizer=opt,loss=losses,metrics=['accuracy'])#,loss_weights=loss_weights)"
   ]
  },
  {
   "cell_type": "code",
   "execution_count": 30,
   "metadata": {
    "hidden": true,
    "scrolled": true
   },
   "outputs": [
    {
     "name": "stdout",
     "output_type": "stream",
     "text": [
      "WARNING:tensorflow:From /local/mnt/workspace/usr/rishubh/anaconda3/envs/eip/lib/python3.6/site-packages/tensorflow_core/python/ops/math_grad.py:1424: where (from tensorflow.python.ops.array_ops) is deprecated and will be removed in a future version.\n",
      "Instructions for updating:\n",
      "Use tf.where in 2.0, which has the same broadcast rule as np.where\n",
      "WARNING:tensorflow:From /local/mnt/workspace/usr/rishubh/anaconda3/envs/eip/lib/python3.6/site-packages/keras/backend/tensorflow_backend.py:422: The name tf.global_variables is deprecated. Please use tf.compat.v1.global_variables instead.\n",
      "\n",
      "Epoch 1/80\n",
      "  2/360 [..............................] - ETA: 32:21 - loss: 11.7135 - age_output_loss: 1.8818 - imagequality_output_loss: 1.0539 - emotion_output_loss: 1.4913 - carryingbag_output_loss: 1.2665 - weight_output_loss: 1.6823 - footwear_output_loss: 1.3184 - gender_output_loss: 0.7135 - bodypose_output_loss: 1.1975 - age_output_accuracy: 0.2500 - imagequality_output_accuracy: 0.4375 - emotion_output_accuracy: 0.3906 - carryingbag_output_accuracy: 0.3750 - weight_output_accuracy: 0.2188 - footwear_output_accuracy: 0.4062 - gender_output_accuracy: 0.6250 - bodypose_output_accuracy: 0.4219"
     ]
    },
    {
     "name": "stderr",
     "output_type": "stream",
     "text": [
      "/local/mnt/workspace/usr/rishubh/anaconda3/envs/eip/lib/python3.6/site-packages/keras/callbacks/callbacks.py:95: RuntimeWarning: Method (on_train_batch_end) is slow compared to the batch update (0.649952). Check your callbacks.\n",
      "  % (hook_name, delta_t_median), RuntimeWarning)\n"
     ]
    },
    {
     "name": "stdout",
     "output_type": "stream",
     "text": [
      "360/360 [==============================] - 153s 424ms/step - loss: 10.4562 - age_output_loss: 1.6846 - imagequality_output_loss: 1.1170 - emotion_output_loss: 1.1446 - carryingbag_output_loss: 1.1050 - weight_output_loss: 1.2545 - footwear_output_loss: 1.1929 - gender_output_loss: 0.7824 - bodypose_output_loss: 1.0666 - age_output_accuracy: 0.2980 - imagequality_output_accuracy: 0.4654 - emotion_output_accuracy: 0.5908 - carryingbag_output_accuracy: 0.4658 - weight_output_accuracy: 0.4720 - footwear_output_accuracy: 0.3885 - gender_output_accuracy: 0.5126 - bodypose_output_accuracy: 0.5104 - val_loss: 9.3014 - val_age_output_loss: 1.5126 - val_imagequality_output_loss: 1.0299 - val_emotion_output_loss: 0.9304 - val_carryingbag_output_loss: 0.9379 - val_weight_output_loss: 1.0008 - val_footwear_output_loss: 1.0544 - val_gender_output_loss: 0.6987 - val_bodypose_output_loss: 0.9518 - val_age_output_accuracy: 0.3135 - val_imagequality_output_accuracy: 0.5620 - val_emotion_output_accuracy: 0.7061 - val_carryingbag_output_accuracy: 0.4743 - val_weight_output_accuracy: 0.6447 - val_footwear_output_accuracy: 0.4516 - val_gender_output_accuracy: 0.5393 - val_bodypose_output_accuracy: 0.6195\n",
      "Epoch Number: 0\n",
      "Learning Rate: 0.0005047500017099082\n",
      "Epoch 2/80\n",
      "360/360 [==============================] - 141s 392ms/step - loss: 9.4595 - age_output_loss: 1.5170 - imagequality_output_loss: 1.0377 - emotion_output_loss: 0.9680 - carryingbag_output_loss: 0.9811 - weight_output_loss: 1.0485 - footwear_output_loss: 1.0967 - gender_output_loss: 0.7137 - bodypose_output_loss: 0.9884 - age_output_accuracy: 0.3539 - imagequality_output_accuracy: 0.5157 - emotion_output_accuracy: 0.7041 - carryingbag_output_accuracy: 0.5229 - weight_output_accuracy: 0.6185 - footwear_output_accuracy: 0.4196 - gender_output_accuracy: 0.5406 - bodypose_output_accuracy: 0.5951 - val_loss: 9.2188 - val_age_output_loss: 1.4565 - val_imagequality_output_loss: 0.9994 - val_emotion_output_loss: 0.9433 - val_carryingbag_output_loss: 0.9217 - val_weight_output_loss: 0.9916 - val_footwear_output_loss: 1.0660 - val_gender_output_loss: 0.6829 - val_bodypose_output_loss: 0.9452 - val_age_output_accuracy: 0.3846 - val_imagequality_output_accuracy: 0.5660 - val_emotion_output_accuracy: 0.7061 - val_carryingbag_output_accuracy: 0.5529 - val_weight_output_accuracy: 0.6447 - val_footwear_output_accuracy: 0.4335 - val_gender_output_accuracy: 0.5524 - val_bodypose_output_accuracy: 0.6195\n",
      "Epoch Number: 1\n",
      "Learning Rate: 0.0010044999653473496\n",
      "Epoch 3/80\n",
      "360/360 [==============================] - 141s 392ms/step - loss: 9.2263 - age_output_loss: 1.4793 - imagequality_output_loss: 1.0131 - emotion_output_loss: 0.9441 - carryingbag_output_loss: 0.9499 - weight_output_loss: 1.0173 - footwear_output_loss: 1.0623 - gender_output_loss: 0.6955 - bodypose_output_loss: 0.9574 - age_output_accuracy: 0.3681 - imagequality_output_accuracy: 0.5378 - emotion_output_accuracy: 0.7109 - carryingbag_output_accuracy: 0.5438 - weight_output_accuracy: 0.6266 - footwear_output_accuracy: 0.4319 - gender_output_accuracy: 0.5490 - bodypose_output_accuracy: 0.6119 - val_loss: 9.2179 - val_age_output_loss: 1.4358 - val_imagequality_output_loss: 0.9773 - val_emotion_output_loss: 0.9276 - val_carryingbag_output_loss: 0.9208 - val_weight_output_loss: 0.9847 - val_footwear_output_loss: 1.0481 - val_gender_output_loss: 0.6865 - val_bodypose_output_loss: 0.9734 - val_age_output_accuracy: 0.3851 - val_imagequality_output_accuracy: 0.5660 - val_emotion_output_accuracy: 0.7061 - val_carryingbag_output_accuracy: 0.5529 - val_weight_output_accuracy: 0.6447 - val_footwear_output_accuracy: 0.4360 - val_gender_output_accuracy: 0.5499 - val_bodypose_output_accuracy: 0.6195\n",
      "Epoch Number: 2\n",
      "Learning Rate: 0.001504249987192452\n",
      "Epoch 4/80\n",
      "359/360 [============================>.] - ETA: 0s - loss: 9.1243 - age_output_loss: 1.4537 - imagequality_output_loss: 0.9999 - emotion_output_loss: 0.9307 - carryingbag_output_loss: 0.9386 - weight_output_loss: 1.0067 - footwear_output_loss: 1.0557 - gender_output_loss: 0.6891 - bodypose_output_loss: 0.9444 - age_output_accuracy: 0.3850 - imagequality_output_accuracy: 0.5404 - emotion_output_accuracy: 0.7126 - carryingbag_output_accuracy: 0.5517 - weight_output_accuracy: 0.6313 - footwear_output_accuracy: 0.4375 - gender_output_accuracy: 0.5507 - bodypose_output_accuracy: 0.6156Learning Rate: 0.001504249987192452\n",
      "360/360 [==============================] - 141s 393ms/step - loss: 9.1239 - age_output_loss: 1.4537 - imagequality_output_loss: 1.0000 - emotion_output_loss: 0.9308 - carryingbag_output_loss: 0.9385 - weight_output_loss: 1.0061 - footwear_output_loss: 1.0557 - gender_output_loss: 0.6892 - bodypose_output_loss: 0.9443 - age_output_accuracy: 0.3854 - imagequality_output_accuracy: 0.5404 - emotion_output_accuracy: 0.7124 - carryingbag_output_accuracy: 0.5516 - weight_output_accuracy: 0.6315 - footwear_output_accuracy: 0.4376 - gender_output_accuracy: 0.5510 - bodypose_output_accuracy: 0.6156 - val_loss: 9.2522 - val_age_output_loss: 1.4444 - val_imagequality_output_loss: 0.9958 - val_emotion_output_loss: 0.9428 - val_carryingbag_output_loss: 0.9260 - val_weight_output_loss: 0.9919 - val_footwear_output_loss: 1.0518 - val_gender_output_loss: 0.6978 - val_bodypose_output_loss: 0.9446 - val_age_output_accuracy: 0.3866 - val_imagequality_output_accuracy: 0.5660 - val_emotion_output_accuracy: 0.7061 - val_carryingbag_output_accuracy: 0.5529 - val_weight_output_accuracy: 0.6447 - val_footwear_output_accuracy: 0.4320 - val_gender_output_accuracy: 0.4506 - val_bodypose_output_accuracy: 0.6195\n",
      "Epoch Number: 3\n",
      "Learning Rate: 0.0020039998926222324\n",
      "Epoch 5/80\n",
      "360/360 [==============================] - 141s 392ms/step - loss: 9.0786 - age_output_loss: 1.4451 - imagequality_output_loss: 0.9960 - emotion_output_loss: 0.9218 - carryingbag_output_loss: 0.9316 - weight_output_loss: 1.0018 - footwear_output_loss: 1.0521 - gender_output_loss: 0.6861 - bodypose_output_loss: 0.9413 - age_output_accuracy: 0.3846 - imagequality_output_accuracy: 0.5475 - emotion_output_accuracy: 0.7121 - carryingbag_output_accuracy: 0.5553 - weight_output_accuracy: 0.6321 - footwear_output_accuracy: 0.4340 - gender_output_accuracy: 0.5536 - bodypose_output_accuracy: 0.6155 - val_loss: 9.2140 - val_age_output_loss: 1.4308 - val_imagequality_output_loss: 0.9695 - val_emotion_output_loss: 0.9318 - val_carryingbag_output_loss: 0.9319 - val_weight_output_loss: 0.9848 - val_footwear_output_loss: 1.0417 - val_gender_output_loss: 0.6829 - val_bodypose_output_loss: 0.9579 - val_age_output_accuracy: 0.3866 - val_imagequality_output_accuracy: 0.5660 - val_emotion_output_accuracy: 0.7061 - val_carryingbag_output_accuracy: 0.5529 - val_weight_output_accuracy: 0.6447 - val_footwear_output_accuracy: 0.4466 - val_gender_output_accuracy: 0.5514 - val_bodypose_output_accuracy: 0.6195\n",
      "Epoch Number: 4\n",
      "Learning Rate: 0.0025037499144673347\n",
      "Epoch 6/80\n",
      "359/360 [============================>.] - ETA: 0s - loss: 9.0428 - age_output_loss: 1.4419 - imagequality_output_loss: 0.9921 - emotion_output_loss: 0.9209 - carryingbag_output_loss: 0.9286 - weight_output_loss: 0.9993 - footwear_output_loss: 1.0409 - gender_output_loss: 0.6841 - bodypose_output_loss: 0.9358 - age_output_accuracy: 0.3908 - imagequality_output_accuracy: 0.5455 - emotion_output_accuracy: 0.7127 - carryingbag_output_accuracy: 0.5563 - weight_output_accuracy: 0.6319 - footwear_output_accuracy: 0.4494 - gender_output_accuracy: 0.5597 - bodypose_output_accuracy: 0.6157Epoch Number: 4\n",
      "Learning Rate: 0.0025037499144673347\n",
      "360/360 [==============================] - 141s 393ms/step - loss: 9.0440 - age_output_loss: 1.4419 - imagequality_output_loss: 0.9923 - emotion_output_loss: 0.9213 - carryingbag_output_loss: 0.9287 - weight_output_loss: 0.9994 - footwear_output_loss: 1.0412 - gender_output_loss: 0.6841 - bodypose_output_loss: 0.9360 - age_output_accuracy: 0.3905 - imagequality_output_accuracy: 0.5454 - emotion_output_accuracy: 0.7126 - carryingbag_output_accuracy: 0.5564 - weight_output_accuracy: 0.6319 - footwear_output_accuracy: 0.4490 - gender_output_accuracy: 0.5595 - bodypose_output_accuracy: 0.6155 - val_loss: 10.3592 - val_age_output_loss: 1.7209 - val_imagequality_output_loss: 1.2526 - val_emotion_output_loss: 1.0465 - val_carryingbag_output_loss: 0.9428 - val_weight_output_loss: 1.0260 - val_footwear_output_loss: 1.1754 - val_gender_output_loss: 0.6907 - val_bodypose_output_loss: 1.0008 - val_age_output_accuracy: 0.3866 - val_imagequality_output_accuracy: 0.2329 - val_emotion_output_accuracy: 0.7061 - val_carryingbag_output_accuracy: 0.5529 - val_weight_output_accuracy: 0.6447 - val_footwear_output_accuracy: 0.4320 - val_gender_output_accuracy: 0.5509 - val_bodypose_output_accuracy: 0.6195\n",
      "Epoch Number: 5\n",
      "Learning Rate: 0.003003499936312437\n",
      "Epoch 7/80\n",
      "360/360 [==============================] - 142s 394ms/step - loss: 9.0253 - age_output_loss: 1.4440 - imagequality_output_loss: 0.9834 - emotion_output_loss: 0.9181 - carryingbag_output_loss: 0.9293 - weight_output_loss: 1.0008 - footwear_output_loss: 1.0306 - gender_output_loss: 0.6844 - bodypose_output_loss: 0.9398 - age_output_accuracy: 0.3926 - imagequality_output_accuracy: 0.5437 - emotion_output_accuracy: 0.7127 - carryingbag_output_accuracy: 0.5559 - weight_output_accuracy: 0.6321 - footwear_output_accuracy: 0.4670 - gender_output_accuracy: 0.5660 - bodypose_output_accuracy: 0.6157 - val_loss: 9.2408 - val_age_output_loss: 1.4383 - val_imagequality_output_loss: 0.9863 - val_emotion_output_loss: 0.9353 - val_carryingbag_output_loss: 0.9523 - val_weight_output_loss: 1.0166 - val_footwear_output_loss: 1.1003 - val_gender_output_loss: 0.6993 - val_bodypose_output_loss: 0.9243 - val_age_output_accuracy: 0.3866 - val_imagequality_output_accuracy: 0.5660 - val_emotion_output_accuracy: 0.7061 - val_carryingbag_output_accuracy: 0.4234 - val_weight_output_accuracy: 0.6447 - val_footwear_output_accuracy: 0.4330 - val_gender_output_accuracy: 0.4652 - val_bodypose_output_accuracy: 0.6195\n",
      "Epoch Number: 6\n",
      "Learning Rate: 0.0035032499581575394\n",
      "Epoch 8/80\n",
      "360/360 [==============================] - 141s 392ms/step - loss: 8.9541 - age_output_loss: 1.4365 - imagequality_output_loss: 0.9740 - emotion_output_loss: 0.9169 - carryingbag_output_loss: 0.9239 - weight_output_loss: 0.9935 - footwear_output_loss: 1.0050 - gender_output_loss: 0.6777 - bodypose_output_loss: 0.9362 - age_output_accuracy: 0.3889 - imagequality_output_accuracy: 0.5411 - emotion_output_accuracy: 0.7129 - carryingbag_output_accuracy: 0.5523 - weight_output_accuracy: 0.6315 - footwear_output_accuracy: 0.4999 - gender_output_accuracy: 0.5658 - bodypose_output_accuracy: 0.6168 - val_loss: 9.2116 - val_age_output_loss: 1.4768 - val_imagequality_output_loss: 1.0009 - val_emotion_output_loss: 0.9824 - val_carryingbag_output_loss: 0.9267 - val_weight_output_loss: 0.9933 - val_footwear_output_loss: 1.0056 - val_gender_output_loss: 0.6823 - val_bodypose_output_loss: 0.9594 - val_age_output_accuracy: 0.3866 - val_imagequality_output_accuracy: 0.5665 - val_emotion_output_accuracy: 0.7061 - val_carryingbag_output_accuracy: 0.5529 - val_weight_output_accuracy: 0.6447 - val_footwear_output_accuracy: 0.4995 - val_gender_output_accuracy: 0.5746 - val_bodypose_output_accuracy: 0.6195\n",
      "Epoch Number: 7\n",
      "Learning Rate: 0.004002999980002642\n",
      "Epoch 9/80\n",
      "359/360 [============================>.] - ETA: 0s - loss: 8.8826 - age_output_loss: 1.4332 - imagequality_output_loss: 0.9610 - emotion_output_loss: 0.9197 - carryingbag_output_loss: 0.9230 - weight_output_loss: 0.9944 - footwear_output_loss: 0.9667 - gender_output_loss: 0.6639 - bodypose_output_loss: 0.9353 - age_output_accuracy: 0.3908 - imagequality_output_accuracy: 0.5474 - emotion_output_accuracy: 0.7125 - carryingbag_output_accuracy: 0.5522 - weight_output_accuracy: 0.6295 - footwear_output_accuracy: 0.5427 - gender_output_accuracy: 0.5811 - bodypose_output_accuracy: 0.6157Epoch Number: 7\n",
      "360/360 [==============================] - 142s 394ms/step - loss: 8.8837 - age_output_loss: 1.4332 - imagequality_output_loss: 0.9611 - emotion_output_loss: 0.9199 - carryingbag_output_loss: 0.9231 - weight_output_loss: 0.9949 - footwear_output_loss: 0.9668 - gender_output_loss: 0.6640 - bodypose_output_loss: 0.9353 - age_output_accuracy: 0.3908 - imagequality_output_accuracy: 0.5472 - emotion_output_accuracy: 0.7123 - carryingbag_output_accuracy: 0.5523 - weight_output_accuracy: 0.6294 - footwear_output_accuracy: 0.5427 - gender_output_accuracy: 0.5813 - bodypose_output_accuracy: 0.6155 - val_loss: 9.4587 - val_age_output_loss: 1.4662 - val_imagequality_output_loss: 1.0401 - val_emotion_output_loss: 1.0488 - val_carryingbag_output_loss: 1.0065 - val_weight_output_loss: 1.0038 - val_footwear_output_loss: 1.0901 - val_gender_output_loss: 0.7162 - val_bodypose_output_loss: 0.9377 - val_age_output_accuracy: 0.3861 - val_imagequality_output_accuracy: 0.5645 - val_emotion_output_accuracy: 0.6588 - val_carryingbag_output_accuracy: 0.5529 - val_weight_output_accuracy: 0.6447 - val_footwear_output_accuracy: 0.3982 - val_gender_output_accuracy: 0.5524 - val_bodypose_output_accuracy: 0.6195\n",
      "Epoch Number: 8\n",
      "Learning Rate: 0.004502750001847744\n",
      "Epoch 10/80\n",
      "360/360 [==============================] - 142s 393ms/step - loss: 8.8177 - age_output_loss: 1.4284 - imagequality_output_loss: 0.9511 - emotion_output_loss: 0.9138 - carryingbag_output_loss: 0.9192 - weight_output_loss: 0.9930 - footwear_output_loss: 0.9411 - gender_output_loss: 0.6598 - bodypose_output_loss: 0.9315 - age_output_accuracy: 0.3898 - imagequality_output_accuracy: 0.5441 - emotion_output_accuracy: 0.7126 - carryingbag_output_accuracy: 0.5536 - weight_output_accuracy: 0.6325 - footwear_output_accuracy: 0.5592 - gender_output_accuracy: 0.5926 - bodypose_output_accuracy: 0.6146 - val_loss: 9.1774 - val_age_output_loss: 1.4653 - val_imagequality_output_loss: 1.0145 - val_emotion_output_loss: 0.9603 - val_carryingbag_output_loss: 0.9159 - val_weight_output_loss: 1.0557 - val_footwear_output_loss: 0.9509 - val_gender_output_loss: 0.7072 - val_bodypose_output_loss: 0.9270 - val_age_output_accuracy: 0.3866 - val_imagequality_output_accuracy: 0.5549 - val_emotion_output_accuracy: 0.7061 - val_carryingbag_output_accuracy: 0.5534 - val_weight_output_accuracy: 0.6447 - val_footwear_output_accuracy: 0.5741 - val_gender_output_accuracy: 0.5287 - val_bodypose_output_accuracy: 0.6195\n",
      "Epoch Number: 9\n",
      "Learning Rate: 0.005002500023692846\n",
      "Epoch 11/80\n",
      "360/360 [==============================] - 141s 392ms/step - loss: 8.7757 - age_output_loss: 1.4293 - imagequality_output_loss: 0.9515 - emotion_output_loss: 0.9130 - carryingbag_output_loss: 0.9153 - weight_output_loss: 0.9976 - footwear_output_loss: 0.9247 - gender_output_loss: 0.6487 - bodypose_output_loss: 0.9219 - age_output_accuracy: 0.3907 - imagequality_output_accuracy: 0.5463 - emotion_output_accuracy: 0.7127 - carryingbag_output_accuracy: 0.5543 - weight_output_accuracy: 0.6314 - footwear_output_accuracy: 0.5707 - gender_output_accuracy: 0.6068 - bodypose_output_accuracy: 0.6149 - val_loss: 8.8778 - val_age_output_loss: 1.4576 - val_imagequality_output_loss: 0.9702 - val_emotion_output_loss: 0.9320 - val_carryingbag_output_loss: 0.9229 - val_weight_output_loss: 0.9998 - val_footwear_output_loss: 0.9165 - val_gender_output_loss: 0.6928 - val_bodypose_output_loss: 0.9249 - val_age_output_accuracy: 0.3377 - val_imagequality_output_accuracy: 0.5338 - val_emotion_output_accuracy: 0.7061 - val_carryingbag_output_accuracy: 0.5469 - val_weight_output_accuracy: 0.6447 - val_footwear_output_accuracy: 0.6013 - val_gender_output_accuracy: 0.5398 - val_bodypose_output_accuracy: 0.6205\n",
      "Epoch Number: 10\n",
      "Learning Rate: 0.005502250045537949\n",
      "Epoch 12/80\n",
      "360/360 [==============================] - 141s 392ms/step - loss: 8.7209 - age_output_loss: 1.4273 - imagequality_output_loss: 0.9496 - emotion_output_loss: 0.9090 - carryingbag_output_loss: 0.9117 - weight_output_loss: 0.9929 - footwear_output_loss: 0.9133 - gender_output_loss: 0.6418 - bodypose_output_loss: 0.9080 - age_output_accuracy: 0.3909 - imagequality_output_accuracy: 0.5497 - emotion_output_accuracy: 0.7125 - carryingbag_output_accuracy: 0.5586 - weight_output_accuracy: 0.6297 - footwear_output_accuracy: 0.5802 - gender_output_accuracy: 0.6197 - bodypose_output_accuracy: 0.6172 - val_loss: 10.1320 - val_age_output_loss: 1.6415 - val_imagequality_output_loss: 1.4508 - val_emotion_output_loss: 0.9566 - val_carryingbag_output_loss: 0.9725 - val_weight_output_loss: 1.0296 - val_footwear_output_loss: 0.9693 - val_gender_output_loss: 0.8973 - val_bodypose_output_loss: 1.1170 - val_age_output_accuracy: 0.3866 - val_imagequality_output_accuracy: 0.2903 - val_emotion_output_accuracy: 0.7061 - val_carryingbag_output_accuracy: 0.5333 - val_weight_output_accuracy: 0.6447 - val_footwear_output_accuracy: 0.5575 - val_gender_output_accuracy: 0.4561 - val_bodypose_output_accuracy: 0.6195\n",
      "Epoch Number: 11\n",
      "Learning Rate: 0.006002000067383051\n",
      "Epoch 13/80\n",
      "360/360 [==============================] - 142s 394ms/step - loss: 8.6589 - age_output_loss: 1.4194 - imagequality_output_loss: 0.9487 - emotion_output_loss: 0.9100 - carryingbag_output_loss: 0.9095 - weight_output_loss: 0.9892 - footwear_output_loss: 0.9072 - gender_output_loss: 0.6358 - bodypose_output_loss: 0.8783 - age_output_accuracy: 0.3871 - imagequality_output_accuracy: 0.5414 - emotion_output_accuracy: 0.7128 - carryingbag_output_accuracy: 0.5621 - weight_output_accuracy: 0.6297 - footwear_output_accuracy: 0.5858 - gender_output_accuracy: 0.6236 - bodypose_output_accuracy: 0.6215 - val_loss: 9.7784 - val_age_output_loss: 1.4636 - val_imagequality_output_loss: 1.3657 - val_emotion_output_loss: 1.1053 - val_carryingbag_output_loss: 0.9122 - val_weight_output_loss: 1.0096 - val_footwear_output_loss: 1.0632 - val_gender_output_loss: 0.6511 - val_bodypose_output_loss: 0.8744 - val_age_output_accuracy: 0.3856 - val_imagequality_output_accuracy: 0.3906 - val_emotion_output_accuracy: 0.7061 - val_carryingbag_output_accuracy: 0.5539 - val_weight_output_accuracy: 0.6447 - val_footwear_output_accuracy: 0.4904 - val_gender_output_accuracy: 0.6174 - val_bodypose_output_accuracy: 0.6462\n",
      "Epoch Number: 12\n",
      "Learning Rate: 0.006501750089228153\n",
      "Epoch 14/80\n",
      "360/360 [==============================] - 142s 393ms/step - loss: 8.5658 - age_output_loss: 1.4227 - imagequality_output_loss: 0.9466 - emotion_output_loss: 0.9038 - carryingbag_output_loss: 0.9043 - weight_output_loss: 0.9873 - footwear_output_loss: 0.8922 - gender_output_loss: 0.6165 - bodypose_output_loss: 0.8385 - age_output_accuracy: 0.3941 - imagequality_output_accuracy: 0.5462 - emotion_output_accuracy: 0.7131 - carryingbag_output_accuracy: 0.5703 - weight_output_accuracy: 0.6304 - footwear_output_accuracy: 0.5946 - gender_output_accuracy: 0.6487 - bodypose_output_accuracy: 0.6388 - val_loss: 8.6953 - val_age_output_loss: 1.4269 - val_imagequality_output_loss: 1.0044 - val_emotion_output_loss: 0.9115 - val_carryingbag_output_loss: 0.8942 - val_weight_output_loss: 1.0025 - val_footwear_output_loss: 0.8535 - val_gender_output_loss: 0.6432 - val_bodypose_output_loss: 0.8012 - val_age_output_accuracy: 0.3866 - val_imagequality_output_accuracy: 0.5297 - val_emotion_output_accuracy: 0.7061 - val_carryingbag_output_accuracy: 0.5746 - val_weight_output_accuracy: 0.6447 - val_footwear_output_accuracy: 0.6305 - val_gender_output_accuracy: 0.6255 - val_bodypose_output_accuracy: 0.6467\n",
      "Epoch Number: 13\n",
      "Learning Rate: 0.0070015001110732555\n",
      "Epoch 15/80\n",
      "360/360 [==============================] - 141s 393ms/step - loss: 8.4823 - age_output_loss: 1.4181 - imagequality_output_loss: 0.9372 - emotion_output_loss: 0.9013 - carryingbag_output_loss: 0.9010 - weight_output_loss: 0.9849 - footwear_output_loss: 0.8839 - gender_output_loss: 0.6097 - bodypose_output_loss: 0.7990 - age_output_accuracy: 0.3887 - imagequality_output_accuracy: 0.5527 - emotion_output_accuracy: 0.7125 - carryingbag_output_accuracy: 0.5687 - weight_output_accuracy: 0.6297 - footwear_output_accuracy: 0.5991 - gender_output_accuracy: 0.6602 - bodypose_output_accuracy: 0.6553 - val_loss: 9.2125 - val_age_output_loss: 1.4424 - val_imagequality_output_loss: 1.3149 - val_emotion_output_loss: 0.9114 - val_carryingbag_output_loss: 0.9523 - val_weight_output_loss: 0.9797 - val_footwear_output_loss: 0.9387 - val_gender_output_loss: 0.5900 - val_bodypose_output_loss: 0.7777 - val_age_output_accuracy: 0.3866 - val_imagequality_output_accuracy: 0.3881 - val_emotion_output_accuracy: 0.7061 - val_carryingbag_output_accuracy: 0.5529 - val_weight_output_accuracy: 0.6447 - val_footwear_output_accuracy: 0.5227 - val_gender_output_accuracy: 0.6719 - val_bodypose_output_accuracy: 0.6815\n",
      "Epoch Number: 14\n",
      "Learning Rate: 0.007501250132918358\n",
      "Epoch 16/80\n",
      "360/360 [==============================] - 142s 393ms/step - loss: 8.3963 - age_output_loss: 1.4166 - imagequality_output_loss: 0.9398 - emotion_output_loss: 0.8946 - carryingbag_output_loss: 0.8970 - weight_output_loss: 0.9867 - footwear_output_loss: 0.8740 - gender_output_loss: 0.5921 - bodypose_output_loss: 0.7550 - age_output_accuracy: 0.3891 - imagequality_output_accuracy: 0.5495 - emotion_output_accuracy: 0.7128 - carryingbag_output_accuracy: 0.5699 - weight_output_accuracy: 0.6296 - footwear_output_accuracy: 0.6080 - gender_output_accuracy: 0.6764 - bodypose_output_accuracy: 0.6752 - val_loss: 8.6050 - val_age_output_loss: 1.4284 - val_imagequality_output_loss: 0.9858 - val_emotion_output_loss: 0.9065 - val_carryingbag_output_loss: 0.8834 - val_weight_output_loss: 1.0624 - val_footwear_output_loss: 0.8645 - val_gender_output_loss: 0.6118 - val_bodypose_output_loss: 0.7200 - val_age_output_accuracy: 0.3286 - val_imagequality_output_accuracy: 0.5731 - val_emotion_output_accuracy: 0.7061 - val_carryingbag_output_accuracy: 0.5832 - val_weight_output_accuracy: 0.6447 - val_footwear_output_accuracy: 0.6139 - val_gender_output_accuracy: 0.6593 - val_bodypose_output_accuracy: 0.7001\n",
      "Epoch Number: 15\n",
      "Learning Rate: 0.008000999689102173\n",
      "Epoch 17/80\n",
      "359/360 [============================>.] - ETA: 0s - loss: 8.2987 - age_output_loss: 1.4083 - imagequality_output_loss: 0.9384 - emotion_output_loss: 0.8902 - carryingbag_output_loss: 0.8935 - weight_output_loss: 0.9801 - footwear_output_loss: 0.8671 - gender_output_loss: 0.5668 - bodypose_output_loss: 0.7208 - age_output_accuracy: 0.3901 - imagequality_output_accuracy: 0.5522 - emotion_output_accuracy: 0.7129 - carryingbag_output_accuracy: 0.5717 - weight_output_accuracy: 0.6308 - footwear_output_accuracy: 0.6115 - gender_output_accuracy: 0.7022 - bodypose_output_accuracy: 0.6916Epoch Number: 15\n",
      "360/360 [==============================] - 142s 393ms/step - loss: 8.2990 - age_output_loss: 1.4083 - imagequality_output_loss: 0.9388 - emotion_output_loss: 0.8904 - carryingbag_output_loss: 0.8934 - weight_output_loss: 0.9806 - footwear_output_loss: 0.8668 - gender_output_loss: 0.5667 - bodypose_output_loss: 0.7206 - age_output_accuracy: 0.3902 - imagequality_output_accuracy: 0.5521 - emotion_output_accuracy: 0.7128 - carryingbag_output_accuracy: 0.5720 - weight_output_accuracy: 0.6306 - footwear_output_accuracy: 0.6117 - gender_output_accuracy: 0.7023 - bodypose_output_accuracy: 0.6916 - val_loss: 8.7431 - val_age_output_loss: 1.4004 - val_imagequality_output_loss: 1.2225 - val_emotion_output_loss: 0.9064 - val_carryingbag_output_loss: 0.8833 - val_weight_output_loss: 0.9908 - val_footwear_output_loss: 0.8477 - val_gender_output_loss: 0.6332 - val_bodypose_output_loss: 0.7681 - val_age_output_accuracy: 0.3841 - val_imagequality_output_accuracy: 0.3931 - val_emotion_output_accuracy: 0.7061 - val_carryingbag_output_accuracy: 0.6018 - val_weight_output_accuracy: 0.6457 - val_footwear_output_accuracy: 0.6270 - val_gender_output_accuracy: 0.6431 - val_bodypose_output_accuracy: 0.6694\n",
      "Epoch Number: 16\n",
      "Learning Rate: 0.008500750176608562\n",
      "Epoch 18/80\n",
      "360/360 [==============================] - 141s 393ms/step - loss: 8.2281 - age_output_loss: 1.4115 - imagequality_output_loss: 0.9331 - emotion_output_loss: 0.8889 - carryingbag_output_loss: 0.8886 - weight_output_loss: 0.9887 - footwear_output_loss: 0.8509 - gender_output_loss: 0.5461 - bodypose_output_loss: 0.6937 - age_output_accuracy: 0.3919 - imagequality_output_accuracy: 0.5479 - emotion_output_accuracy: 0.7123 - carryingbag_output_accuracy: 0.5807 - weight_output_accuracy: 0.6285 - footwear_output_accuracy: 0.6220 - gender_output_accuracy: 0.7208 - bodypose_output_accuracy: 0.7055 - val_loss: 8.7279 - val_age_output_loss: 1.4045 - val_imagequality_output_loss: 1.0478 - val_emotion_output_loss: 0.9475 - val_carryingbag_output_loss: 0.8841 - val_weight_output_loss: 0.9854 - val_footwear_output_loss: 0.8478 - val_gender_output_loss: 0.5523 - val_bodypose_output_loss: 0.7800 - val_age_output_accuracy: 0.3846 - val_imagequality_output_accuracy: 0.4803 - val_emotion_output_accuracy: 0.7061 - val_carryingbag_output_accuracy: 0.5726 - val_weight_output_accuracy: 0.6431 - val_footwear_output_accuracy: 0.6260 - val_gender_output_accuracy: 0.7117 - val_bodypose_output_accuracy: 0.6522\n",
      "Epoch Number: 17\n",
      "Learning Rate: 0.009000499732792377\n",
      "Epoch 19/80\n",
      "360/360 [==============================] - 142s 394ms/step - loss: 8.1460 - age_output_loss: 1.4053 - imagequality_output_loss: 0.9296 - emotion_output_loss: 0.8839 - carryingbag_output_loss: 0.8822 - weight_output_loss: 0.9837 - footwear_output_loss: 0.8471 - gender_output_loss: 0.5266 - bodypose_output_loss: 0.6680 - age_output_accuracy: 0.3940 - imagequality_output_accuracy: 0.5558 - emotion_output_accuracy: 0.7122 - carryingbag_output_accuracy: 0.5877 - weight_output_accuracy: 0.6292 - footwear_output_accuracy: 0.6196 - gender_output_accuracy: 0.7345 - bodypose_output_accuracy: 0.7119 - val_loss: 8.4630 - val_age_output_loss: 1.4020 - val_imagequality_output_loss: 0.9625 - val_emotion_output_loss: 0.9069 - val_carryingbag_output_loss: 0.8773 - val_weight_output_loss: 0.9793 - val_footwear_output_loss: 0.8688 - val_gender_output_loss: 0.4770 - val_bodypose_output_loss: 0.6091 - val_age_output_accuracy: 0.3866 - val_imagequality_output_accuracy: 0.5454 - val_emotion_output_accuracy: 0.7056 - val_carryingbag_output_accuracy: 0.5837 - val_weight_output_accuracy: 0.6447 - val_footwear_output_accuracy: 0.6069 - val_gender_output_accuracy: 0.7581 - val_bodypose_output_accuracy: 0.7545\n",
      "Epoch Number: 18\n",
      "Learning Rate: 0.009500250220298767\n",
      "Epoch 20/80\n",
      "360/360 [==============================] - 142s 394ms/step - loss: 8.0561 - age_output_loss: 1.4000 - imagequality_output_loss: 0.9275 - emotion_output_loss: 0.8850 - carryingbag_output_loss: 0.8790 - weight_output_loss: 0.9743 - footwear_output_loss: 0.8395 - gender_output_loss: 0.5029 - bodypose_output_loss: 0.6358 - age_output_accuracy: 0.3905 - imagequality_output_accuracy: 0.5553 - emotion_output_accuracy: 0.7122 - carryingbag_output_accuracy: 0.5916 - weight_output_accuracy: 0.6305 - footwear_output_accuracy: 0.6240 - gender_output_accuracy: 0.7521 - bodypose_output_accuracy: 0.7318 - val_loss: 8.2399 - val_age_output_loss: 1.4034 - val_imagequality_output_loss: 0.9032 - val_emotion_output_loss: 0.9556 - val_carryingbag_output_loss: 0.8788 - val_weight_output_loss: 0.9703 - val_footwear_output_loss: 0.8486 - val_gender_output_loss: 0.4546 - val_bodypose_output_loss: 0.6099 - val_age_output_accuracy: 0.3906 - val_imagequality_output_accuracy: 0.5842 - val_emotion_output_accuracy: 0.7061 - val_carryingbag_output_accuracy: 0.5806 - val_weight_output_accuracy: 0.6406 - val_footwear_output_accuracy: 0.6190 - val_gender_output_accuracy: 0.7838 - val_bodypose_output_accuracy: 0.7495\n",
      "Epoch Number: 19\n",
      "Learning Rate: 0.009999999776482582\n",
      "Epoch 21/80\n",
      "360/360 [==============================] - 142s 393ms/step - loss: 7.9987 - age_output_loss: 1.3974 - imagequality_output_loss: 0.9337 - emotion_output_loss: 0.8817 - carryingbag_output_loss: 0.8726 - weight_output_loss: 0.9759 - footwear_output_loss: 0.8305 - gender_output_loss: 0.4813 - bodypose_output_loss: 0.6215 - age_output_accuracy: 0.3938 - imagequality_output_accuracy: 0.5504 - emotion_output_accuracy: 0.7120 - carryingbag_output_accuracy: 0.5993 - weight_output_accuracy: 0.6299 - footwear_output_accuracy: 0.6313 - gender_output_accuracy: 0.7646 - bodypose_output_accuracy: 0.7403 - val_loss: 8.0199 - val_age_output_loss: 1.4006 - val_imagequality_output_loss: 0.8989 - val_emotion_output_loss: 0.9003 - val_carryingbag_output_loss: 0.8709 - val_weight_output_loss: 0.9651 - val_footwear_output_loss: 0.8331 - val_gender_output_loss: 0.4108 - val_bodypose_output_loss: 0.5819 - val_age_output_accuracy: 0.3881 - val_imagequality_output_accuracy: 0.5943 - val_emotion_output_accuracy: 0.7061 - val_carryingbag_output_accuracy: 0.6043 - val_weight_output_accuracy: 0.6351 - val_footwear_output_accuracy: 0.6391 - val_gender_output_accuracy: 0.8170 - val_bodypose_output_accuracy: 0.7495\n",
      "Epoch Number: 20\n",
      "Learning Rate: 0.009750124998390675\n",
      "Epoch 22/80\n",
      "360/360 [==============================] - 141s 393ms/step - loss: 7.8955 - age_output_loss: 1.3900 - imagequality_output_loss: 0.9244 - emotion_output_loss: 0.8784 - carryingbag_output_loss: 0.8682 - weight_output_loss: 0.9687 - footwear_output_loss: 0.8169 - gender_output_loss: 0.4546 - bodypose_output_loss: 0.5981 - age_output_accuracy: 0.3947 - imagequality_output_accuracy: 0.5558 - emotion_output_accuracy: 0.7123 - carryingbag_output_accuracy: 0.6020 - weight_output_accuracy: 0.6306 - footwear_output_accuracy: 0.6382 - gender_output_accuracy: 0.7839 - bodypose_output_accuracy: 0.7487 - val_loss: 7.8942 - val_age_output_loss: 1.3734 - val_imagequality_output_loss: 0.9099 - val_emotion_output_loss: 0.8843 - val_carryingbag_output_loss: 0.9131 - val_weight_output_loss: 0.9567 - val_footwear_output_loss: 0.8073 - val_gender_output_loss: 0.4539 - val_bodypose_output_loss: 0.5666 - val_age_output_accuracy: 0.3952 - val_imagequality_output_accuracy: 0.5736 - val_emotion_output_accuracy: 0.7061 - val_carryingbag_output_accuracy: 0.5892 - val_weight_output_accuracy: 0.6406 - val_footwear_output_accuracy: 0.6316 - val_gender_output_accuracy: 0.7928 - val_bodypose_output_accuracy: 0.7656\n",
      "Epoch Number: 21\n",
      "Learning Rate: 0.009500250220298767\n",
      "Epoch 23/80\n",
      "359/360 [============================>.] - ETA: 0s - loss: 7.8086 - age_output_loss: 1.3775 - imagequality_output_loss: 0.9191 - emotion_output_loss: 0.8717 - carryingbag_output_loss: 0.8592 - weight_output_loss: 0.9650 - footwear_output_loss: 0.8148 - gender_output_loss: 0.4401 - bodypose_output_loss: 0.5729 - age_output_accuracy: 0.3968 - imagequality_output_accuracy: 0.5564 - emotion_output_accuracy: 0.7129 - carryingbag_output_accuracy: 0.6101 - weight_output_accuracy: 0.6321 - footwear_output_accuracy: 0.6408 - gender_output_accuracy: 0.7959 - bodypose_output_accuracy: 0.7674Epoch Number: 21\n",
      "360/360 [==============================] - 142s 393ms/step - loss: 7.8090 - age_output_loss: 1.3776 - imagequality_output_loss: 0.9190 - emotion_output_loss: 0.8712 - carryingbag_output_loss: 0.8597 - weight_output_loss: 0.9653 - footwear_output_loss: 0.8153 - gender_output_loss: 0.4401 - bodypose_output_loss: 0.5725 - age_output_accuracy: 0.3968 - imagequality_output_accuracy: 0.5564 - emotion_output_accuracy: 0.7132 - carryingbag_output_accuracy: 0.6098 - weight_output_accuracy: 0.6318 - footwear_output_accuracy: 0.6406 - gender_output_accuracy: 0.7960 - bodypose_output_accuracy: 0.7675 - val_loss: 7.9530 - val_age_output_loss: 1.3544 - val_imagequality_output_loss: 0.9110 - val_emotion_output_loss: 0.8991 - val_carryingbag_output_loss: 0.8591 - val_weight_output_loss: 0.9488 - val_footwear_output_loss: 0.7971 - val_gender_output_loss: 0.3966 - val_bodypose_output_loss: 0.5734 - val_age_output_accuracy: 0.3936 - val_imagequality_output_accuracy: 0.5630 - val_emotion_output_accuracy: 0.7061 - val_carryingbag_output_accuracy: 0.6038 - val_weight_output_accuracy: 0.6457 - val_footwear_output_accuracy: 0.6522 - val_gender_output_accuracy: 0.8201 - val_bodypose_output_accuracy: 0.7641\n",
      "Epoch Number: 22\n",
      "Learning Rate: 0.00925037544220686\n",
      "Epoch 24/80\n",
      "360/360 [==============================] - 142s 394ms/step - loss: 7.7475 - age_output_loss: 1.3721 - imagequality_output_loss: 0.9148 - emotion_output_loss: 0.8696 - carryingbag_output_loss: 0.8546 - weight_output_loss: 0.9574 - footwear_output_loss: 0.8168 - gender_output_loss: 0.4281 - bodypose_output_loss: 0.5538 - age_output_accuracy: 0.4001 - imagequality_output_accuracy: 0.5601 - emotion_output_accuracy: 0.7129 - carryingbag_output_accuracy: 0.6143 - weight_output_accuracy: 0.6331 - footwear_output_accuracy: 0.6377 - gender_output_accuracy: 0.8022 - bodypose_output_accuracy: 0.7679 - val_loss: 7.8094 - val_age_output_loss: 1.3448 - val_imagequality_output_loss: 0.9131 - val_emotion_output_loss: 0.8858 - val_carryingbag_output_loss: 0.8937 - val_weight_output_loss: 0.9503 - val_footwear_output_loss: 0.7948 - val_gender_output_loss: 0.3901 - val_bodypose_output_loss: 0.5223 - val_age_output_accuracy: 0.3992 - val_imagequality_output_accuracy: 0.5771 - val_emotion_output_accuracy: 0.7061 - val_carryingbag_output_accuracy: 0.5675 - val_weight_output_accuracy: 0.6442 - val_footwear_output_accuracy: 0.6537 - val_gender_output_accuracy: 0.8160 - val_bodypose_output_accuracy: 0.7908\n",
      "Epoch Number: 23\n",
      "Learning Rate: 0.009000499732792377\n",
      "Epoch 25/80\n",
      "360/360 [==============================] - 142s 393ms/step - loss: 7.6613 - age_output_loss: 1.3631 - imagequality_output_loss: 0.9155 - emotion_output_loss: 0.8643 - carryingbag_output_loss: 0.8472 - weight_output_loss: 0.9526 - footwear_output_loss: 0.8048 - gender_output_loss: 0.4085 - bodypose_output_loss: 0.5327 - age_output_accuracy: 0.4022 - imagequality_output_accuracy: 0.5612 - emotion_output_accuracy: 0.7128 - carryingbag_output_accuracy: 0.6155 - weight_output_accuracy: 0.6344 - footwear_output_accuracy: 0.6424 - gender_output_accuracy: 0.8107 - bodypose_output_accuracy: 0.7859 - val_loss: 7.9245 - val_age_output_loss: 1.3519 - val_imagequality_output_loss: 0.9327 - val_emotion_output_loss: 0.8940 - val_carryingbag_output_loss: 0.8740 - val_weight_output_loss: 0.9511 - val_footwear_output_loss: 0.8542 - val_gender_output_loss: 0.4101 - val_bodypose_output_loss: 0.5254 - val_age_output_accuracy: 0.4047 - val_imagequality_output_accuracy: 0.5761 - val_emotion_output_accuracy: 0.7061 - val_carryingbag_output_accuracy: 0.5867 - val_weight_output_accuracy: 0.6447 - val_footwear_output_accuracy: 0.6018 - val_gender_output_accuracy: 0.8095 - val_bodypose_output_accuracy: 0.7999\n",
      "Epoch Number: 24\n",
      "Learning Rate: 0.00875062495470047\n",
      "Epoch 26/80\n",
      "360/360 [==============================] - 142s 394ms/step - loss: 7.6038 - age_output_loss: 1.3564 - imagequality_output_loss: 0.9095 - emotion_output_loss: 0.8650 - carryingbag_output_loss: 0.8447 - weight_output_loss: 0.9527 - footwear_output_loss: 0.7942 - gender_output_loss: 0.3958 - bodypose_output_loss: 0.5206 - age_output_accuracy: 0.4062 - imagequality_output_accuracy: 0.5632 - emotion_output_accuracy: 0.7128 - carryingbag_output_accuracy: 0.6255 - weight_output_accuracy: 0.6341 - footwear_output_accuracy: 0.6486 - gender_output_accuracy: 0.8210 - bodypose_output_accuracy: 0.7902 - val_loss: 7.6900 - val_age_output_loss: 1.3467 - val_imagequality_output_loss: 0.8748 - val_emotion_output_loss: 0.8822 - val_carryingbag_output_loss: 0.8248 - val_weight_output_loss: 0.9410 - val_footwear_output_loss: 0.7749 - val_gender_output_loss: 0.3449 - val_bodypose_output_loss: 0.4725 - val_age_output_accuracy: 0.4017 - val_imagequality_output_accuracy: 0.5973 - val_emotion_output_accuracy: 0.7061 - val_carryingbag_output_accuracy: 0.6406 - val_weight_output_accuracy: 0.6442 - val_footwear_output_accuracy: 0.6502 - val_gender_output_accuracy: 0.8564 - val_bodypose_output_accuracy: 0.8180\n",
      "Epoch Number: 25\n",
      "Learning Rate: 0.008500750176608562\n",
      "Epoch 27/80\n",
      "360/360 [==============================] - 141s 393ms/step - loss: 7.5258 - age_output_loss: 1.3479 - imagequality_output_loss: 0.9066 - emotion_output_loss: 0.8604 - carryingbag_output_loss: 0.8350 - weight_output_loss: 0.9455 - footwear_output_loss: 0.7890 - gender_output_loss: 0.3772 - bodypose_output_loss: 0.5067 - age_output_accuracy: 0.4079 - imagequality_output_accuracy: 0.5644 - emotion_output_accuracy: 0.7127 - carryingbag_output_accuracy: 0.6293 - weight_output_accuracy: 0.6358 - footwear_output_accuracy: 0.6506 - gender_output_accuracy: 0.8352 - bodypose_output_accuracy: 0.7958 - val_loss: 7.9060 - val_age_output_loss: 1.3617 - val_imagequality_output_loss: 0.9508 - val_emotion_output_loss: 0.8773 - val_carryingbag_output_loss: 0.8418 - val_weight_output_loss: 0.9495 - val_footwear_output_loss: 0.8961 - val_gender_output_loss: 0.3872 - val_bodypose_output_loss: 0.5108 - val_age_output_accuracy: 0.3821 - val_imagequality_output_accuracy: 0.5433 - val_emotion_output_accuracy: 0.7061 - val_carryingbag_output_accuracy: 0.6069 - val_weight_output_accuracy: 0.6406 - val_footwear_output_accuracy: 0.6018 - val_gender_output_accuracy: 0.8322 - val_bodypose_output_accuracy: 0.7969\n",
      "Epoch Number: 26\n",
      "Learning Rate: 0.008250875398516655\n",
      "Epoch 28/80\n",
      "359/360 [============================>.] - ETA: 0s - loss: 7.4855 - age_output_loss: 1.3389 - imagequality_output_loss: 0.9009 - emotion_output_loss: 0.8604 - carryingbag_output_loss: 0.8253 - weight_output_loss: 0.9397 - footwear_output_loss: 0.7903 - gender_output_loss: 0.3737 - bodypose_output_loss: 0.5058 - age_output_accuracy: 0.4105 - imagequality_output_accuracy: 0.5709 - emotion_output_accuracy: 0.7129 - carryingbag_output_accuracy: 0.6358 - weight_output_accuracy: 0.6369 - footwear_output_accuracy: 0.6479 - gender_output_accuracy: 0.8323 - bodypose_output_accuracy: 0.7988Epoch Number: 26\n",
      "360/360 [==============================] - 142s 393ms/step - loss: 7.4854 - age_output_loss: 1.3389 - imagequality_output_loss: 0.9011 - emotion_output_loss: 0.8607 - carryingbag_output_loss: 0.8253 - weight_output_loss: 0.9397 - footwear_output_loss: 0.7898 - gender_output_loss: 0.3740 - bodypose_output_loss: 0.5056 - age_output_accuracy: 0.4105 - imagequality_output_accuracy: 0.5708 - emotion_output_accuracy: 0.7128 - carryingbag_output_accuracy: 0.6359 - weight_output_accuracy: 0.6372 - footwear_output_accuracy: 0.6479 - gender_output_accuracy: 0.8321 - bodypose_output_accuracy: 0.7990 - val_loss: 7.6925 - val_age_output_loss: 1.3280 - val_imagequality_output_loss: 0.8881 - val_emotion_output_loss: 0.8795 - val_carryingbag_output_loss: 0.8382 - val_weight_output_loss: 0.9239 - val_footwear_output_loss: 0.7705 - val_gender_output_loss: 0.3471 - val_bodypose_output_loss: 0.5131 - val_age_output_accuracy: 0.4062 - val_imagequality_output_accuracy: 0.5761 - val_emotion_output_accuracy: 0.7061 - val_carryingbag_output_accuracy: 0.6205 - val_weight_output_accuracy: 0.6457 - val_footwear_output_accuracy: 0.6628 - val_gender_output_accuracy: 0.8478 - val_bodypose_output_accuracy: 0.7984\n",
      "Epoch Number: 27\n",
      "Learning Rate: 0.008000999689102173\n",
      "Epoch 29/80\n",
      "359/360 [============================>.] - ETA: 0s - loss: 7.4441 - age_output_loss: 1.3370 - imagequality_output_loss: 0.8984 - emotion_output_loss: 0.8589 - carryingbag_output_loss: 0.8226 - weight_output_loss: 0.9390 - footwear_output_loss: 0.7870 - gender_output_loss: 0.3673 - bodypose_output_loss: 0.4903 - age_output_accuracy: 0.4110 - imagequality_output_accuracy: 0.5694 - emotion_output_accuracy: 0.7127 - carryingbag_output_accuracy: 0.6349 - weight_output_accuracy: 0.6383 - footwear_output_accuracy: 0.6517 - gender_output_accuracy: 0.8359 - bodypose_output_accuracy: 0.8058Learning Rate: 0.008000999689102173\n",
      "360/360 [==============================] - 142s 394ms/step - loss: 7.4445 - age_output_loss: 1.3377 - imagequality_output_loss: 0.8982 - emotion_output_loss: 0.8592 - carryingbag_output_loss: 0.8221 - weight_output_loss: 0.9391 - footwear_output_loss: 0.7872 - gender_output_loss: 0.3672 - bodypose_output_loss: 0.4903 - age_output_accuracy: 0.4104 - imagequality_output_accuracy: 0.5696 - emotion_output_accuracy: 0.7127 - carryingbag_output_accuracy: 0.6352 - weight_output_accuracy: 0.6381 - footwear_output_accuracy: 0.6515 - gender_output_accuracy: 0.8359 - bodypose_output_accuracy: 0.8058 - val_loss: 7.9986 - val_age_output_loss: 1.3411 - val_imagequality_output_loss: 1.0518 - val_emotion_output_loss: 0.8794 - val_carryingbag_output_loss: 0.9788 - val_weight_output_loss: 0.9434 - val_footwear_output_loss: 0.7792 - val_gender_output_loss: 0.3378 - val_bodypose_output_loss: 0.5243 - val_age_output_accuracy: 0.3679 - val_imagequality_output_accuracy: 0.4950 - val_emotion_output_accuracy: 0.7061 - val_carryingbag_output_accuracy: 0.5842 - val_weight_output_accuracy: 0.6336 - val_footwear_output_accuracy: 0.6562 - val_gender_output_accuracy: 0.8493 - val_bodypose_output_accuracy: 0.7964\n",
      "Epoch Number: 28\n",
      "Learning Rate: 0.007751124911010265\n",
      "Epoch 30/80\n",
      "360/360 [==============================] - 142s 394ms/step - loss: 7.3821 - age_output_loss: 1.3311 - imagequality_output_loss: 0.8992 - emotion_output_loss: 0.8554 - carryingbag_output_loss: 0.8162 - weight_output_loss: 0.9332 - footwear_output_loss: 0.7863 - gender_output_loss: 0.3513 - bodypose_output_loss: 0.4725 - age_output_accuracy: 0.4155 - imagequality_output_accuracy: 0.5694 - emotion_output_accuracy: 0.7124 - carryingbag_output_accuracy: 0.6417 - weight_output_accuracy: 0.6400 - footwear_output_accuracy: 0.6521 - gender_output_accuracy: 0.8457 - bodypose_output_accuracy: 0.8155 - val_loss: 7.8538 - val_age_output_loss: 1.3207 - val_imagequality_output_loss: 1.0800 - val_emotion_output_loss: 0.9028 - val_carryingbag_output_loss: 0.9243 - val_weight_output_loss: 0.9658 - val_footwear_output_loss: 0.7724 - val_gender_output_loss: 0.3476 - val_bodypose_output_loss: 0.5223 - val_age_output_accuracy: 0.3931 - val_imagequality_output_accuracy: 0.5010 - val_emotion_output_accuracy: 0.7061 - val_carryingbag_output_accuracy: 0.5827 - val_weight_output_accuracy: 0.6351 - val_footwear_output_accuracy: 0.6603 - val_gender_output_accuracy: 0.8478 - val_bodypose_output_accuracy: 0.7933\n",
      "Epoch Number: 29\n",
      "Learning Rate: 0.007501250132918358\n",
      "Epoch 31/80\n",
      "360/360 [==============================] - 141s 393ms/step - loss: 7.3518 - age_output_loss: 1.3262 - imagequality_output_loss: 0.8994 - emotion_output_loss: 0.8571 - carryingbag_output_loss: 0.8091 - weight_output_loss: 0.9303 - footwear_output_loss: 0.7758 - gender_output_loss: 0.3519 - bodypose_output_loss: 0.4716 - age_output_accuracy: 0.4226 - imagequality_output_accuracy: 0.5645 - emotion_output_accuracy: 0.7128 - carryingbag_output_accuracy: 0.6481 - weight_output_accuracy: 0.6405 - footwear_output_accuracy: 0.6576 - gender_output_accuracy: 0.8459 - bodypose_output_accuracy: 0.8155 - val_loss: 7.5363 - val_age_output_loss: 1.3506 - val_imagequality_output_loss: 0.8823 - val_emotion_output_loss: 0.8758 - val_carryingbag_output_loss: 0.8606 - val_weight_output_loss: 0.9363 - val_footwear_output_loss: 0.8017 - val_gender_output_loss: 0.4164 - val_bodypose_output_loss: 0.4648 - val_age_output_accuracy: 0.4088 - val_imagequality_output_accuracy: 0.5882 - val_emotion_output_accuracy: 0.7061 - val_carryingbag_output_accuracy: 0.6260 - val_weight_output_accuracy: 0.6467 - val_footwear_output_accuracy: 0.6426 - val_gender_output_accuracy: 0.8196 - val_bodypose_output_accuracy: 0.8241\n",
      "Epoch Number: 30\n",
      "Learning Rate: 0.007251374889165163\n",
      "Epoch 32/80\n",
      "359/360 [============================>.] - ETA: 0s - loss: 7.2885 - age_output_loss: 1.3145 - imagequality_output_loss: 0.8950 - emotion_output_loss: 0.8483 - carryingbag_output_loss: 0.8095 - weight_output_loss: 0.9250 - footwear_output_loss: 0.7782 - gender_output_loss: 0.3367 - bodypose_output_loss: 0.4569 - age_output_accuracy: 0.4180 - imagequality_output_accuracy: 0.5714 - emotion_output_accuracy: 0.7131 - carryingbag_output_accuracy: 0.6453 - weight_output_accuracy: 0.6382 - footwear_output_accuracy: 0.6531 - gender_output_accuracy: 0.8566 - bodypose_output_accuracy: 0.8208Epoch Number: 30\n",
      "360/360 [==============================] - 142s 394ms/step - loss: 7.2899 - age_output_loss: 1.3149 - imagequality_output_loss: 0.8946 - emotion_output_loss: 0.8495 - carryingbag_output_loss: 0.8093 - weight_output_loss: 0.9251 - footwear_output_loss: 0.7786 - gender_output_loss: 0.3367 - bodypose_output_loss: 0.4569 - age_output_accuracy: 0.4176 - imagequality_output_accuracy: 0.5716 - emotion_output_accuracy: 0.7125 - carryingbag_output_accuracy: 0.6454 - weight_output_accuracy: 0.6384 - footwear_output_accuracy: 0.6533 - gender_output_accuracy: 0.8567 - bodypose_output_accuracy: 0.8208 - val_loss: 7.4432 - val_age_output_loss: 1.3398 - val_imagequality_output_loss: 0.9142 - val_emotion_output_loss: 0.9004 - val_carryingbag_output_loss: 0.7972 - val_weight_output_loss: 0.9471 - val_footwear_output_loss: 0.7693 - val_gender_output_loss: 0.3873 - val_bodypose_output_loss: 0.4612 - val_age_output_accuracy: 0.4153 - val_imagequality_output_accuracy: 0.5837 - val_emotion_output_accuracy: 0.7061 - val_carryingbag_output_accuracy: 0.6557 - val_weight_output_accuracy: 0.6436 - val_footwear_output_accuracy: 0.6653 - val_gender_output_accuracy: 0.8352 - val_bodypose_output_accuracy: 0.8185\n",
      "Epoch Number: 31\n",
      "Learning Rate: 0.0070015001110732555\n",
      "Epoch 33/80\n",
      "360/360 [==============================] - 142s 394ms/step - loss: 7.2675 - age_output_loss: 1.3085 - imagequality_output_loss: 0.8926 - emotion_output_loss: 0.8505 - carryingbag_output_loss: 0.8050 - weight_output_loss: 0.9209 - footwear_output_loss: 0.7745 - gender_output_loss: 0.3394 - bodypose_output_loss: 0.4576 - age_output_accuracy: 0.4262 - imagequality_output_accuracy: 0.5710 - emotion_output_accuracy: 0.7128 - carryingbag_output_accuracy: 0.6520 - weight_output_accuracy: 0.6442 - footwear_output_accuracy: 0.6604 - gender_output_accuracy: 0.8513 - bodypose_output_accuracy: 0.8214 - val_loss: 7.5195 - val_age_output_loss: 1.3197 - val_imagequality_output_loss: 1.0168 - val_emotion_output_loss: 0.8808 - val_carryingbag_output_loss: 0.8089 - val_weight_output_loss: 0.9234 - val_footwear_output_loss: 0.7700 - val_gender_output_loss: 0.3120 - val_bodypose_output_loss: 0.4270 - val_age_output_accuracy: 0.4113 - val_imagequality_output_accuracy: 0.5171 - val_emotion_output_accuracy: 0.7061 - val_carryingbag_output_accuracy: 0.6285 - val_weight_output_accuracy: 0.6411 - val_footwear_output_accuracy: 0.6613 - val_gender_output_accuracy: 0.8695 - val_bodypose_output_accuracy: 0.8448\n",
      "Epoch Number: 32\n",
      "Learning Rate: 0.006751624867320061\n",
      "Epoch 34/80\n",
      "360/360 [==============================] - 142s 393ms/step - loss: 7.2319 - age_output_loss: 1.3162 - imagequality_output_loss: 0.8910 - emotion_output_loss: 0.8505 - carryingbag_output_loss: 0.7964 - weight_output_loss: 0.9195 - footwear_output_loss: 0.7700 - gender_output_loss: 0.3300 - bodypose_output_loss: 0.4457 - age_output_accuracy: 0.4192 - imagequality_output_accuracy: 0.5725 - emotion_output_accuracy: 0.7123 - carryingbag_output_accuracy: 0.6511 - weight_output_accuracy: 0.6439 - footwear_output_accuracy: 0.6587 - gender_output_accuracy: 0.8559 - bodypose_output_accuracy: 0.8291 - val_loss: 7.2197 - val_age_output_loss: 1.3096 - val_imagequality_output_loss: 0.9059 - val_emotion_output_loss: 0.8815 - val_carryingbag_output_loss: 0.8025 - val_weight_output_loss: 0.9256 - val_footwear_output_loss: 0.7604 - val_gender_output_loss: 0.2874 - val_bodypose_output_loss: 0.4418 - val_age_output_accuracy: 0.4209 - val_imagequality_output_accuracy: 0.5665 - val_emotion_output_accuracy: 0.7061 - val_carryingbag_output_accuracy: 0.6547 - val_weight_output_accuracy: 0.6462 - val_footwear_output_accuracy: 0.6739 - val_gender_output_accuracy: 0.8770 - val_bodypose_output_accuracy: 0.8352\n",
      "Epoch Number: 33\n",
      "Learning Rate: 0.006501750089228153\n",
      "Epoch 35/80\n",
      "360/360 [==============================] - 142s 394ms/step - loss: 7.1874 - age_output_loss: 1.3003 - imagequality_output_loss: 0.8842 - emotion_output_loss: 0.8478 - carryingbag_output_loss: 0.7978 - weight_output_loss: 0.9150 - footwear_output_loss: 0.7580 - gender_output_loss: 0.3291 - bodypose_output_loss: 0.4480 - age_output_accuracy: 0.4259 - imagequality_output_accuracy: 0.5809 - emotion_output_accuracy: 0.7122 - carryingbag_output_accuracy: 0.6558 - weight_output_accuracy: 0.6371 - footwear_output_accuracy: 0.6674 - gender_output_accuracy: 0.8590 - bodypose_output_accuracy: 0.8257 - val_loss: 7.4009 - val_age_output_loss: 1.3260 - val_imagequality_output_loss: 0.8875 - val_emotion_output_loss: 0.8831 - val_carryingbag_output_loss: 0.8050 - val_weight_output_loss: 0.9128 - val_footwear_output_loss: 0.8115 - val_gender_output_loss: 0.3032 - val_bodypose_output_loss: 0.4483 - val_age_output_accuracy: 0.4113 - val_imagequality_output_accuracy: 0.5887 - val_emotion_output_accuracy: 0.7061 - val_carryingbag_output_accuracy: 0.6341 - val_weight_output_accuracy: 0.6487 - val_footwear_output_accuracy: 0.6381 - val_gender_output_accuracy: 0.8805 - val_bodypose_output_accuracy: 0.8357\n",
      "Epoch Number: 34\n",
      "Learning Rate: 0.006251874845474958\n",
      "Epoch 36/80\n",
      "359/360 [============================>.] - ETA: 0s - loss: 7.1382 - age_output_loss: 1.2957 - imagequality_output_loss: 0.8866 - emotion_output_loss: 0.8455 - carryingbag_output_loss: 0.7855 - weight_output_loss: 0.9104 - footwear_output_loss: 0.7591 - gender_output_loss: 0.3203 - bodypose_output_loss: 0.4331 - age_output_accuracy: 0.4310 - imagequality_output_accuracy: 0.5746 - emotion_output_accuracy: 0.7130 - carryingbag_output_accuracy: 0.6651 - weight_output_accuracy: 0.6458 - footwear_output_accuracy: 0.6638 - gender_output_accuracy: 0.8642 - bodypose_output_accuracy: 0.8342Learning Rate: 0.006251874845474958\n",
      "360/360 [==============================] - 142s 394ms/step - loss: 7.1390 - age_output_loss: 1.2960 - imagequality_output_loss: 0.8872 - emotion_output_loss: 0.8455 - carryingbag_output_loss: 0.7856 - weight_output_loss: 0.9104 - footwear_output_loss: 0.7593 - gender_output_loss: 0.3201 - bodypose_output_loss: 0.4332 - age_output_accuracy: 0.4309 - imagequality_output_accuracy: 0.5743 - emotion_output_accuracy: 0.7131 - carryingbag_output_accuracy: 0.6650 - weight_output_accuracy: 0.6457 - footwear_output_accuracy: 0.6638 - gender_output_accuracy: 0.8645 - bodypose_output_accuracy: 0.8339 - val_loss: 7.5103 - val_age_output_loss: 1.3088 - val_imagequality_output_loss: 0.9710 - val_emotion_output_loss: 0.8851 - val_carryingbag_output_loss: 0.9596 - val_weight_output_loss: 0.9232 - val_footwear_output_loss: 0.7814 - val_gender_output_loss: 0.4245 - val_bodypose_output_loss: 0.4343 - val_age_output_accuracy: 0.4224 - val_imagequality_output_accuracy: 0.5318 - val_emotion_output_accuracy: 0.7061 - val_carryingbag_output_accuracy: 0.6013 - val_weight_output_accuracy: 0.6477 - val_footwear_output_accuracy: 0.6583 - val_gender_output_accuracy: 0.8236 - val_bodypose_output_accuracy: 0.8352\n",
      "Epoch Number: 35\n",
      "Learning Rate: 0.006002000067383051\n",
      "Epoch 37/80\n",
      "359/360 [============================>.] - ETA: 0s - loss: 7.1049 - age_output_loss: 1.2881 - imagequality_output_loss: 0.8847 - emotion_output_loss: 0.8430 - carryingbag_output_loss: 0.7894 - weight_output_loss: 0.9062 - footwear_output_loss: 0.7555 - gender_output_loss: 0.3092 - bodypose_output_loss: 0.4320 - age_output_accuracy: 0.4332 - imagequality_output_accuracy: 0.5773 - emotion_output_accuracy: 0.7132 - carryingbag_output_accuracy: 0.6616 - weight_output_accuracy: 0.6462 - footwear_output_accuracy: 0.6671 - gender_output_accuracy: 0.8701 - bodypose_output_accuracy: 0.8320\n",
      "360/360 [==============================] - 141s 393ms/step - loss: 7.1050 - age_output_loss: 1.2880 - imagequality_output_loss: 0.8844 - emotion_output_loss: 0.8433 - carryingbag_output_loss: 0.7897 - weight_output_loss: 0.9063 - footwear_output_loss: 0.7554 - gender_output_loss: 0.3091 - bodypose_output_loss: 0.4322 - age_output_accuracy: 0.4331 - imagequality_output_accuracy: 0.5776 - emotion_output_accuracy: 0.7129 - carryingbag_output_accuracy: 0.6615 - weight_output_accuracy: 0.6461 - footwear_output_accuracy: 0.6671 - gender_output_accuracy: 0.8701 - bodypose_output_accuracy: 0.8319 - val_loss: 7.2694 - val_age_output_loss: 1.3236 - val_imagequality_output_loss: 0.9157 - val_emotion_output_loss: 0.8834 - val_carryingbag_output_loss: 0.8214 - val_weight_output_loss: 0.9031 - val_footwear_output_loss: 0.7473 - val_gender_output_loss: 0.3224 - val_bodypose_output_loss: 0.4449 - val_age_output_accuracy: 0.4052 - val_imagequality_output_accuracy: 0.5650 - val_emotion_output_accuracy: 0.7056 - val_carryingbag_output_accuracy: 0.6391 - val_weight_output_accuracy: 0.6552 - val_footwear_output_accuracy: 0.6764 - val_gender_output_accuracy: 0.8654 - val_bodypose_output_accuracy: 0.8322\n",
      "Epoch Number: 36\n",
      "Learning Rate: 0.005752124823629856\n",
      "Epoch 38/80\n",
      "359/360 [============================>.] - ETA: 0s - loss: 7.0588 - age_output_loss: 1.2869 - imagequality_output_loss: 0.8802 - emotion_output_loss: 0.8403 - carryingbag_output_loss: 0.7822 - weight_output_loss: 0.9036 - footwear_output_loss: 0.7571 - gender_output_loss: 0.2980 - bodypose_output_loss: 0.4186 - age_output_accuracy: 0.4306 - imagequality_output_accuracy: 0.5763 - emotion_output_accuracy: 0.7132 - carryingbag_output_accuracy: 0.6641 - weight_output_accuracy: 0.6482 - footwear_output_accuracy: 0.6685 - gender_output_accuracy: 0.8753 - bodypose_output_accuracy: 0.8402Learning Rate: 0.005752124823629856\n",
      "360/360 [==============================] - 141s 393ms/step - loss: 7.0604 - age_output_loss: 1.2873 - imagequality_output_loss: 0.8809 - emotion_output_loss: 0.8406 - carryingbag_output_loss: 0.7824 - weight_output_loss: 0.9038 - footwear_output_loss: 0.7566 - gender_output_loss: 0.2980 - bodypose_output_loss: 0.4188 - age_output_accuracy: 0.4305 - imagequality_output_accuracy: 0.5760 - emotion_output_accuracy: 0.7129 - carryingbag_output_accuracy: 0.6640 - weight_output_accuracy: 0.6483 - footwear_output_accuracy: 0.6689 - gender_output_accuracy: 0.8753 - bodypose_output_accuracy: 0.8401 - val_loss: 7.2742 - val_age_output_loss: 1.2979 - val_imagequality_output_loss: 0.8716 - val_emotion_output_loss: 0.8790 - val_carryingbag_output_loss: 0.7937 - val_weight_output_loss: 0.9370 - val_footwear_output_loss: 0.8044 - val_gender_output_loss: 0.3083 - val_bodypose_output_loss: 0.4143 - val_age_output_accuracy: 0.4194 - val_imagequality_output_accuracy: 0.5897 - val_emotion_output_accuracy: 0.7061 - val_carryingbag_output_accuracy: 0.6527 - val_weight_output_accuracy: 0.6290 - val_footwear_output_accuracy: 0.6356 - val_gender_output_accuracy: 0.8700 - val_bodypose_output_accuracy: 0.8528\n",
      "Epoch Number: 37\n",
      "Learning Rate: 0.005502250045537949\n",
      "Epoch 39/80\n",
      "359/360 [============================>.] - ETA: 0s - loss: 7.0205 - age_output_loss: 1.2784 - imagequality_output_loss: 0.8738 - emotion_output_loss: 0.8427 - carryingbag_output_loss: 0.7786 - weight_output_loss: 0.8972 - footwear_output_loss: 0.7476 - gender_output_loss: 0.3074 - bodypose_output_loss: 0.4076 - age_output_accuracy: 0.4341 - imagequality_output_accuracy: 0.5818 - emotion_output_accuracy: 0.7127 - carryingbag_output_accuracy: 0.6668 - weight_output_accuracy: 0.6471 - footwear_output_accuracy: 0.6739 - gender_output_accuracy: 0.8689 - bodypose_output_accuracy: 0.8433Learning Rate: 0.005502250045537949\n",
      "Epoch Number: 37\n",
      "360/360 [==============================] - 141s 393ms/step - loss: 7.0197 - age_output_loss: 1.2783 - imagequality_output_loss: 0.8741 - emotion_output_loss: 0.8424 - carryingbag_output_loss: 0.7782 - weight_output_loss: 0.8971 - footwear_output_loss: 0.7476 - gender_output_loss: 0.3071 - bodypose_output_loss: 0.4078 - age_output_accuracy: 0.4340 - imagequality_output_accuracy: 0.5815 - emotion_output_accuracy: 0.7129 - carryingbag_output_accuracy: 0.6670 - weight_output_accuracy: 0.6471 - footwear_output_accuracy: 0.6736 - gender_output_accuracy: 0.8689 - bodypose_output_accuracy: 0.8433 - val_loss: 7.5840 - val_age_output_loss: 1.3227 - val_imagequality_output_loss: 0.9207 - val_emotion_output_loss: 0.8934 - val_carryingbag_output_loss: 0.8363 - val_weight_output_loss: 0.9077 - val_footwear_output_loss: 0.7845 - val_gender_output_loss: 0.4043 - val_bodypose_output_loss: 0.4397 - val_age_output_accuracy: 0.4057 - val_imagequality_output_accuracy: 0.5746 - val_emotion_output_accuracy: 0.7061 - val_carryingbag_output_accuracy: 0.6275 - val_weight_output_accuracy: 0.6552 - val_footwear_output_accuracy: 0.6573 - val_gender_output_accuracy: 0.7999 - val_bodypose_output_accuracy: 0.8357\n",
      "Epoch Number: 38\n",
      "Learning Rate: 0.005252374801784754\n",
      "Epoch 40/80\n",
      "359/360 [============================>.] - ETA: 0s - loss: 6.9932 - age_output_loss: 1.2759 - imagequality_output_loss: 0.8765 - emotion_output_loss: 0.8383 - carryingbag_output_loss: 0.7775 - weight_output_loss: 0.8991 - footwear_output_loss: 0.7452 - gender_output_loss: 0.2932 - bodypose_output_loss: 0.4047 - age_output_accuracy: 0.4355 - imagequality_output_accuracy: 0.5833 - emotion_output_accuracy: 0.7127 - carryingbag_output_accuracy: 0.6698 - weight_output_accuracy: 0.6464 - footwear_output_accuracy: 0.6716 - gender_output_accuracy: 0.8758 - bodypose_output_accuracy: 0.8441Learning Rate: 0.005252374801784754\n",
      "360/360 [==============================] - 142s 394ms/step - loss: 6.9926 - age_output_loss: 1.2755 - imagequality_output_loss: 0.8765 - emotion_output_loss: 0.8382 - carryingbag_output_loss: 0.7773 - weight_output_loss: 0.8988 - footwear_output_loss: 0.7454 - gender_output_loss: 0.2934 - bodypose_output_loss: 0.4047 - age_output_accuracy: 0.4356 - imagequality_output_accuracy: 0.5832 - emotion_output_accuracy: 0.7128 - carryingbag_output_accuracy: 0.6697 - weight_output_accuracy: 0.6464 - footwear_output_accuracy: 0.6714 - gender_output_accuracy: 0.8757 - bodypose_output_accuracy: 0.8440 - val_loss: 7.2258 - val_age_output_loss: 1.2981 - val_imagequality_output_loss: 0.8732 - val_emotion_output_loss: 0.8788 - val_carryingbag_output_loss: 0.8741 - val_weight_output_loss: 0.9123 - val_footwear_output_loss: 0.7640 - val_gender_output_loss: 0.2953 - val_bodypose_output_loss: 0.4627 - val_age_output_accuracy: 0.4194 - val_imagequality_output_accuracy: 0.5953 - val_emotion_output_accuracy: 0.7067 - val_carryingbag_output_accuracy: 0.6159 - val_weight_output_accuracy: 0.6532 - val_footwear_output_accuracy: 0.6568 - val_gender_output_accuracy: 0.8816 - val_bodypose_output_accuracy: 0.8352\n",
      "Epoch Number: 39\n",
      "Learning Rate: 0.005002500023692846\n",
      "Epoch 41/80\n",
      "360/360 [==============================] - 142s 393ms/step - loss: 6.9496 - age_output_loss: 1.2717 - imagequality_output_loss: 0.8771 - emotion_output_loss: 0.8343 - carryingbag_output_loss: 0.7679 - weight_output_loss: 0.8882 - footwear_output_loss: 0.7424 - gender_output_loss: 0.2907 - bodypose_output_loss: 0.3987 - age_output_accuracy: 0.4369 - imagequality_output_accuracy: 0.5783 - emotion_output_accuracy: 0.7131 - carryingbag_output_accuracy: 0.6753 - weight_output_accuracy: 0.6495 - footwear_output_accuracy: 0.6746 - gender_output_accuracy: 0.8762 - bodypose_output_accuracy: 0.8457 - val_loss: 6.9317 - val_age_output_loss: 1.3230 - val_imagequality_output_loss: 0.8759 - val_emotion_output_loss: 0.8798 - val_carryingbag_output_loss: 0.8042 - val_weight_output_loss: 0.9029 - val_footwear_output_loss: 0.7766 - val_gender_output_loss: 0.2727 - val_bodypose_output_loss: 0.4083 - val_age_output_accuracy: 0.4148 - val_imagequality_output_accuracy: 0.5872 - val_emotion_output_accuracy: 0.7072 - val_carryingbag_output_accuracy: 0.6537 - val_weight_output_accuracy: 0.6578 - val_footwear_output_accuracy: 0.6568 - val_gender_output_accuracy: 0.8871 - val_bodypose_output_accuracy: 0.8523\n",
      "Epoch Number: 40\n",
      "Learning Rate: 0.0047526247799396515\n",
      "Epoch 42/80\n",
      "359/360 [============================>.] - ETA: 0s - loss: 6.9296 - age_output_loss: 1.2679 - imagequality_output_loss: 0.8716 - emotion_output_loss: 0.8351 - carryingbag_output_loss: 0.7695 - weight_output_loss: 0.8866 - footwear_output_loss: 0.7433 - gender_output_loss: 0.2821 - bodypose_output_loss: 0.3990 - age_output_accuracy: 0.4338 - imagequality_output_accuracy: 0.5844 - emotion_output_accuracy: 0.7113 - carryingbag_output_accuracy: 0.6716 - weight_output_accuracy: 0.6475 - footwear_output_accuracy: 0.6754 - gender_output_accuracy: 0.8834 - bodypose_output_accuracy: 0.8469Epoch Number: 40\n",
      "360/360 [==============================] - 142s 393ms/step - loss: 6.9292 - age_output_loss: 1.2687 - imagequality_output_loss: 0.8720 - emotion_output_loss: 0.8345 - carryingbag_output_loss: 0.7694 - weight_output_loss: 0.8865 - footwear_output_loss: 0.7428 - gender_output_loss: 0.2821 - bodypose_output_loss: 0.3988 - age_output_accuracy: 0.4338 - imagequality_output_accuracy: 0.5841 - emotion_output_accuracy: 0.7115 - carryingbag_output_accuracy: 0.6715 - weight_output_accuracy: 0.6475 - footwear_output_accuracy: 0.6757 - gender_output_accuracy: 0.8832 - bodypose_output_accuracy: 0.8470 - val_loss: 7.1591 - val_age_output_loss: 1.2833 - val_imagequality_output_loss: 0.8584 - val_emotion_output_loss: 0.8784 - val_carryingbag_output_loss: 0.7828 - val_weight_output_loss: 0.9073 - val_footwear_output_loss: 0.7726 - val_gender_output_loss: 0.2774 - val_bodypose_output_loss: 0.4419 - val_age_output_accuracy: 0.4289 - val_imagequality_output_accuracy: 0.5993 - val_emotion_output_accuracy: 0.7061 - val_carryingbag_output_accuracy: 0.6578 - val_weight_output_accuracy: 0.6421 - val_footwear_output_accuracy: 0.6557 - val_gender_output_accuracy: 0.8866 - val_bodypose_output_accuracy: 0.8382\n",
      "Epoch Number: 41\n",
      "Learning Rate: 0.004502750001847744\n",
      "Epoch 43/80\n",
      "360/360 [==============================] - 142s 393ms/step - loss: 6.9008 - age_output_loss: 1.2649 - imagequality_output_loss: 0.8704 - emotion_output_loss: 0.8359 - carryingbag_output_loss: 0.7658 - weight_output_loss: 0.8818 - footwear_output_loss: 0.7449 - gender_output_loss: 0.2740 - bodypose_output_loss: 0.3923 - age_output_accuracy: 0.4424 - imagequality_output_accuracy: 0.5830 - emotion_output_accuracy: 0.7131 - carryingbag_output_accuracy: 0.6753 - weight_output_accuracy: 0.6552 - footwear_output_accuracy: 0.6724 - gender_output_accuracy: 0.8868 - bodypose_output_accuracy: 0.8534 - val_loss: 7.2046 - val_age_output_loss: 1.2893 - val_imagequality_output_loss: 0.9074 - val_emotion_output_loss: 0.8852 - val_carryingbag_output_loss: 0.7871 - val_weight_output_loss: 0.9143 - val_footwear_output_loss: 0.7706 - val_gender_output_loss: 0.2849 - val_bodypose_output_loss: 0.4096 - val_age_output_accuracy: 0.4259 - val_imagequality_output_accuracy: 0.5811 - val_emotion_output_accuracy: 0.7056 - val_carryingbag_output_accuracy: 0.6648 - val_weight_output_accuracy: 0.6492 - val_footwear_output_accuracy: 0.6633 - val_gender_output_accuracy: 0.8901 - val_bodypose_output_accuracy: 0.8508\n",
      "Epoch Number: 42\n",
      "Learning Rate: 0.0042528752237558365\n",
      "Epoch 44/80\n",
      "360/360 [==============================] - 142s 394ms/step - loss: 6.8474 - age_output_loss: 1.2523 - imagequality_output_loss: 0.8674 - emotion_output_loss: 0.8343 - carryingbag_output_loss: 0.7524 - weight_output_loss: 0.8712 - footwear_output_loss: 0.7371 - gender_output_loss: 0.2750 - bodypose_output_loss: 0.3908 - age_output_accuracy: 0.4492 - imagequality_output_accuracy: 0.5833 - emotion_output_accuracy: 0.7133 - carryingbag_output_accuracy: 0.6817 - weight_output_accuracy: 0.6557 - footwear_output_accuracy: 0.6779 - gender_output_accuracy: 0.8867 - bodypose_output_accuracy: 0.8510 - val_loss: 7.0106 - val_age_output_loss: 1.2854 - val_imagequality_output_loss: 0.8786 - val_emotion_output_loss: 0.8937 - val_carryingbag_output_loss: 0.8851 - val_weight_output_loss: 0.8950 - val_footwear_output_loss: 0.7507 - val_gender_output_loss: 0.2751 - val_bodypose_output_loss: 0.4086 - val_age_output_accuracy: 0.4098 - val_imagequality_output_accuracy: 0.5801 - val_emotion_output_accuracy: 0.7061 - val_carryingbag_output_accuracy: 0.6305 - val_weight_output_accuracy: 0.6507 - val_footwear_output_accuracy: 0.6809 - val_gender_output_accuracy: 0.8901 - val_bodypose_output_accuracy: 0.8483\n",
      "Epoch Number: 43\n",
      "Learning Rate: 0.004002999980002642\n",
      "Epoch 45/80\n",
      "360/360 [==============================] - ETA: 0s - loss: 6.8165 - age_output_loss: 1.2480 - imagequality_output_loss: 0.8640 - emotion_output_loss: 0.8336 - carryingbag_output_loss: 0.7555 - weight_output_loss: 0.8717 - footwear_output_loss: 0.7370 - gender_output_loss: 0.2643 - bodypose_output_loss: 0.3787 - age_output_accuracy: 0.4435 - imagequality_output_accuracy: 0.5874 - emotion_output_accuracy: 0.7131 - carryingbag_output_accuracy: 0.6783 - weight_output_accuracy: 0.6529 - footwear_output_accuracy: 0.6789 - gender_output_accuracy: 0.8923 - bodypose_output_accuracy: 0.856 - 142s 394ms/step - loss: 6.8161 - age_output_loss: 1.2476 - imagequality_output_loss: 0.8640 - emotion_output_loss: 0.8327 - carryingbag_output_loss: 0.7558 - weight_output_loss: 0.8717 - footwear_output_loss: 0.7373 - gender_output_loss: 0.2648 - bodypose_output_loss: 0.3786 - age_output_accuracy: 0.4438 - imagequality_output_accuracy: 0.5872 - emotion_output_accuracy: 0.7135 - carryingbag_output_accuracy: 0.6781 - weight_output_accuracy: 0.6530 - footwear_output_accuracy: 0.6786 - gender_output_accuracy: 0.8920 - bodypose_output_accuracy: 0.8568 - val_loss: 7.0097 - val_age_output_loss: 1.2763 - val_imagequality_output_loss: 0.8717 - val_emotion_output_loss: 0.8837 - val_carryingbag_output_loss: 0.8048 - val_weight_output_loss: 0.8929 - val_footwear_output_loss: 0.7402 - val_gender_output_loss: 0.2672 - val_bodypose_output_loss: 0.4085 - val_age_output_accuracy: 0.4320 - val_imagequality_output_accuracy: 0.5917 - val_emotion_output_accuracy: 0.7061 - val_carryingbag_output_accuracy: 0.6628 - val_weight_output_accuracy: 0.6517 - val_footwear_output_accuracy: 0.6779 - val_gender_output_accuracy: 0.8982 - val_bodypose_output_accuracy: 0.8564\n",
      "Epoch Number: 44\n",
      "Learning Rate: 0.0037531249690800905\n",
      "Epoch 46/80\n",
      "359/360 [============================>.] - ETA: 0s - loss: 6.7850 - age_output_loss: 1.2483 - imagequality_output_loss: 0.8625 - emotion_output_loss: 0.8260 - carryingbag_output_loss: 0.7501 - weight_output_loss: 0.8669 - footwear_output_loss: 0.7342 - gender_output_loss: 0.2631 - bodypose_output_loss: 0.3736 - age_output_accuracy: 0.4466 - imagequality_output_accuracy: 0.5903 - emotion_output_accuracy: 0.7131 - carryingbag_output_accuracy: 0.6894 - weight_output_accuracy: 0.6553 - footwear_output_accuracy: 0.6798 - gender_output_accuracy: 0.8907 - bodypose_output_accuracy: 0.8595Epoch Number: 44\n",
      "Learning Rate: 0.0037531249690800905\n",
      "360/360 [==============================] - 142s 394ms/step - loss: 6.7877 - age_output_loss: 1.2488 - imagequality_output_loss: 0.8625 - emotion_output_loss: 0.8270 - carryingbag_output_loss: 0.7497 - weight_output_loss: 0.8678 - footwear_output_loss: 0.7340 - gender_output_loss: 0.2634 - bodypose_output_loss: 0.3743 - age_output_accuracy: 0.4464 - imagequality_output_accuracy: 0.5905 - emotion_output_accuracy: 0.7126 - carryingbag_output_accuracy: 0.6898 - weight_output_accuracy: 0.6549 - footwear_output_accuracy: 0.6799 - gender_output_accuracy: 0.8905 - bodypose_output_accuracy: 0.8591 - val_loss: 7.1927 - val_age_output_loss: 1.2722 - val_imagequality_output_loss: 0.9131 - val_emotion_output_loss: 0.8786 - val_carryingbag_output_loss: 0.7738 - val_weight_output_loss: 0.8977 - val_footwear_output_loss: 0.7564 - val_gender_output_loss: 0.2436 - val_bodypose_output_loss: 0.4006 - val_age_output_accuracy: 0.4178 - val_imagequality_output_accuracy: 0.5580 - val_emotion_output_accuracy: 0.7051 - val_carryingbag_output_accuracy: 0.6804 - val_weight_output_accuracy: 0.6472 - val_footwear_output_accuracy: 0.6699 - val_gender_output_accuracy: 0.9032 - val_bodypose_output_accuracy: 0.8508\n",
      "Epoch Number: 45\n",
      "Learning Rate: 0.0035032499581575394\n",
      "Epoch 47/80\n",
      "360/360 [==============================] - 142s 393ms/step - loss: 6.7484 - age_output_loss: 1.2413 - imagequality_output_loss: 0.8611 - emotion_output_loss: 0.8266 - carryingbag_output_loss: 0.7410 - weight_output_loss: 0.8615 - footwear_output_loss: 0.7286 - gender_output_loss: 0.2599 - bodypose_output_loss: 0.3712 - age_output_accuracy: 0.4464 - imagequality_output_accuracy: 0.5890 - emotion_output_accuracy: 0.7138 - carryingbag_output_accuracy: 0.6874 - weight_output_accuracy: 0.6556 - footwear_output_accuracy: 0.6849 - gender_output_accuracy: 0.8933 - bodypose_output_accuracy: 0.8605 - val_loss: 6.9973 - val_age_output_loss: 1.3019 - val_imagequality_output_loss: 0.8897 - val_emotion_output_loss: 0.8869 - val_carryingbag_output_loss: 0.7722 - val_weight_output_loss: 0.9022 - val_footwear_output_loss: 0.7514 - val_gender_output_loss: 0.2418 - val_bodypose_output_loss: 0.4060 - val_age_output_accuracy: 0.4083 - val_imagequality_output_accuracy: 0.5817 - val_emotion_output_accuracy: 0.7051 - val_carryingbag_output_accuracy: 0.6825 - val_weight_output_accuracy: 0.6532 - val_footwear_output_accuracy: 0.6759 - val_gender_output_accuracy: 0.9088 - val_bodypose_output_accuracy: 0.8604\n",
      "Epoch Number: 46\n",
      "Learning Rate: 0.003253374947234988\n",
      "Epoch 48/80\n",
      "360/360 [==============================] - 142s 394ms/step - loss: 6.7187 - age_output_loss: 1.2359 - imagequality_output_loss: 0.8590 - emotion_output_loss: 0.8259 - carryingbag_output_loss: 0.7408 - weight_output_loss: 0.8568 - footwear_output_loss: 0.7233 - gender_output_loss: 0.2539 - bodypose_output_loss: 0.3689 - age_output_accuracy: 0.4540 - imagequality_output_accuracy: 0.5846 - emotion_output_accuracy: 0.7127 - carryingbag_output_accuracy: 0.6894 - weight_output_accuracy: 0.6588 - footwear_output_accuracy: 0.6854 - gender_output_accuracy: 0.8957 - bodypose_output_accuracy: 0.8609 - val_loss: 6.9894 - val_age_output_loss: 1.2964 - val_imagequality_output_loss: 0.9014 - val_emotion_output_loss: 0.8864 - val_carryingbag_output_loss: 0.7541 - val_weight_output_loss: 0.9006 - val_footwear_output_loss: 0.7704 - val_gender_output_loss: 0.2418 - val_bodypose_output_loss: 0.3963 - val_age_output_accuracy: 0.4027 - val_imagequality_output_accuracy: 0.5837 - val_emotion_output_accuracy: 0.7061 - val_carryingbag_output_accuracy: 0.6870 - val_weight_output_accuracy: 0.6502 - val_footwear_output_accuracy: 0.6663 - val_gender_output_accuracy: 0.9113 - val_bodypose_output_accuracy: 0.8619\n",
      "Epoch Number: 47\n",
      "Learning Rate: 0.003003499936312437\n",
      "Epoch 49/80\n",
      "360/360 [==============================] - 142s 393ms/step - loss: 6.7026 - age_output_loss: 1.2336 - imagequality_output_loss: 0.8571 - emotion_output_loss: 0.8199 - carryingbag_output_loss: 0.7428 - weight_output_loss: 0.8564 - footwear_output_loss: 0.7245 - gender_output_loss: 0.2514 - bodypose_output_loss: 0.3653 - age_output_accuracy: 0.4586 - imagequality_output_accuracy: 0.5840 - emotion_output_accuracy: 0.7133 - carryingbag_output_accuracy: 0.6840 - weight_output_accuracy: 0.6595 - footwear_output_accuracy: 0.6812 - gender_output_accuracy: 0.9002 - bodypose_output_accuracy: 0.8635 - val_loss: 6.9884 - val_age_output_loss: 1.2727 - val_imagequality_output_loss: 0.8692 - val_emotion_output_loss: 0.8792 - val_carryingbag_output_loss: 0.7929 - val_weight_output_loss: 0.8965 - val_footwear_output_loss: 0.7411 - val_gender_output_loss: 0.2589 - val_bodypose_output_loss: 0.4108 - val_age_output_accuracy: 0.4294 - val_imagequality_output_accuracy: 0.5917 - val_emotion_output_accuracy: 0.7056 - val_carryingbag_output_accuracy: 0.6608 - val_weight_output_accuracy: 0.6492 - val_footwear_output_accuracy: 0.6835 - val_gender_output_accuracy: 0.9002 - val_bodypose_output_accuracy: 0.8503\n",
      "Epoch Number: 48\n",
      "Learning Rate: 0.002753624925389886\n",
      "Epoch 50/80\n",
      "360/360 [==============================] - 141s 393ms/step - loss: 6.6438 - age_output_loss: 1.2193 - imagequality_output_loss: 0.8532 - emotion_output_loss: 0.8170 - carryingbag_output_loss: 0.7333 - weight_output_loss: 0.8489 - footwear_output_loss: 0.7214 - gender_output_loss: 0.2429 - bodypose_output_loss: 0.3587 - age_output_accuracy: 0.4606 - imagequality_output_accuracy: 0.5963 - emotion_output_accuracy: 0.7141 - carryingbag_output_accuracy: 0.6918 - weight_output_accuracy: 0.6633 - footwear_output_accuracy: 0.6875 - gender_output_accuracy: 0.9038 - bodypose_output_accuracy: 0.8666 - val_loss: 7.0286 - val_age_output_loss: 1.2813 - val_imagequality_output_loss: 0.9150 - val_emotion_output_loss: 0.8859 - val_carryingbag_output_loss: 0.8395 - val_weight_output_loss: 0.8923 - val_footwear_output_loss: 0.7461 - val_gender_output_loss: 0.2573 - val_bodypose_output_loss: 0.3930 - val_age_output_accuracy: 0.4148 - val_imagequality_output_accuracy: 0.5751 - val_emotion_output_accuracy: 0.7056 - val_carryingbag_output_accuracy: 0.6431 - val_weight_output_accuracy: 0.6552 - val_footwear_output_accuracy: 0.6729 - val_gender_output_accuracy: 0.9027 - val_bodypose_output_accuracy: 0.8634\n",
      "Epoch Number: 49\n",
      "Learning Rate: 0.0025037499144673347\n",
      "Epoch 51/80\n",
      "360/360 [==============================] - 142s 394ms/step - loss: 6.6388 - age_output_loss: 1.2176 - imagequality_output_loss: 0.8519 - emotion_output_loss: 0.8212 - carryingbag_output_loss: 0.7278 - weight_output_loss: 0.8465 - footwear_output_loss: 0.7225 - gender_output_loss: 0.2475 - bodypose_output_loss: 0.3570 - age_output_accuracy: 0.4576 - imagequality_output_accuracy: 0.5955 - emotion_output_accuracy: 0.7135 - carryingbag_output_accuracy: 0.6977 - weight_output_accuracy: 0.6579 - footwear_output_accuracy: 0.6816 - gender_output_accuracy: 0.9012 - bodypose_output_accuracy: 0.8668 - val_loss: 7.1546 - val_age_output_loss: 1.2728 - val_imagequality_output_loss: 0.9061 - val_emotion_output_loss: 0.8892 - val_carryingbag_output_loss: 0.8032 - val_weight_output_loss: 0.8988 - val_footwear_output_loss: 0.7825 - val_gender_output_loss: 0.2546 - val_bodypose_output_loss: 0.3890 - val_age_output_accuracy: 0.4345 - val_imagequality_output_accuracy: 0.5670 - val_emotion_output_accuracy: 0.7056 - val_carryingbag_output_accuracy: 0.6653 - val_weight_output_accuracy: 0.6527 - val_footwear_output_accuracy: 0.6542 - val_gender_output_accuracy: 0.8997 - val_bodypose_output_accuracy: 0.8619\n",
      "Epoch Number: 50\n",
      "Learning Rate: 0.0022538749035447836\n",
      "Epoch 52/80\n",
      "360/360 [==============================] - 141s 393ms/step - loss: 6.6097 - age_output_loss: 1.2141 - imagequality_output_loss: 0.8511 - emotion_output_loss: 0.8158 - carryingbag_output_loss: 0.7267 - weight_output_loss: 0.8414 - footwear_output_loss: 0.7188 - gender_output_loss: 0.2435 - bodypose_output_loss: 0.3536 - age_output_accuracy: 0.4611 - imagequality_output_accuracy: 0.5941 - emotion_output_accuracy: 0.7141 - carryingbag_output_accuracy: 0.6923 - weight_output_accuracy: 0.6619 - footwear_output_accuracy: 0.6868 - gender_output_accuracy: 0.9026 - bodypose_output_accuracy: 0.8661 - val_loss: 7.0690 - val_age_output_loss: 1.2812 - val_imagequality_output_loss: 0.9036 - val_emotion_output_loss: 0.8994 - val_carryingbag_output_loss: 0.7918 - val_weight_output_loss: 0.8967 - val_footwear_output_loss: 0.7488 - val_gender_output_loss: 0.2412 - val_bodypose_output_loss: 0.3989 - val_age_output_accuracy: 0.4194 - val_imagequality_output_accuracy: 0.5781 - val_emotion_output_accuracy: 0.7061 - val_carryingbag_output_accuracy: 0.6709 - val_weight_output_accuracy: 0.6497 - val_footwear_output_accuracy: 0.6739 - val_gender_output_accuracy: 0.9098 - val_bodypose_output_accuracy: 0.8574\n",
      "Epoch Number: 51\n",
      "Learning Rate: 0.0020039998926222324\n",
      "Epoch 53/80\n",
      "360/360 [==============================] - 142s 394ms/step - loss: 6.5641 - age_output_loss: 1.2062 - imagequality_output_loss: 0.8542 - emotion_output_loss: 0.8169 - carryingbag_output_loss: 0.7167 - weight_output_loss: 0.8393 - footwear_output_loss: 0.7158 - gender_output_loss: 0.2288 - bodypose_output_loss: 0.3434 - age_output_accuracy: 0.4673 - imagequality_output_accuracy: 0.5913 - emotion_output_accuracy: 0.7131 - carryingbag_output_accuracy: 0.6991 - weight_output_accuracy: 0.6659 - footwear_output_accuracy: 0.6853 - gender_output_accuracy: 0.9118 - bodypose_output_accuracy: 0.8692 - val_loss: 6.9047 - val_age_output_loss: 1.2646 - val_imagequality_output_loss: 0.8966 - val_emotion_output_loss: 0.8952 - val_carryingbag_output_loss: 0.7753 - val_weight_output_loss: 0.8849 - val_footwear_output_loss: 0.7627 - val_gender_output_loss: 0.2391 - val_bodypose_output_loss: 0.4013 - val_age_output_accuracy: 0.4274 - val_imagequality_output_accuracy: 0.5781 - val_emotion_output_accuracy: 0.7061 - val_carryingbag_output_accuracy: 0.6759 - val_weight_output_accuracy: 0.6598 - val_footwear_output_accuracy: 0.6724 - val_gender_output_accuracy: 0.9088 - val_bodypose_output_accuracy: 0.8604\n",
      "Epoch Number: 52\n",
      "Learning Rate: 0.0017541249981150031\n",
      "Epoch 54/80\n",
      "360/360 [==============================] - 142s 393ms/step - loss: 6.5525 - age_output_loss: 1.2058 - imagequality_output_loss: 0.8470 - emotion_output_loss: 0.8131 - carryingbag_output_loss: 0.7168 - weight_output_loss: 0.8417 - footwear_output_loss: 0.7139 - gender_output_loss: 0.2310 - bodypose_output_loss: 0.3423 - age_output_accuracy: 0.4636 - imagequality_output_accuracy: 0.5951 - emotion_output_accuracy: 0.7126 - carryingbag_output_accuracy: 0.6999 - weight_output_accuracy: 0.6620 - footwear_output_accuracy: 0.6909 - gender_output_accuracy: 0.9063 - bodypose_output_accuracy: 0.8683 - val_loss: 6.9044 - val_age_output_loss: 1.2613 - val_imagequality_output_loss: 0.8634 - val_emotion_output_loss: 0.8866 - val_carryingbag_output_loss: 0.7538 - val_weight_output_loss: 0.8900 - val_footwear_output_loss: 0.7488 - val_gender_output_loss: 0.2410 - val_bodypose_output_loss: 0.3907 - val_age_output_accuracy: 0.4340 - val_imagequality_output_accuracy: 0.5943 - val_emotion_output_accuracy: 0.7077 - val_carryingbag_output_accuracy: 0.6900 - val_weight_output_accuracy: 0.6578 - val_footwear_output_accuracy: 0.6774 - val_gender_output_accuracy: 0.9083 - val_bodypose_output_accuracy: 0.8629\n",
      "Epoch Number: 53\n",
      "Learning Rate: 0.001504249987192452\n",
      "Epoch 55/80\n",
      "360/360 [==============================] - 142s 393ms/step - loss: 6.5307 - age_output_loss: 1.2063 - imagequality_output_loss: 0.8465 - emotion_output_loss: 0.8116 - carryingbag_output_loss: 0.7107 - weight_output_loss: 0.8296 - footwear_output_loss: 0.7109 - gender_output_loss: 0.2300 - bodypose_output_loss: 0.3457 - age_output_accuracy: 0.4652 - imagequality_output_accuracy: 0.6008 - emotion_output_accuracy: 0.7149 - carryingbag_output_accuracy: 0.7045 - weight_output_accuracy: 0.6650 - footwear_output_accuracy: 0.6914 - gender_output_accuracy: 0.9086 - bodypose_output_accuracy: 0.8693 - val_loss: 6.9991 - val_age_output_loss: 1.2618 - val_imagequality_output_loss: 0.8819 - val_emotion_output_loss: 0.8828 - val_carryingbag_output_loss: 0.7642 - val_weight_output_loss: 0.8942 - val_footwear_output_loss: 0.7434 - val_gender_output_loss: 0.2485 - val_bodypose_output_loss: 0.3851 - val_age_output_accuracy: 0.4350 - val_imagequality_output_accuracy: 0.5872 - val_emotion_output_accuracy: 0.7056 - val_carryingbag_output_accuracy: 0.6820 - val_weight_output_accuracy: 0.6507 - val_footwear_output_accuracy: 0.6784 - val_gender_output_accuracy: 0.9042 - val_bodypose_output_accuracy: 0.8664\n",
      "Epoch Number: 54\n",
      "Learning Rate: 0.0012543749762699008\n",
      "Epoch 56/80\n",
      "359/360 [============================>.] - ETA: 0s - loss: 6.5009 - age_output_loss: 1.2004 - imagequality_output_loss: 0.8430 - emotion_output_loss: 0.8068 - carryingbag_output_loss: 0.7169 - weight_output_loss: 0.8262 - footwear_output_loss: 0.7070 - gender_output_loss: 0.2286 - bodypose_output_loss: 0.3339 - age_output_accuracy: 0.4687 - imagequality_output_accuracy: 0.5997 - emotion_output_accuracy: 0.7153 - carryingbag_output_accuracy: 0.7026 - weight_output_accuracy: 0.6663 - footwear_output_accuracy: 0.6871 - gender_output_accuracy: 0.9094 - bodypose_output_accuracy: 0.8727\n",
      "360/360 [==============================] - 142s 394ms/step - loss: 6.5008 - age_output_loss: 1.1999 - imagequality_output_loss: 0.8433 - emotion_output_loss: 0.8068 - carryingbag_output_loss: 0.7169 - weight_output_loss: 0.8262 - footwear_output_loss: 0.7066 - gender_output_loss: 0.2284 - bodypose_output_loss: 0.3346 - age_output_accuracy: 0.4689 - imagequality_output_accuracy: 0.5998 - emotion_output_accuracy: 0.7153 - carryingbag_output_accuracy: 0.7025 - weight_output_accuracy: 0.6662 - footwear_output_accuracy: 0.6874 - gender_output_accuracy: 0.9095 - bodypose_output_accuracy: 0.8726 - val_loss: 6.9891 - val_age_output_loss: 1.2736 - val_imagequality_output_loss: 0.8857 - val_emotion_output_loss: 0.8941 - val_carryingbag_output_loss: 0.8007 - val_weight_output_loss: 0.8861 - val_footwear_output_loss: 0.7347 - val_gender_output_loss: 0.2460 - val_bodypose_output_loss: 0.3856 - val_age_output_accuracy: 0.4325 - val_imagequality_output_accuracy: 0.5852 - val_emotion_output_accuracy: 0.7041 - val_carryingbag_output_accuracy: 0.6643 - val_weight_output_accuracy: 0.6542 - val_footwear_output_accuracy: 0.6835 - val_gender_output_accuracy: 0.9057 - val_bodypose_output_accuracy: 0.8674\n",
      "Epoch Number: 55\n",
      "Learning Rate: 0.0010044999653473496\n",
      "Epoch 57/80\n",
      "360/360 [==============================] - 142s 394ms/step - loss: 6.4654 - age_output_loss: 1.1938 - imagequality_output_loss: 0.8358 - emotion_output_loss: 0.8058 - carryingbag_output_loss: 0.7064 - weight_output_loss: 0.8294 - footwear_output_loss: 0.7052 - gender_output_loss: 0.2219 - bodypose_output_loss: 0.3301 - age_output_accuracy: 0.4749 - imagequality_output_accuracy: 0.6034 - emotion_output_accuracy: 0.7133 - carryingbag_output_accuracy: 0.7076 - weight_output_accuracy: 0.6652 - footwear_output_accuracy: 0.6923 - gender_output_accuracy: 0.9129 - bodypose_output_accuracy: 0.8775 - val_loss: 6.8759 - val_age_output_loss: 1.2649 - val_imagequality_output_loss: 0.8866 - val_emotion_output_loss: 0.8923 - val_carryingbag_output_loss: 0.7858 - val_weight_output_loss: 0.8866 - val_footwear_output_loss: 0.7408 - val_gender_output_loss: 0.2479 - val_bodypose_output_loss: 0.3845 - val_age_output_accuracy: 0.4335 - val_imagequality_output_accuracy: 0.5801 - val_emotion_output_accuracy: 0.7051 - val_carryingbag_output_accuracy: 0.6734 - val_weight_output_accuracy: 0.6552 - val_footwear_output_accuracy: 0.6840 - val_gender_output_accuracy: 0.9073 - val_bodypose_output_accuracy: 0.8634\n",
      "Epoch Number: 56\n",
      "Learning Rate: 0.0007546250126324594\n",
      "Epoch 58/80\n",
      "360/360 [==============================] - 142s 394ms/step - loss: 6.4458 - age_output_loss: 1.1947 - imagequality_output_loss: 0.8400 - emotion_output_loss: 0.8059 - carryingbag_output_loss: 0.7013 - weight_output_loss: 0.8193 - footwear_output_loss: 0.6992 - gender_output_loss: 0.2201 - bodypose_output_loss: 0.3290 - age_output_accuracy: 0.4708 - imagequality_output_accuracy: 0.5989 - emotion_output_accuracy: 0.7150 - carryingbag_output_accuracy: 0.7110 - weight_output_accuracy: 0.6721 - footwear_output_accuracy: 0.6934 - gender_output_accuracy: 0.9137 - bodypose_output_accuracy: 0.8745 - val_loss: 6.8593 - val_age_output_loss: 1.2680 - val_imagequality_output_loss: 0.8918 - val_emotion_output_loss: 0.8905 - val_carryingbag_output_loss: 0.7742 - val_weight_output_loss: 0.8832 - val_footwear_output_loss: 0.7397 - val_gender_output_loss: 0.2378 - val_bodypose_output_loss: 0.3840 - val_age_output_accuracy: 0.4335 - val_imagequality_output_accuracy: 0.5791 - val_emotion_output_accuracy: 0.7041 - val_carryingbag_output_accuracy: 0.6774 - val_weight_output_accuracy: 0.6492 - val_footwear_output_accuracy: 0.6789 - val_gender_output_accuracy: 0.9118 - val_bodypose_output_accuracy: 0.8669\n",
      "Epoch Number: 57\n",
      "Learning Rate: 0.0005047500017099082\n",
      "Epoch 59/80\n",
      "359/360 [============================>.] - ETA: 0s - loss: 6.4258 - age_output_loss: 1.1891 - imagequality_output_loss: 0.8389 - emotion_output_loss: 0.8037 - carryingbag_output_loss: 0.7004 - weight_output_loss: 0.8140 - footwear_output_loss: 0.7039 - gender_output_loss: 0.2172 - bodypose_output_loss: 0.3229 - age_output_accuracy: 0.4689 - imagequality_output_accuracy: 0.6013 - emotion_output_accuracy: 0.7147 - carryingbag_output_accuracy: 0.7099 - weight_output_accuracy: 0.6716 - footwear_output_accuracy: 0.6919 - gender_output_accuracy: 0.9165 - bodypose_output_accuracy: 0.8789\n",
      "Learning Rate: 0.0005047500017099082\n",
      "360/360 [==============================] - 141s 393ms/step - loss: 6.4259 - age_output_loss: 1.1887 - imagequality_output_loss: 0.8389 - emotion_output_loss: 0.8041 - carryingbag_output_loss: 0.7003 - weight_output_loss: 0.8144 - footwear_output_loss: 0.7037 - gender_output_loss: 0.2172 - bodypose_output_loss: 0.3231 - age_output_accuracy: 0.4692 - imagequality_output_accuracy: 0.6013 - emotion_output_accuracy: 0.7145 - carryingbag_output_accuracy: 0.7100 - weight_output_accuracy: 0.6714 - footwear_output_accuracy: 0.6923 - gender_output_accuracy: 0.9166 - bodypose_output_accuracy: 0.8787 - val_loss: 6.8589 - val_age_output_loss: 1.2603 - val_imagequality_output_loss: 0.8871 - val_emotion_output_loss: 0.8924 - val_carryingbag_output_loss: 0.7831 - val_weight_output_loss: 0.8828 - val_footwear_output_loss: 0.7359 - val_gender_output_loss: 0.2367 - val_bodypose_output_loss: 0.3861 - val_age_output_accuracy: 0.4365 - val_imagequality_output_accuracy: 0.5847 - val_emotion_output_accuracy: 0.7031 - val_carryingbag_output_accuracy: 0.6734 - val_weight_output_accuracy: 0.6557 - val_footwear_output_accuracy: 0.6840 - val_gender_output_accuracy: 0.9163 - val_bodypose_output_accuracy: 0.8695\n",
      "Epoch Number: 58\n",
      "Learning Rate: 0.0002548749907873571\n",
      "Epoch 60/80\n",
      "359/360 [============================>.] - ETA: 0s - loss: 6.4092 - age_output_loss: 1.1825 - imagequality_output_loss: 0.8346 - emotion_output_loss: 0.8055 - carryingbag_output_loss: 0.6945 - weight_output_loss: 0.8168 - footwear_output_loss: 0.6993 - gender_output_loss: 0.2138 - bodypose_output_loss: 0.3268 - age_output_accuracy: 0.4749 - imagequality_output_accuracy: 0.6056 - emotion_output_accuracy: 0.7156 - carryingbag_output_accuracy: 0.7100 - weight_output_accuracy: 0.6690 - footwear_output_accuracy: 0.6943 - gender_output_accuracy: 0.9161 - bodypose_output_accuracy: 0.8760Learning Rate: 0.0002548749907873571\n",
      "360/360 [==============================] - 141s 393ms/step - loss: 6.4099 - age_output_loss: 1.1826 - imagequality_output_loss: 0.8345 - emotion_output_loss: 0.8064 - carryingbag_output_loss: 0.6947 - weight_output_loss: 0.8168 - footwear_output_loss: 0.6991 - gender_output_loss: 0.2138 - bodypose_output_loss: 0.3266 - age_output_accuracy: 0.4749 - imagequality_output_accuracy: 0.6056 - emotion_output_accuracy: 0.7153 - carryingbag_output_accuracy: 0.7099 - weight_output_accuracy: 0.6688 - footwear_output_accuracy: 0.6945 - gender_output_accuracy: 0.9159 - bodypose_output_accuracy: 0.8761 - val_loss: 6.8497 - val_age_output_loss: 1.2656 - val_imagequality_output_loss: 0.8817 - val_emotion_output_loss: 0.8935 - val_carryingbag_output_loss: 0.7726 - val_weight_output_loss: 0.8823 - val_footwear_output_loss: 0.7360 - val_gender_output_loss: 0.2349 - val_bodypose_output_loss: 0.3842 - val_age_output_accuracy: 0.4330 - val_imagequality_output_accuracy: 0.5811 - val_emotion_output_accuracy: 0.7031 - val_carryingbag_output_accuracy: 0.6809 - val_weight_output_accuracy: 0.6517 - val_footwear_output_accuracy: 0.6880 - val_gender_output_accuracy: 0.9148 - val_bodypose_output_accuracy: 0.8695\n",
      "Epoch Number: 59\n",
      "Learning Rate: 4.999999873689376e-06\n",
      "Epoch 61/80\n",
      "360/360 [==============================] - 141s 393ms/step - loss: 6.4005 - age_output_loss: 1.1755 - imagequality_output_loss: 0.8344 - emotion_output_loss: 0.8007 - carryingbag_output_loss: 0.7014 - weight_output_loss: 0.8148 - footwear_output_loss: 0.7030 - gender_output_loss: 0.2121 - bodypose_output_loss: 0.3233 - age_output_accuracy: 0.4786 - imagequality_output_accuracy: 0.6025 - emotion_output_accuracy: 0.7142 - carryingbag_output_accuracy: 0.7115 - weight_output_accuracy: 0.6707 - footwear_output_accuracy: 0.6953 - gender_output_accuracy: 0.9197 - bodypose_output_accuracy: 0.8808 - val_loss: 6.8555 - val_age_output_loss: 1.2638 - val_imagequality_output_loss: 0.8855 - val_emotion_output_loss: 0.8940 - val_carryingbag_output_loss: 0.7753 - val_weight_output_loss: 0.8819 - val_footwear_output_loss: 0.7351 - val_gender_output_loss: 0.2343 - val_bodypose_output_loss: 0.3841 - val_age_output_accuracy: 0.4355 - val_imagequality_output_accuracy: 0.5806 - val_emotion_output_accuracy: 0.7036 - val_carryingbag_output_accuracy: 0.6789 - val_weight_output_accuracy: 0.6517 - val_footwear_output_accuracy: 0.6835 - val_gender_output_accuracy: 0.9153 - val_bodypose_output_accuracy: 0.8695\n",
      "Epoch Number: 60\n",
      "Learning Rate: 5.225000222708331e-06\n",
      "Epoch 62/80\n",
      "359/360 [============================>.] - ETA: 0s - loss: 6.3947 - age_output_loss: 1.1800 - imagequality_output_loss: 0.8358 - emotion_output_loss: 0.7986 - carryingbag_output_loss: 0.6997 - weight_output_loss: 0.8166 - footwear_output_loss: 0.6994 - gender_output_loss: 0.2099 - bodypose_output_loss: 0.3193 - age_output_accuracy: 0.4798 - imagequality_output_accuracy: 0.6074 - emotion_output_accuracy: 0.7141 - carryingbag_output_accuracy: 0.7097 - weight_output_accuracy: 0.6708 - footwear_output_accuracy: 0.6976 - gender_output_accuracy: 0.9195 - bodypose_output_accuracy: 0.8821Epoch Number: 60\n",
      "Learning Rate: 5.225000222708331e-06\n",
      "360/360 [==============================] - 142s 394ms/step - loss: 6.3945 - age_output_loss: 1.1804 - imagequality_output_loss: 0.8360 - emotion_output_loss: 0.7987 - carryingbag_output_loss: 0.6992 - weight_output_loss: 0.8166 - footwear_output_loss: 0.6993 - gender_output_loss: 0.2100 - bodypose_output_loss: 0.3191 - age_output_accuracy: 0.4794 - imagequality_output_accuracy: 0.6073 - emotion_output_accuracy: 0.7141 - carryingbag_output_accuracy: 0.7100 - weight_output_accuracy: 0.6707 - footwear_output_accuracy: 0.6977 - gender_output_accuracy: 0.9194 - bodypose_output_accuracy: 0.8821 - val_loss: 6.8528 - val_age_output_loss: 1.2640 - val_imagequality_output_loss: 0.8829 - val_emotion_output_loss: 0.8925 - val_carryingbag_output_loss: 0.7737 - val_weight_output_loss: 0.8817 - val_footwear_output_loss: 0.7351 - val_gender_output_loss: 0.2345 - val_bodypose_output_loss: 0.3837 - val_age_output_accuracy: 0.4340 - val_imagequality_output_accuracy: 0.5817 - val_emotion_output_accuracy: 0.7031 - val_carryingbag_output_accuracy: 0.6779 - val_weight_output_accuracy: 0.6532 - val_footwear_output_accuracy: 0.6840 - val_gender_output_accuracy: 0.9153 - val_bodypose_output_accuracy: 0.8695\n",
      "Epoch Number: 61\n",
      "Learning Rate: 5.450000116979936e-06\n",
      "Epoch 63/80\n",
      "360/360 [==============================] - 141s 392ms/step - loss: 6.4052 - age_output_loss: 1.1777 - imagequality_output_loss: 0.8339 - emotion_output_loss: 0.8009 - carryingbag_output_loss: 0.7013 - weight_output_loss: 0.8134 - footwear_output_loss: 0.6980 - gender_output_loss: 0.2182 - bodypose_output_loss: 0.3266 - age_output_accuracy: 0.4794 - imagequality_output_accuracy: 0.6043 - emotion_output_accuracy: 0.7145 - carryingbag_output_accuracy: 0.7081 - weight_output_accuracy: 0.6734 - footwear_output_accuracy: 0.6938 - gender_output_accuracy: 0.9156 - bodypose_output_accuracy: 0.8803 - val_loss: 6.8526 - val_age_output_loss: 1.2641 - val_imagequality_output_loss: 0.8844 - val_emotion_output_loss: 0.8936 - val_carryingbag_output_loss: 0.7734 - val_weight_output_loss: 0.8820 - val_footwear_output_loss: 0.7359 - val_gender_output_loss: 0.2348 - val_bodypose_output_loss: 0.3843 - val_age_output_accuracy: 0.4350 - val_imagequality_output_accuracy: 0.5801 - val_emotion_output_accuracy: 0.7031 - val_carryingbag_output_accuracy: 0.6804 - val_weight_output_accuracy: 0.6527 - val_footwear_output_accuracy: 0.6855 - val_gender_output_accuracy: 0.9163 - val_bodypose_output_accuracy: 0.8695\n",
      "Epoch Number: 62\n",
      "Learning Rate: 5.675000011251541e-06\n",
      "Epoch 64/80\n",
      "360/360 [==============================] - 142s 394ms/step - loss: 6.4034 - age_output_loss: 1.1828 - imagequality_output_loss: 0.8383 - emotion_output_loss: 0.8046 - carryingbag_output_loss: 0.6976 - weight_output_loss: 0.8118 - footwear_output_loss: 0.6996 - gender_output_loss: 0.2096 - bodypose_output_loss: 0.3239 - age_output_accuracy: 0.4736 - imagequality_output_accuracy: 0.6035 - emotion_output_accuracy: 0.7150 - carryingbag_output_accuracy: 0.7108 - weight_output_accuracy: 0.6723 - footwear_output_accuracy: 0.6943 - gender_output_accuracy: 0.9186 - bodypose_output_accuracy: 0.8808 - val_loss: 6.8439 - val_age_output_loss: 1.2657 - val_imagequality_output_loss: 0.8832 - val_emotion_output_loss: 0.8919 - val_carryingbag_output_loss: 0.7724 - val_weight_output_loss: 0.8814 - val_footwear_output_loss: 0.7350 - val_gender_output_loss: 0.2338 - val_bodypose_output_loss: 0.3833 - val_age_output_accuracy: 0.4335 - val_imagequality_output_accuracy: 0.5817 - val_emotion_output_accuracy: 0.7036 - val_carryingbag_output_accuracy: 0.6809 - val_weight_output_accuracy: 0.6532 - val_footwear_output_accuracy: 0.6845 - val_gender_output_accuracy: 0.9178 - val_bodypose_output_accuracy: 0.8695\n",
      "Epoch Number: 63\n",
      "Learning Rate: 5.8999999055231456e-06\n",
      "Epoch 65/80\n",
      "360/360 [==============================] - 142s 394ms/step - loss: 6.3869 - age_output_loss: 1.1763 - imagequality_output_loss: 0.8344 - emotion_output_loss: 0.8007 - carryingbag_output_loss: 0.6966 - weight_output_loss: 0.8108 - footwear_output_loss: 0.6987 - gender_output_loss: 0.2138 - bodypose_output_loss: 0.3203 - age_output_accuracy: 0.4832 - imagequality_output_accuracy: 0.6036 - emotion_output_accuracy: 0.7159 - carryingbag_output_accuracy: 0.7151 - weight_output_accuracy: 0.6731 - footwear_output_accuracy: 0.6927 - gender_output_accuracy: 0.9163 - bodypose_output_accuracy: 0.8777 - val_loss: 6.8542 - val_age_output_loss: 1.2642 - val_imagequality_output_loss: 0.8847 - val_emotion_output_loss: 0.8928 - val_carryingbag_output_loss: 0.7723 - val_weight_output_loss: 0.8814 - val_footwear_output_loss: 0.7357 - val_gender_output_loss: 0.2339 - val_bodypose_output_loss: 0.3839 - val_age_output_accuracy: 0.4350 - val_imagequality_output_accuracy: 0.5811 - val_emotion_output_accuracy: 0.7036 - val_carryingbag_output_accuracy: 0.6815 - val_weight_output_accuracy: 0.6522 - val_footwear_output_accuracy: 0.6850 - val_gender_output_accuracy: 0.9178 - val_bodypose_output_accuracy: 0.8684\n",
      "Epoch Number: 64\n",
      "Learning Rate: 6.12499979979475e-06\n",
      "Epoch 66/80\n",
      "360/360 [==============================] - 142s 394ms/step - loss: 6.3946 - age_output_loss: 1.1851 - imagequality_output_loss: 0.8325 - emotion_output_loss: 0.8027 - carryingbag_output_loss: 0.6984 - weight_output_loss: 0.8116 - footwear_output_loss: 0.7005 - gender_output_loss: 0.2050 - bodypose_output_loss: 0.3234 - age_output_accuracy: 0.4793 - imagequality_output_accuracy: 0.6089 - emotion_output_accuracy: 0.7168 - carryingbag_output_accuracy: 0.7108 - weight_output_accuracy: 0.6794 - footwear_output_accuracy: 0.6950 - gender_output_accuracy: 0.9225 - bodypose_output_accuracy: 0.8808 - val_loss: 6.8536 - val_age_output_loss: 1.2642 - val_imagequality_output_loss: 0.8840 - val_emotion_output_loss: 0.8938 - val_carryingbag_output_loss: 0.7725 - val_weight_output_loss: 0.8817 - val_footwear_output_loss: 0.7359 - val_gender_output_loss: 0.2336 - val_bodypose_output_loss: 0.3841 - val_age_output_accuracy: 0.4350 - val_imagequality_output_accuracy: 0.5811 - val_emotion_output_accuracy: 0.7046 - val_carryingbag_output_accuracy: 0.6820 - val_weight_output_accuracy: 0.6522 - val_footwear_output_accuracy: 0.6845 - val_gender_output_accuracy: 0.9173 - val_bodypose_output_accuracy: 0.8690\n",
      "Epoch Number: 65\n",
      "Learning Rate: 6.350000148813706e-06\n",
      "Epoch 67/80\n",
      "359/360 [============================>.] - ETA: 0s - loss: 6.4063 - age_output_loss: 1.1865 - imagequality_output_loss: 0.8333 - emotion_output_loss: 0.8003 - carryingbag_output_loss: 0.7003 - weight_output_loss: 0.8070 - footwear_output_loss: 0.6992 - gender_output_loss: 0.2149 - bodypose_output_loss: 0.3296 - age_output_accuracy: 0.4735 - imagequality_output_accuracy: 0.6023 - emotion_output_accuracy: 0.7154 - carryingbag_output_accuracy: 0.7056 - weight_output_accuracy: 0.6741 - footwear_output_accuracy: 0.6992 - gender_output_accuracy: 0.9163 - bodypose_output_accuracy: 0.8772Epoch Number: 65\n",
      "Learning Rate: 6.350000148813706e-06\n",
      "360/360 [==============================] - 142s 394ms/step - loss: 6.4077 - age_output_loss: 1.1870 - imagequality_output_loss: 0.8337 - emotion_output_loss: 0.8004 - carryingbag_output_loss: 0.7002 - weight_output_loss: 0.8072 - footwear_output_loss: 0.6991 - gender_output_loss: 0.2150 - bodypose_output_loss: 0.3298 - age_output_accuracy: 0.4732 - imagequality_output_accuracy: 0.6021 - emotion_output_accuracy: 0.7154 - carryingbag_output_accuracy: 0.7057 - weight_output_accuracy: 0.6739 - footwear_output_accuracy: 0.6993 - gender_output_accuracy: 0.9161 - bodypose_output_accuracy: 0.8773 - val_loss: 6.8533 - val_age_output_loss: 1.2641 - val_imagequality_output_loss: 0.8827 - val_emotion_output_loss: 0.8933 - val_carryingbag_output_loss: 0.7733 - val_weight_output_loss: 0.8814 - val_footwear_output_loss: 0.7363 - val_gender_output_loss: 0.2337 - val_bodypose_output_loss: 0.3846 - val_age_output_accuracy: 0.4335 - val_imagequality_output_accuracy: 0.5817 - val_emotion_output_accuracy: 0.7036 - val_carryingbag_output_accuracy: 0.6825 - val_weight_output_accuracy: 0.6522 - val_footwear_output_accuracy: 0.6840 - val_gender_output_accuracy: 0.9163 - val_bodypose_output_accuracy: 0.8690\n",
      "Epoch Number: 66\n",
      "Learning Rate: 6.575000043085311e-06\n",
      "Epoch 68/80\n",
      "359/360 [============================>.] - ETA: 0s - loss: 6.3901 - age_output_loss: 1.1836 - imagequality_output_loss: 0.8309 - emotion_output_loss: 0.8028 - carryingbag_output_loss: 0.6986 - weight_output_loss: 0.8137 - footwear_output_loss: 0.6997 - gender_output_loss: 0.2101 - bodypose_output_loss: 0.3155 - age_output_accuracy: 0.4775 - imagequality_output_accuracy: 0.6045 - emotion_output_accuracy: 0.7143 - carryingbag_output_accuracy: 0.7116 - weight_output_accuracy: 0.6740 - footwear_output_accuracy: 0.6964 - gender_output_accuracy: 0.9197 - bodypose_output_accuracy: 0.881Epoch Number: 66\n",
      "Learning Rate: 6.575000043085311e-06\n",
      "360/360 [==============================] - 142s 394ms/step - loss: 6.3908 - age_output_loss: 1.1839 - imagequality_output_loss: 0.8320 - emotion_output_loss: 0.8019 - carryingbag_output_loss: 0.6987 - weight_output_loss: 0.8135 - footwear_output_loss: 0.6998 - gender_output_loss: 0.2102 - bodypose_output_loss: 0.3155 - age_output_accuracy: 0.4776 - imagequality_output_accuracy: 0.6042 - emotion_output_accuracy: 0.7148 - carryingbag_output_accuracy: 0.7115 - weight_output_accuracy: 0.6740 - footwear_output_accuracy: 0.6964 - gender_output_accuracy: 0.9195 - bodypose_output_accuracy: 0.8817 - val_loss: 6.8451 - val_age_output_loss: 1.2649 - val_imagequality_output_loss: 0.8821 - val_emotion_output_loss: 0.8930 - val_carryingbag_output_loss: 0.7730 - val_weight_output_loss: 0.8821 - val_footwear_output_loss: 0.7363 - val_gender_output_loss: 0.2339 - val_bodypose_output_loss: 0.3841 - val_age_output_accuracy: 0.4360 - val_imagequality_output_accuracy: 0.5801 - val_emotion_output_accuracy: 0.7031 - val_carryingbag_output_accuracy: 0.6799 - val_weight_output_accuracy: 0.6527 - val_footwear_output_accuracy: 0.6845 - val_gender_output_accuracy: 0.9163 - val_bodypose_output_accuracy: 0.8700\n",
      "Epoch Number: 67\n",
      "Learning Rate: 6.799999937356915e-06\n",
      "Epoch 69/80\n",
      "360/360 [==============================] - 142s 394ms/step - loss: 6.4051 - age_output_loss: 1.1877 - imagequality_output_loss: 0.8327 - emotion_output_loss: 0.7998 - carryingbag_output_loss: 0.6983 - weight_output_loss: 0.8141 - footwear_output_loss: 0.7000 - gender_output_loss: 0.2136 - bodypose_output_loss: 0.3238 - age_output_accuracy: 0.4739 - imagequality_output_accuracy: 0.6035 - emotion_output_accuracy: 0.7145 - carryingbag_output_accuracy: 0.7117 - weight_output_accuracy: 0.6711 - footwear_output_accuracy: 0.6977 - gender_output_accuracy: 0.9168 - bodypose_output_accuracy: 0.8784 - val_loss: 6.8569 - val_age_output_loss: 1.2648 - val_imagequality_output_loss: 0.8830 - val_emotion_output_loss: 0.8936 - val_carryingbag_output_loss: 0.7750 - val_weight_output_loss: 0.8815 - val_footwear_output_loss: 0.7359 - val_gender_output_loss: 0.2344 - val_bodypose_output_loss: 0.3841 - val_age_output_accuracy: 0.4340 - val_imagequality_output_accuracy: 0.5817 - val_emotion_output_accuracy: 0.7031 - val_carryingbag_output_accuracy: 0.6789 - val_weight_output_accuracy: 0.6527 - val_footwear_output_accuracy: 0.6860 - val_gender_output_accuracy: 0.9143 - val_bodypose_output_accuracy: 0.8695\n",
      "Epoch Number: 68\n",
      "Learning Rate: 7.02499983162852e-06\n",
      "Epoch 70/80\n",
      "360/360 [==============================] - 142s 393ms/step - loss: 6.3998 - age_output_loss: 1.1786 - imagequality_output_loss: 0.8384 - emotion_output_loss: 0.8043 - carryingbag_output_loss: 0.6972 - weight_output_loss: 0.8194 - footwear_output_loss: 0.6982 - gender_output_loss: 0.2078 - bodypose_output_loss: 0.3207 - age_output_accuracy: 0.4799 - imagequality_output_accuracy: 0.6013 - emotion_output_accuracy: 0.7154 - carryingbag_output_accuracy: 0.7111 - weight_output_accuracy: 0.6715 - footwear_output_accuracy: 0.7015 - gender_output_accuracy: 0.9175 - bodypose_output_accuracy: 0.8791 - val_loss: 6.8568 - val_age_output_loss: 1.2641 - val_imagequality_output_loss: 0.8854 - val_emotion_output_loss: 0.8940 - val_carryingbag_output_loss: 0.7737 - val_weight_output_loss: 0.8816 - val_footwear_output_loss: 0.7357 - val_gender_output_loss: 0.2335 - val_bodypose_output_loss: 0.3841 - val_age_output_accuracy: 0.4340 - val_imagequality_output_accuracy: 0.5801 - val_emotion_output_accuracy: 0.7026 - val_carryingbag_output_accuracy: 0.6825 - val_weight_output_accuracy: 0.6527 - val_footwear_output_accuracy: 0.6850 - val_gender_output_accuracy: 0.9153 - val_bodypose_output_accuracy: 0.8700\n",
      "Epoch Number: 69\n",
      "Learning Rate: 7.250000180647476e-06\n",
      "Epoch 71/80\n",
      "360/360 [==============================] - 142s 393ms/step - loss: 6.4110 - age_output_loss: 1.1810 - imagequality_output_loss: 0.8335 - emotion_output_loss: 0.8052 - carryingbag_output_loss: 0.7013 - weight_output_loss: 0.8109 - footwear_output_loss: 0.7039 - gender_output_loss: 0.2141 - bodypose_output_loss: 0.3259 - age_output_accuracy: 0.4806 - imagequality_output_accuracy: 0.6018 - emotion_output_accuracy: 0.7144 - carryingbag_output_accuracy: 0.7082 - weight_output_accuracy: 0.6712 - footwear_output_accuracy: 0.6925 - gender_output_accuracy: 0.9186 - bodypose_output_accuracy: 0.8760 - val_loss: 6.8554 - val_age_output_loss: 1.2645 - val_imagequality_output_loss: 0.8842 - val_emotion_output_loss: 0.8935 - val_carryingbag_output_loss: 0.7758 - val_weight_output_loss: 0.8816 - val_footwear_output_loss: 0.7361 - val_gender_output_loss: 0.2343 - val_bodypose_output_loss: 0.3839 - val_age_output_accuracy: 0.4350 - val_imagequality_output_accuracy: 0.5817 - val_emotion_output_accuracy: 0.7041 - val_carryingbag_output_accuracy: 0.6764 - val_weight_output_accuracy: 0.6522 - val_footwear_output_accuracy: 0.6860 - val_gender_output_accuracy: 0.9158 - val_bodypose_output_accuracy: 0.8695\n",
      "Epoch Number: 70\n",
      "Learning Rate: 7.47500007491908e-06\n",
      "Epoch 72/80\n",
      "359/360 [============================>.] - ETA: 0s - loss: 6.3876 - age_output_loss: 1.1780 - imagequality_output_loss: 0.8342 - emotion_output_loss: 0.8009 - carryingbag_output_loss: 0.6956 - weight_output_loss: 0.8144 - footwear_output_loss: 0.6937 - gender_output_loss: 0.2145 - bodypose_output_loss: 0.3212 - age_output_accuracy: 0.4829 - imagequality_output_accuracy: 0.6029 - emotion_output_accuracy: 0.7147 - carryingbag_output_accuracy: 0.7166 - weight_output_accuracy: 0.6740 - footwear_output_accuracy: 0.7008 - gender_output_accuracy: 0.9170 - bodypose_output_accuracy: 0.8827Learning Rate: 7.47500007491908e-06\n",
      "360/360 [==============================] - 142s 394ms/step - loss: 6.3881 - age_output_loss: 1.1776 - imagequality_output_loss: 0.8343 - emotion_output_loss: 0.8020 - carryingbag_output_loss: 0.6956 - weight_output_loss: 0.8143 - footwear_output_loss: 0.6936 - gender_output_loss: 0.2144 - bodypose_output_loss: 0.3210 - age_output_accuracy: 0.4832 - imagequality_output_accuracy: 0.6028 - emotion_output_accuracy: 0.7141 - carryingbag_output_accuracy: 0.7168 - weight_output_accuracy: 0.6742 - footwear_output_accuracy: 0.7006 - gender_output_accuracy: 0.9171 - bodypose_output_accuracy: 0.8828 - val_loss: 6.8555 - val_age_output_loss: 1.2650 - val_imagequality_output_loss: 0.8870 - val_emotion_output_loss: 0.8949 - val_carryingbag_output_loss: 0.7752 - val_weight_output_loss: 0.8814 - val_footwear_output_loss: 0.7351 - val_gender_output_loss: 0.2338 - val_bodypose_output_loss: 0.3850 - val_age_output_accuracy: 0.4375 - val_imagequality_output_accuracy: 0.5822 - val_emotion_output_accuracy: 0.7026 - val_carryingbag_output_accuracy: 0.6784 - val_weight_output_accuracy: 0.6527 - val_footwear_output_accuracy: 0.6845 - val_gender_output_accuracy: 0.9163 - val_bodypose_output_accuracy: 0.8710\n",
      "Epoch Number: 71\n",
      "Learning Rate: 7.700000423938036e-06\n",
      "Epoch 73/80\n",
      "360/360 [==============================] - 142s 393ms/step - loss: 6.3683 - age_output_loss: 1.1769 - imagequality_output_loss: 0.8334 - emotion_output_loss: 0.7971 - carryingbag_output_loss: 0.6992 - weight_output_loss: 0.8109 - footwear_output_loss: 0.6949 - gender_output_loss: 0.2080 - bodypose_output_loss: 0.3128 - age_output_accuracy: 0.4799 - imagequality_output_accuracy: 0.6048 - emotion_output_accuracy: 0.7153 - carryingbag_output_accuracy: 0.7137 - weight_output_accuracy: 0.6689 - footwear_output_accuracy: 0.6989 - gender_output_accuracy: 0.9187 - bodypose_output_accuracy: 0.8845 - val_loss: 6.8572 - val_age_output_loss: 1.2637 - val_imagequality_output_loss: 0.8833 - val_emotion_output_loss: 0.8929 - val_carryingbag_output_loss: 0.7729 - val_weight_output_loss: 0.8816 - val_footwear_output_loss: 0.7376 - val_gender_output_loss: 0.2341 - val_bodypose_output_loss: 0.3831 - val_age_output_accuracy: 0.4355 - val_imagequality_output_accuracy: 0.5806 - val_emotion_output_accuracy: 0.7031 - val_carryingbag_output_accuracy: 0.6809 - val_weight_output_accuracy: 0.6522 - val_footwear_output_accuracy: 0.6835 - val_gender_output_accuracy: 0.9158 - val_bodypose_output_accuracy: 0.8695\n",
      "Epoch Number: 72\n",
      "Learning Rate: 7.92500031820964e-06\n",
      "Epoch 74/80\n",
      "360/360 [==============================] - 142s 394ms/step - loss: 6.4003 - age_output_loss: 1.1778 - imagequality_output_loss: 0.8332 - emotion_output_loss: 0.8021 - carryingbag_output_loss: 0.7050 - weight_output_loss: 0.8123 - footwear_output_loss: 0.6957 - gender_output_loss: 0.2178 - bodypose_output_loss: 0.3214 - age_output_accuracy: 0.4748 - imagequality_output_accuracy: 0.6023 - emotion_output_accuracy: 0.7150 - carryingbag_output_accuracy: 0.7080 - weight_output_accuracy: 0.6749 - footwear_output_accuracy: 0.6959 - gender_output_accuracy: 0.9146 - bodypose_output_accuracy: 0.8770 - val_loss: 6.8551 - val_age_output_loss: 1.2641 - val_imagequality_output_loss: 0.8847 - val_emotion_output_loss: 0.8934 - val_carryingbag_output_loss: 0.7731 - val_weight_output_loss: 0.8816 - val_footwear_output_loss: 0.7364 - val_gender_output_loss: 0.2337 - val_bodypose_output_loss: 0.3840 - val_age_output_accuracy: 0.4365 - val_imagequality_output_accuracy: 0.5811 - val_emotion_output_accuracy: 0.7031 - val_carryingbag_output_accuracy: 0.6830 - val_weight_output_accuracy: 0.6532 - val_footwear_output_accuracy: 0.6840 - val_gender_output_accuracy: 0.9163 - val_bodypose_output_accuracy: 0.8695\n",
      "Epoch Number: 73\n",
      "Learning Rate: 8.150000212481245e-06\n",
      "Epoch 75/80\n",
      "360/360 [==============================] - 142s 394ms/step - loss: 6.3937 - age_output_loss: 1.1821 - imagequality_output_loss: 0.8330 - emotion_output_loss: 0.7994 - carryingbag_output_loss: 0.7006 - weight_output_loss: 0.8154 - footwear_output_loss: 0.6973 - gender_output_loss: 0.2134 - bodypose_output_loss: 0.3175 - age_output_accuracy: 0.4728 - imagequality_output_accuracy: 0.6091 - emotion_output_accuracy: 0.7145 - carryingbag_output_accuracy: 0.7111 - weight_output_accuracy: 0.6687 - footwear_output_accuracy: 0.7009 - gender_output_accuracy: 0.9165 - bodypose_output_accuracy: 0.8806 - val_loss: 6.8611 - val_age_output_loss: 1.2646 - val_imagequality_output_loss: 0.8835 - val_emotion_output_loss: 0.8940 - val_carryingbag_output_loss: 0.7740 - val_weight_output_loss: 0.8819 - val_footwear_output_loss: 0.7367 - val_gender_output_loss: 0.2342 - val_bodypose_output_loss: 0.3841 - val_age_output_accuracy: 0.4335 - val_imagequality_output_accuracy: 0.5817 - val_emotion_output_accuracy: 0.7031 - val_carryingbag_output_accuracy: 0.6804 - val_weight_output_accuracy: 0.6522 - val_footwear_output_accuracy: 0.6850 - val_gender_output_accuracy: 0.9148 - val_bodypose_output_accuracy: 0.8705\n",
      "Epoch Number: 74\n",
      "Learning Rate: 8.37500010675285e-06\n",
      "Epoch 76/80\n",
      "359/360 [============================>.] - ETA: 0s - loss: 6.4004 - age_output_loss: 1.1816 - imagequality_output_loss: 0.8359 - emotion_output_loss: 0.8032 - carryingbag_output_loss: 0.7019 - weight_output_loss: 0.8110 - footwear_output_loss: 0.6999 - gender_output_loss: 0.2082 - bodypose_output_loss: 0.3235 - age_output_accuracy: 0.4759 - imagequality_output_accuracy: 0.6015 - emotion_output_accuracy: 0.7153 - carryingbag_output_accuracy: 0.7084 - weight_output_accuracy: 0.6723 - footwear_output_accuracy: 0.6932 - gender_output_accuracy: 0.9169 - bodypose_output_accuracy: 0.8780Epoch Number: 74\n",
      "360/360 [==============================] - 142s 394ms/step - loss: 6.4002 - age_output_loss: 1.1817 - imagequality_output_loss: 0.8359 - emotion_output_loss: 0.8032 - carryingbag_output_loss: 0.7023 - weight_output_loss: 0.8109 - footwear_output_loss: 0.6998 - gender_output_loss: 0.2082 - bodypose_output_loss: 0.3229 - age_output_accuracy: 0.4754 - imagequality_output_accuracy: 0.6016 - emotion_output_accuracy: 0.7152 - carryingbag_output_accuracy: 0.7082 - weight_output_accuracy: 0.6723 - footwear_output_accuracy: 0.6933 - gender_output_accuracy: 0.9169 - bodypose_output_accuracy: 0.8782 - val_loss: 6.8634 - val_age_output_loss: 1.2649 - val_imagequality_output_loss: 0.8861 - val_emotion_output_loss: 0.8942 - val_carryingbag_output_loss: 0.7758 - val_weight_output_loss: 0.8814 - val_footwear_output_loss: 0.7365 - val_gender_output_loss: 0.2338 - val_bodypose_output_loss: 0.3837 - val_age_output_accuracy: 0.4355 - val_imagequality_output_accuracy: 0.5827 - val_emotion_output_accuracy: 0.7026 - val_carryingbag_output_accuracy: 0.6789 - val_weight_output_accuracy: 0.6527 - val_footwear_output_accuracy: 0.6855 - val_gender_output_accuracy: 0.9158 - val_bodypose_output_accuracy: 0.8710\n",
      "Epoch Number: 75\n",
      "Learning Rate: 8.600000001024455e-06\n",
      "Epoch 77/80\n",
      "360/360 [==============================] - 142s 395ms/step - loss: 6.3908 - age_output_loss: 1.1830 - imagequality_output_loss: 0.8343 - emotion_output_loss: 0.8008 - carryingbag_output_loss: 0.6975 - weight_output_loss: 0.8104 - footwear_output_loss: 0.6996 - gender_output_loss: 0.2098 - bodypose_output_loss: 0.3202 - age_output_accuracy: 0.4767 - imagequality_output_accuracy: 0.6097 - emotion_output_accuracy: 0.7135 - carryingbag_output_accuracy: 0.7093 - weight_output_accuracy: 0.6736 - footwear_output_accuracy: 0.7001 - gender_output_accuracy: 0.9179 - bodypose_output_accuracy: 0.8814 - val_loss: 6.8552 - val_age_output_loss: 1.2660 - val_imagequality_output_loss: 0.8849 - val_emotion_output_loss: 0.8942 - val_carryingbag_output_loss: 0.7738 - val_weight_output_loss: 0.8814 - val_footwear_output_loss: 0.7356 - val_gender_output_loss: 0.2337 - val_bodypose_output_loss: 0.3840 - val_age_output_accuracy: 0.4335 - val_imagequality_output_accuracy: 0.5796 - val_emotion_output_accuracy: 0.7036 - val_carryingbag_output_accuracy: 0.6804 - val_weight_output_accuracy: 0.6527 - val_footwear_output_accuracy: 0.6875 - val_gender_output_accuracy: 0.9168 - val_bodypose_output_accuracy: 0.8700\n",
      "Epoch Number: 76\n",
      "Learning Rate: 8.82499989529606e-06\n",
      "Epoch 78/80\n",
      "360/360 [==============================] - 142s 393ms/step - loss: 6.3998 - age_output_loss: 1.1811 - imagequality_output_loss: 0.8374 - emotion_output_loss: 0.8036 - carryingbag_output_loss: 0.6932 - weight_output_loss: 0.8170 - footwear_output_loss: 0.6932 - gender_output_loss: 0.2129 - bodypose_output_loss: 0.3263 - age_output_accuracy: 0.4766 - imagequality_output_accuracy: 0.5993 - emotion_output_accuracy: 0.7151 - carryingbag_output_accuracy: 0.7107 - weight_output_accuracy: 0.6721 - footwear_output_accuracy: 0.7017 - gender_output_accuracy: 0.9180 - bodypose_output_accuracy: 0.8784 - val_loss: 6.8572 - val_age_output_loss: 1.2634 - val_imagequality_output_loss: 0.8861 - val_emotion_output_loss: 0.8931 - val_carryingbag_output_loss: 0.7749 - val_weight_output_loss: 0.8820 - val_footwear_output_loss: 0.7363 - val_gender_output_loss: 0.2339 - val_bodypose_output_loss: 0.3835 - val_age_output_accuracy: 0.4340 - val_imagequality_output_accuracy: 0.5827 - val_emotion_output_accuracy: 0.7031 - val_carryingbag_output_accuracy: 0.6794 - val_weight_output_accuracy: 0.6532 - val_footwear_output_accuracy: 0.6845 - val_gender_output_accuracy: 0.9148 - val_bodypose_output_accuracy: 0.8690\n",
      "Epoch Number: 77\n",
      "Learning Rate: 9.049999789567664e-06\n",
      "Epoch 79/80\n",
      "360/360 [==============================] - 142s 393ms/step - loss: 6.3942 - age_output_loss: 1.1795 - imagequality_output_loss: 0.8312 - emotion_output_loss: 0.8028 - carryingbag_output_loss: 0.6945 - weight_output_loss: 0.8138 - footwear_output_loss: 0.6988 - gender_output_loss: 0.2172 - bodypose_output_loss: 0.3213 - age_output_accuracy: 0.4765 - imagequality_output_accuracy: 0.6023 - emotion_output_accuracy: 0.7161 - carryingbag_output_accuracy: 0.7137 - weight_output_accuracy: 0.6733 - footwear_output_accuracy: 0.6966 - gender_output_accuracy: 0.9161 - bodypose_output_accuracy: 0.8809 - val_loss: 6.8629 - val_age_output_loss: 1.2649 - val_imagequality_output_loss: 0.8844 - val_emotion_output_loss: 0.8937 - val_carryingbag_output_loss: 0.7760 - val_weight_output_loss: 0.8820 - val_footwear_output_loss: 0.7369 - val_gender_output_loss: 0.2350 - val_bodypose_output_loss: 0.3834 - val_age_output_accuracy: 0.4350 - val_imagequality_output_accuracy: 0.5817 - val_emotion_output_accuracy: 0.7031 - val_carryingbag_output_accuracy: 0.6789 - val_weight_output_accuracy: 0.6527 - val_footwear_output_accuracy: 0.6850 - val_gender_output_accuracy: 0.9158 - val_bodypose_output_accuracy: 0.8695\n",
      "Epoch Number: 78\n",
      "Learning Rate: 9.274999683839269e-06\n",
      "Epoch 80/80\n",
      "360/360 [==============================] - 142s 394ms/step - loss: 6.3965 - age_output_loss: 1.1756 - imagequality_output_loss: 0.8375 - emotion_output_loss: 0.8020 - carryingbag_output_loss: 0.7048 - weight_output_loss: 0.8124 - footwear_output_loss: 0.6970 - gender_output_loss: 0.2099 - bodypose_output_loss: 0.3222 - age_output_accuracy: 0.4803 - imagequality_output_accuracy: 0.6003 - emotion_output_accuracy: 0.7147 - carryingbag_output_accuracy: 0.7077 - weight_output_accuracy: 0.6739 - footwear_output_accuracy: 0.6948 - gender_output_accuracy: 0.9206 - bodypose_output_accuracy: 0.8793 - val_loss: 6.8549 - val_age_output_loss: 1.2640 - val_imagequality_output_loss: 0.8834 - val_emotion_output_loss: 0.8934 - val_carryingbag_output_loss: 0.7762 - val_weight_output_loss: 0.8816 - val_footwear_output_loss: 0.7367 - val_gender_output_loss: 0.2341 - val_bodypose_output_loss: 0.3838 - val_age_output_accuracy: 0.4330 - val_imagequality_output_accuracy: 0.5817 - val_emotion_output_accuracy: 0.7036 - val_carryingbag_output_accuracy: 0.6779 - val_weight_output_accuracy: 0.6522 - val_footwear_output_accuracy: 0.6840 - val_gender_output_accuracy: 0.9153 - val_bodypose_output_accuracy: 0.8679\n",
      "Epoch Number: 79\n",
      "Learning Rate: 9.499999578110874e-06\n"
     ]
    },
    {
     "ename": "KeyboardInterrupt",
     "evalue": "",
     "output_type": "error",
     "traceback": [
      "\u001b[0;31m---------------------------------------------------------------------------\u001b[0m",
      "\u001b[0;31mKeyboardInterrupt\u001b[0m                         Traceback (most recent call last)",
      "\u001b[0;32m<ipython-input-30-982cb5135da2>\u001b[0m in \u001b[0;36m<module>\u001b[0;34m\u001b[0m\n\u001b[1;32m      1\u001b[0m hist=model.fit_generator(generator=train_gen,validation_data=val_gen,use_multiprocessing=True,workers=6,verbose=1\n\u001b[0;32m----> 2\u001b[0;31m                     ,callbacks=[sched],epochs=NEPOCHS)\n\u001b[0m",
      "\u001b[0;32m/local/mnt/workspace/usr/rishubh/anaconda3/envs/eip/lib/python3.6/site-packages/keras/legacy/interfaces.py\u001b[0m in \u001b[0;36mwrapper\u001b[0;34m(*args, **kwargs)\u001b[0m\n\u001b[1;32m     89\u001b[0m                 warnings.warn('Update your `' + object_name + '` call to the ' +\n\u001b[1;32m     90\u001b[0m                               'Keras 2 API: ' + signature, stacklevel=2)\n\u001b[0;32m---> 91\u001b[0;31m             \u001b[0;32mreturn\u001b[0m \u001b[0mfunc\u001b[0m\u001b[0;34m(\u001b[0m\u001b[0;34m*\u001b[0m\u001b[0margs\u001b[0m\u001b[0;34m,\u001b[0m \u001b[0;34m**\u001b[0m\u001b[0mkwargs\u001b[0m\u001b[0;34m)\u001b[0m\u001b[0;34m\u001b[0m\u001b[0;34m\u001b[0m\u001b[0m\n\u001b[0m\u001b[1;32m     92\u001b[0m         \u001b[0mwrapper\u001b[0m\u001b[0;34m.\u001b[0m\u001b[0m_original_function\u001b[0m \u001b[0;34m=\u001b[0m \u001b[0mfunc\u001b[0m\u001b[0;34m\u001b[0m\u001b[0;34m\u001b[0m\u001b[0m\n\u001b[1;32m     93\u001b[0m         \u001b[0;32mreturn\u001b[0m \u001b[0mwrapper\u001b[0m\u001b[0;34m\u001b[0m\u001b[0;34m\u001b[0m\u001b[0m\n",
      "\u001b[0;32m/local/mnt/workspace/usr/rishubh/anaconda3/envs/eip/lib/python3.6/site-packages/keras/engine/training.py\u001b[0m in \u001b[0;36mfit_generator\u001b[0;34m(self, generator, steps_per_epoch, epochs, verbose, callbacks, validation_data, validation_steps, validation_freq, class_weight, max_queue_size, workers, use_multiprocessing, shuffle, initial_epoch)\u001b[0m\n\u001b[1;32m   1730\u001b[0m             \u001b[0muse_multiprocessing\u001b[0m\u001b[0;34m=\u001b[0m\u001b[0muse_multiprocessing\u001b[0m\u001b[0;34m,\u001b[0m\u001b[0;34m\u001b[0m\u001b[0;34m\u001b[0m\u001b[0m\n\u001b[1;32m   1731\u001b[0m             \u001b[0mshuffle\u001b[0m\u001b[0;34m=\u001b[0m\u001b[0mshuffle\u001b[0m\u001b[0;34m,\u001b[0m\u001b[0;34m\u001b[0m\u001b[0;34m\u001b[0m\u001b[0m\n\u001b[0;32m-> 1732\u001b[0;31m             initial_epoch=initial_epoch)\n\u001b[0m\u001b[1;32m   1733\u001b[0m \u001b[0;34m\u001b[0m\u001b[0m\n\u001b[1;32m   1734\u001b[0m     \u001b[0;34m@\u001b[0m\u001b[0minterfaces\u001b[0m\u001b[0;34m.\u001b[0m\u001b[0mlegacy_generator_methods_support\u001b[0m\u001b[0;34m\u001b[0m\u001b[0;34m\u001b[0m\u001b[0m\n",
      "\u001b[0;32m/local/mnt/workspace/usr/rishubh/anaconda3/envs/eip/lib/python3.6/site-packages/keras/engine/training_generator.py\u001b[0m in \u001b[0;36mfit_generator\u001b[0;34m(model, generator, steps_per_epoch, epochs, verbose, callbacks, validation_data, validation_steps, validation_freq, class_weight, max_queue_size, workers, use_multiprocessing, shuffle, initial_epoch)\u001b[0m\n\u001b[1;32m    288\u001b[0m         \u001b[0;32mfinally\u001b[0m\u001b[0;34m:\u001b[0m\u001b[0;34m\u001b[0m\u001b[0;34m\u001b[0m\u001b[0m\n\u001b[1;32m    289\u001b[0m             \u001b[0;32mif\u001b[0m \u001b[0mval_enqueuer\u001b[0m \u001b[0;32mis\u001b[0m \u001b[0;32mnot\u001b[0m \u001b[0;32mNone\u001b[0m\u001b[0;34m:\u001b[0m\u001b[0;34m\u001b[0m\u001b[0;34m\u001b[0m\u001b[0m\n\u001b[0;32m--> 290\u001b[0;31m                 \u001b[0mval_enqueuer\u001b[0m\u001b[0;34m.\u001b[0m\u001b[0mstop\u001b[0m\u001b[0;34m(\u001b[0m\u001b[0;34m)\u001b[0m\u001b[0;34m\u001b[0m\u001b[0;34m\u001b[0m\u001b[0m\n\u001b[0m\u001b[1;32m    291\u001b[0m \u001b[0;34m\u001b[0m\u001b[0m\n\u001b[1;32m    292\u001b[0m     \u001b[0mcallbacks\u001b[0m\u001b[0;34m.\u001b[0m\u001b[0m_call_end_hook\u001b[0m\u001b[0;34m(\u001b[0m\u001b[0;34m'train'\u001b[0m\u001b[0;34m)\u001b[0m\u001b[0;34m\u001b[0m\u001b[0;34m\u001b[0m\u001b[0m\n",
      "\u001b[0;32m/local/mnt/workspace/usr/rishubh/anaconda3/envs/eip/lib/python3.6/site-packages/keras/utils/data_utils.py\u001b[0m in \u001b[0;36mstop\u001b[0;34m(self, timeout)\u001b[0m\n\u001b[1;32m    499\u001b[0m             \u001b[0mself\u001b[0m\u001b[0;34m.\u001b[0m\u001b[0mqueue\u001b[0m\u001b[0;34m.\u001b[0m\u001b[0munfinished_tasks\u001b[0m \u001b[0;34m=\u001b[0m \u001b[0;36m0\u001b[0m\u001b[0;34m\u001b[0m\u001b[0;34m\u001b[0m\u001b[0m\n\u001b[1;32m    500\u001b[0m             \u001b[0mself\u001b[0m\u001b[0;34m.\u001b[0m\u001b[0mqueue\u001b[0m\u001b[0;34m.\u001b[0m\u001b[0mnot_full\u001b[0m\u001b[0;34m.\u001b[0m\u001b[0mnotify\u001b[0m\u001b[0;34m(\u001b[0m\u001b[0;34m)\u001b[0m\u001b[0;34m\u001b[0m\u001b[0;34m\u001b[0m\u001b[0m\n\u001b[0;32m--> 501\u001b[0;31m         \u001b[0mself\u001b[0m\u001b[0;34m.\u001b[0m\u001b[0mrun_thread\u001b[0m\u001b[0;34m.\u001b[0m\u001b[0mjoin\u001b[0m\u001b[0;34m(\u001b[0m\u001b[0mtimeout\u001b[0m\u001b[0;34m)\u001b[0m\u001b[0;34m\u001b[0m\u001b[0;34m\u001b[0m\u001b[0m\n\u001b[0m\u001b[1;32m    502\u001b[0m         \u001b[0m_SHARED_SEQUENCES\u001b[0m\u001b[0;34m[\u001b[0m\u001b[0mself\u001b[0m\u001b[0;34m.\u001b[0m\u001b[0muid\u001b[0m\u001b[0;34m]\u001b[0m \u001b[0;34m=\u001b[0m \u001b[0;32mNone\u001b[0m\u001b[0;34m\u001b[0m\u001b[0;34m\u001b[0m\u001b[0m\n\u001b[1;32m    503\u001b[0m \u001b[0;34m\u001b[0m\u001b[0m\n",
      "\u001b[0;32m/local/mnt/workspace/usr/rishubh/anaconda3/envs/eip/lib/python3.6/threading.py\u001b[0m in \u001b[0;36mjoin\u001b[0;34m(self, timeout)\u001b[0m\n\u001b[1;32m   1054\u001b[0m \u001b[0;34m\u001b[0m\u001b[0m\n\u001b[1;32m   1055\u001b[0m         \u001b[0;32mif\u001b[0m \u001b[0mtimeout\u001b[0m \u001b[0;32mis\u001b[0m \u001b[0;32mNone\u001b[0m\u001b[0;34m:\u001b[0m\u001b[0;34m\u001b[0m\u001b[0;34m\u001b[0m\u001b[0m\n\u001b[0;32m-> 1056\u001b[0;31m             \u001b[0mself\u001b[0m\u001b[0;34m.\u001b[0m\u001b[0m_wait_for_tstate_lock\u001b[0m\u001b[0;34m(\u001b[0m\u001b[0;34m)\u001b[0m\u001b[0;34m\u001b[0m\u001b[0;34m\u001b[0m\u001b[0m\n\u001b[0m\u001b[1;32m   1057\u001b[0m         \u001b[0;32melse\u001b[0m\u001b[0;34m:\u001b[0m\u001b[0;34m\u001b[0m\u001b[0;34m\u001b[0m\u001b[0m\n\u001b[1;32m   1058\u001b[0m             \u001b[0;31m# the behavior of a negative timeout isn't documented, but\u001b[0m\u001b[0;34m\u001b[0m\u001b[0;34m\u001b[0m\u001b[0;34m\u001b[0m\u001b[0m\n",
      "\u001b[0;32m/local/mnt/workspace/usr/rishubh/anaconda3/envs/eip/lib/python3.6/threading.py\u001b[0m in \u001b[0;36m_wait_for_tstate_lock\u001b[0;34m(self, block, timeout)\u001b[0m\n\u001b[1;32m   1070\u001b[0m         \u001b[0;32mif\u001b[0m \u001b[0mlock\u001b[0m \u001b[0;32mis\u001b[0m \u001b[0;32mNone\u001b[0m\u001b[0;34m:\u001b[0m  \u001b[0;31m# already determined that the C code is done\u001b[0m\u001b[0;34m\u001b[0m\u001b[0;34m\u001b[0m\u001b[0m\n\u001b[1;32m   1071\u001b[0m             \u001b[0;32massert\u001b[0m \u001b[0mself\u001b[0m\u001b[0;34m.\u001b[0m\u001b[0m_is_stopped\u001b[0m\u001b[0;34m\u001b[0m\u001b[0;34m\u001b[0m\u001b[0m\n\u001b[0;32m-> 1072\u001b[0;31m         \u001b[0;32melif\u001b[0m \u001b[0mlock\u001b[0m\u001b[0;34m.\u001b[0m\u001b[0macquire\u001b[0m\u001b[0;34m(\u001b[0m\u001b[0mblock\u001b[0m\u001b[0;34m,\u001b[0m \u001b[0mtimeout\u001b[0m\u001b[0;34m)\u001b[0m\u001b[0;34m:\u001b[0m\u001b[0;34m\u001b[0m\u001b[0;34m\u001b[0m\u001b[0m\n\u001b[0m\u001b[1;32m   1073\u001b[0m             \u001b[0mlock\u001b[0m\u001b[0;34m.\u001b[0m\u001b[0mrelease\u001b[0m\u001b[0;34m(\u001b[0m\u001b[0;34m)\u001b[0m\u001b[0;34m\u001b[0m\u001b[0;34m\u001b[0m\u001b[0m\n\u001b[1;32m   1074\u001b[0m             \u001b[0mself\u001b[0m\u001b[0;34m.\u001b[0m\u001b[0m_stop\u001b[0m\u001b[0;34m(\u001b[0m\u001b[0;34m)\u001b[0m\u001b[0;34m\u001b[0m\u001b[0;34m\u001b[0m\u001b[0m\n",
      "\u001b[0;31mKeyboardInterrupt\u001b[0m: "
     ]
    }
   ],
   "source": [
    "hist=model.fit_generator(generator=train_gen,validation_data=val_gen,use_multiprocessing=True,workers=6,verbose=1\n",
    "                    ,callbacks=[sched],epochs=NEPOCHS)"
   ]
  },
  {
   "cell_type": "code",
   "execution_count": 31,
   "metadata": {
    "hidden": true
   },
   "outputs": [],
   "source": [
    "model.save_weights('model_valid_28thDec.h5')"
   ]
  },
  {
   "cell_type": "code",
   "execution_count": 33,
   "metadata": {
    "hidden": true
   },
   "outputs": [],
   "source": [
    "losses={\"age_output\":\"categorical_crossentropy\",\"gender_output\":\"binary_crossentropy\",\"footwear_output\":\"categorical_crossentropy\",\"weight_output\":\"categorical_crossentropy\"\n",
    "       ,\"bodypose_output\":\"categorical_crossentropy\",\"carryingbag_output\":\"categorical_crossentropy\",\"emotion_output\":\"categorical_crossentropy\",\"imagequality_output\":\"categorical_crossentropy\"}\n",
    "opt = keras.optimizers.SGD(lr=0.00001,momentum=0.9)\n",
    "loss_weights={\"age_output\":3,\"gender_output\":1,\"footwear_output\":2,\"bodypose_output\":1,\n",
    "             \"carryingbag_output\":3,\"emotion_output\":3,\"imagequality_output\":2,\"weight_output\":2}\n",
    "max_lr=1e-4\n",
    "min_lr=5e-6\n",
    "NEPOCHS=80\n",
    "sched=LR_scheduler(max_lr=max_lr,min_lr=min_lr,tot_batches=NEPOCHS*len(train_gen),steps=[0.25,0.5,1.])\n",
    "\n",
    "model.compile(optimizer=opt,loss=losses,metrics=['accuracy'])"
   ]
  },
  {
   "cell_type": "code",
   "execution_count": null,
   "metadata": {
    "hidden": true,
    "scrolled": true
   },
   "outputs": [
    {
     "name": "stdout",
     "output_type": "stream",
     "text": [
      "Epoch 1/80\n",
      "360/360 [==============================] - 141s 393ms/step - loss: 6.3496 - age_output_loss: 1.1797 - imagequality_output_loss: 0.8293 - emotion_output_loss: 0.7997 - carryingbag_output_loss: 0.6906 - weight_output_loss: 0.8045 - footwear_output_loss: 0.6940 - gender_output_loss: 0.2027 - bodypose_output_loss: 0.3169 - age_output_accuracy: 0.4824 - imagequality_output_accuracy: 0.6068 - emotion_output_accuracy: 0.7154 - carryingbag_output_accuracy: 0.7146 - weight_output_accuracy: 0.6725 - footwear_output_accuracy: 0.7012 - gender_output_accuracy: 0.9223 - bodypose_output_accuracy: 0.8833 - val_loss: 6.8829 - val_age_output_loss: 1.2657 - val_imagequality_output_loss: 0.8919 - val_emotion_output_loss: 0.8987 - val_carryingbag_output_loss: 0.7722 - val_weight_output_loss: 0.8834 - val_footwear_output_loss: 0.7398 - val_gender_output_loss: 0.2342 - val_bodypose_output_loss: 0.3842 - val_age_output_accuracy: 0.4289 - val_imagequality_output_accuracy: 0.5852 - val_emotion_output_accuracy: 0.7011 - val_carryingbag_output_accuracy: 0.6870 - val_weight_output_accuracy: 0.6517 - val_footwear_output_accuracy: 0.6860 - val_gender_output_accuracy: 0.9173 - val_bodypose_output_accuracy: 0.8710\n",
      "Epoch Number: 0\n",
      "Learning Rate: 9.749999662744813e-06\n",
      "Epoch 2/80\n",
      "360/360 [==============================] - 142s 394ms/step - loss: 6.3446 - age_output_loss: 1.1686 - imagequality_output_loss: 0.8285 - emotion_output_loss: 0.8011 - carryingbag_output_loss: 0.6933 - weight_output_loss: 0.8001 - footwear_output_loss: 0.6954 - gender_output_loss: 0.2007 - bodypose_output_loss: 0.3247 - age_output_accuracy: 0.4830 - imagequality_output_accuracy: 0.6100 - emotion_output_accuracy: 0.7150 - carryingbag_output_accuracy: 0.7122 - weight_output_accuracy: 0.6806 - footwear_output_accuracy: 0.6945 - gender_output_accuracy: 0.9209 - bodypose_output_accuracy: 0.8792 - val_loss: 6.8730 - val_age_output_loss: 1.2640 - val_imagequality_output_loss: 0.8916 - val_emotion_output_loss: 0.8984 - val_carryingbag_output_loss: 0.7719 - val_weight_output_loss: 0.8833 - val_footwear_output_loss: 0.7399 - val_gender_output_loss: 0.2332 - val_bodypose_output_loss: 0.3844 - val_age_output_accuracy: 0.4289 - val_imagequality_output_accuracy: 0.5857 - val_emotion_output_accuracy: 0.7016 - val_carryingbag_output_accuracy: 0.6880 - val_weight_output_accuracy: 0.6522 - val_footwear_output_accuracy: 0.6830 - val_gender_output_accuracy: 0.9178 - val_bodypose_output_accuracy: 0.8684\n",
      "Epoch Number: 1\n",
      "Learning Rate: 1.4500000361294951e-05\n",
      "Epoch 3/80\n",
      "360/360 [==============================] - 141s 392ms/step - loss: 6.3435 - age_output_loss: 1.1781 - imagequality_output_loss: 0.8294 - emotion_output_loss: 0.7954 - carryingbag_output_loss: 0.6923 - weight_output_loss: 0.8104 - footwear_output_loss: 0.6954 - gender_output_loss: 0.1986 - bodypose_output_loss: 0.3117 - age_output_accuracy: 0.4762 - imagequality_output_accuracy: 0.6074 - emotion_output_accuracy: 0.7154 - carryingbag_output_accuracy: 0.7109 - weight_output_accuracy: 0.6690 - footwear_output_accuracy: 0.6961 - gender_output_accuracy: 0.9246 - bodypose_output_accuracy: 0.8852 - val_loss: 6.8746 - val_age_output_loss: 1.2648 - val_imagequality_output_loss: 0.8900 - val_emotion_output_loss: 0.8979 - val_carryingbag_output_loss: 0.7715 - val_weight_output_loss: 0.8830 - val_footwear_output_loss: 0.7422 - val_gender_output_loss: 0.2343 - val_bodypose_output_loss: 0.3844 - val_age_output_accuracy: 0.4279 - val_imagequality_output_accuracy: 0.5852 - val_emotion_output_accuracy: 0.7026 - val_carryingbag_output_accuracy: 0.6865 - val_weight_output_accuracy: 0.6517 - val_footwear_output_accuracy: 0.6820 - val_gender_output_accuracy: 0.9189 - val_bodypose_output_accuracy: 0.8700\n",
      "Epoch Number: 2\n",
      "Learning Rate: 1.9249999240855686e-05\n",
      "Epoch 4/80\n",
      "360/360 [==============================] - 141s 392ms/step - loss: 6.3511 - age_output_loss: 1.1769 - imagequality_output_loss: 0.8286 - emotion_output_loss: 0.8006 - carryingbag_output_loss: 0.6893 - weight_output_loss: 0.8039 - footwear_output_loss: 0.6954 - gender_output_loss: 0.2038 - bodypose_output_loss: 0.3204 - age_output_accuracy: 0.4819 - imagequality_output_accuracy: 0.6089 - emotion_output_accuracy: 0.7163 - carryingbag_output_accuracy: 0.7161 - weight_output_accuracy: 0.6763 - footwear_output_accuracy: 0.6975 - gender_output_accuracy: 0.9204 - bodypose_output_accuracy: 0.8798 - val_loss: 6.8755 - val_age_output_loss: 1.2659 - val_imagequality_output_loss: 0.8904 - val_emotion_output_loss: 0.8989 - val_carryingbag_output_loss: 0.7765 - val_weight_output_loss: 0.8837 - val_footwear_output_loss: 0.7391 - val_gender_output_loss: 0.2348 - val_bodypose_output_loss: 0.3841 - val_age_output_accuracy: 0.4279 - val_imagequality_output_accuracy: 0.5852 - val_emotion_output_accuracy: 0.7021 - val_carryingbag_output_accuracy: 0.6845 - val_weight_output_accuracy: 0.6517 - val_footwear_output_accuracy: 0.6845 - val_gender_output_accuracy: 0.9173 - val_bodypose_output_accuracy: 0.8705\n",
      "Epoch Number: 3\n",
      "Learning Rate: 2.4000000848900527e-05\n",
      "Epoch 5/80\n",
      "360/360 [==============================] - 141s 391ms/step - loss: 6.3507 - age_output_loss: 1.1740 - imagequality_output_loss: 0.8321 - emotion_output_loss: 0.8010 - carryingbag_output_loss: 0.6916 - weight_output_loss: 0.8036 - footwear_output_loss: 0.6919 - gender_output_loss: 0.2039 - bodypose_output_loss: 0.3205 - age_output_accuracy: 0.4844 - imagequality_output_accuracy: 0.6082 - emotion_output_accuracy: 0.7151 - carryingbag_output_accuracy: 0.7174 - weight_output_accuracy: 0.6737 - footwear_output_accuracy: 0.7003 - gender_output_accuracy: 0.9194 - bodypose_output_accuracy: 0.8824 - val_loss: 6.8723 - val_age_output_loss: 1.2654 - val_imagequality_output_loss: 0.8887 - val_emotion_output_loss: 0.8982 - val_carryingbag_output_loss: 0.7707 - val_weight_output_loss: 0.8824 - val_footwear_output_loss: 0.7397 - val_gender_output_loss: 0.2333 - val_bodypose_output_loss: 0.3837 - val_age_output_accuracy: 0.4304 - val_imagequality_output_accuracy: 0.5857 - val_emotion_output_accuracy: 0.7016 - val_carryingbag_output_accuracy: 0.6875 - val_weight_output_accuracy: 0.6532 - val_footwear_output_accuracy: 0.6850 - val_gender_output_accuracy: 0.9183 - val_bodypose_output_accuracy: 0.8705\n",
      "Epoch Number: 4\n",
      "Learning Rate: 2.8750000637955964e-05\n",
      "Epoch 6/80\n",
      "359/360 [============================>.] - ETA: 0s - loss: 6.3453 - age_output_loss: 1.1705 - imagequality_output_loss: 0.8310 - emotion_output_loss: 0.7977 - carryingbag_output_loss: 0.6904 - weight_output_loss: 0.8033 - footwear_output_loss: 0.6933 - gender_output_loss: 0.2092 - bodypose_output_loss: 0.3179 - age_output_accuracy: 0.4882 - imagequality_output_accuracy: 0.6076 - emotion_output_accuracy: 0.7143 - carryingbag_output_accuracy: 0.7134 - weight_output_accuracy: 0.6764 - footwear_output_accuracy: 0.6979 - gender_output_accuracy: 0.9181 - bodypose_output_accuracy: 0.8795Epoch Number: 4\n",
      "Learning Rate: 2.8750000637955964e-05\n",
      "360/360 [==============================] - 142s 393ms/step - loss: 6.3453 - age_output_loss: 1.1704 - imagequality_output_loss: 0.8308 - emotion_output_loss: 0.7976 - carryingbag_output_loss: 0.6912 - weight_output_loss: 0.8036 - footwear_output_loss: 0.6930 - gender_output_loss: 0.2089 - bodypose_output_loss: 0.3176 - age_output_accuracy: 0.4884 - imagequality_output_accuracy: 0.6076 - emotion_output_accuracy: 0.7144 - carryingbag_output_accuracy: 0.7130 - weight_output_accuracy: 0.6760 - footwear_output_accuracy: 0.6980 - gender_output_accuracy: 0.9181 - bodypose_output_accuracy: 0.8795 - val_loss: 6.8770 - val_age_output_loss: 1.2656 - val_imagequality_output_loss: 0.8920 - val_emotion_output_loss: 0.8997 - val_carryingbag_output_loss: 0.7767 - val_weight_output_loss: 0.8826 - val_footwear_output_loss: 0.7402 - val_gender_output_loss: 0.2334 - val_bodypose_output_loss: 0.3844 - val_age_output_accuracy: 0.4269 - val_imagequality_output_accuracy: 0.5837 - val_emotion_output_accuracy: 0.7016 - val_carryingbag_output_accuracy: 0.6845 - val_weight_output_accuracy: 0.6517 - val_footwear_output_accuracy: 0.6855 - val_gender_output_accuracy: 0.9183 - val_bodypose_output_accuracy: 0.8715\n",
      "Epoch Number: 5\n",
      "Learning Rate: 3.35000004270114e-05\n",
      "Epoch 7/80\n",
      "360/360 [==============================] - 142s 393ms/step - loss: 6.3475 - age_output_loss: 1.1724 - imagequality_output_loss: 0.8317 - emotion_output_loss: 0.7945 - carryingbag_output_loss: 0.6912 - weight_output_loss: 0.8062 - footwear_output_loss: 0.6975 - gender_output_loss: 0.2119 - bodypose_output_loss: 0.3101 - age_output_accuracy: 0.4855 - imagequality_output_accuracy: 0.6082 - emotion_output_accuracy: 0.7168 - carryingbag_output_accuracy: 0.7148 - weight_output_accuracy: 0.6771 - footwear_output_accuracy: 0.6978 - gender_output_accuracy: 0.9190 - bodypose_output_accuracy: 0.8837 - val_loss: 6.8869 - val_age_output_loss: 1.2665 - val_imagequality_output_loss: 0.8920 - val_emotion_output_loss: 0.8998 - val_carryingbag_output_loss: 0.7747 - val_weight_output_loss: 0.8832 - val_footwear_output_loss: 0.7401 - val_gender_output_loss: 0.2340 - val_bodypose_output_loss: 0.3850 - val_age_output_accuracy: 0.4249 - val_imagequality_output_accuracy: 0.5842 - val_emotion_output_accuracy: 0.7011 - val_carryingbag_output_accuracy: 0.6860 - val_weight_output_accuracy: 0.6527 - val_footwear_output_accuracy: 0.6840 - val_gender_output_accuracy: 0.9178 - val_bodypose_output_accuracy: 0.8710\n",
      "Epoch Number: 6\n",
      "Learning Rate: 3.825000021606684e-05\n",
      "Epoch 8/80\n",
      "360/360 [==============================] - 141s 392ms/step - loss: 6.3438 - age_output_loss: 1.1739 - imagequality_output_loss: 0.8280 - emotion_output_loss: 0.8016 - carryingbag_output_loss: 0.6867 - weight_output_loss: 0.8017 - footwear_output_loss: 0.6917 - gender_output_loss: 0.2096 - bodypose_output_loss: 0.3188 - age_output_accuracy: 0.4828 - imagequality_output_accuracy: 0.6086 - emotion_output_accuracy: 0.7146 - carryingbag_output_accuracy: 0.7170 - weight_output_accuracy: 0.6734 - footwear_output_accuracy: 0.6996 - gender_output_accuracy: 0.9199 - bodypose_output_accuracy: 0.8836 - val_loss: 6.8835 - val_age_output_loss: 1.2687 - val_imagequality_output_loss: 0.8919 - val_emotion_output_loss: 0.8995 - val_carryingbag_output_loss: 0.7764 - val_weight_output_loss: 0.8827 - val_footwear_output_loss: 0.7400 - val_gender_output_loss: 0.2358 - val_bodypose_output_loss: 0.3846 - val_age_output_accuracy: 0.4284 - val_imagequality_output_accuracy: 0.5847 - val_emotion_output_accuracy: 0.7021 - val_carryingbag_output_accuracy: 0.6840 - val_weight_output_accuracy: 0.6512 - val_footwear_output_accuracy: 0.6840 - val_gender_output_accuracy: 0.9153 - val_bodypose_output_accuracy: 0.8705\n",
      "Epoch Number: 7\n",
      "Learning Rate: 4.3000000005122274e-05\n",
      "Epoch 9/80\n",
      "360/360 [==============================] - 141s 393ms/step - loss: 6.3411 - age_output_loss: 1.1745 - imagequality_output_loss: 0.8268 - emotion_output_loss: 0.7999 - carryingbag_output_loss: 0.6874 - weight_output_loss: 0.8010 - footwear_output_loss: 0.6952 - gender_output_loss: 0.2041 - bodypose_output_loss: 0.3203 - age_output_accuracy: 0.4771 - imagequality_output_accuracy: 0.6099 - emotion_output_accuracy: 0.7139 - carryingbag_output_accuracy: 0.7144 - weight_output_accuracy: 0.6727 - footwear_output_accuracy: 0.6991 - gender_output_accuracy: 0.9198 - bodypose_output_accuracy: 0.8799 - val_loss: 6.8740 - val_age_output_loss: 1.2635 - val_imagequality_output_loss: 0.8877 - val_emotion_output_loss: 0.8988 - val_carryingbag_output_loss: 0.7726 - val_weight_output_loss: 0.8835 - val_footwear_output_loss: 0.7389 - val_gender_output_loss: 0.2325 - val_bodypose_output_loss: 0.3853 - val_age_output_accuracy: 0.4294 - val_imagequality_output_accuracy: 0.5867 - val_emotion_output_accuracy: 0.7021 - val_carryingbag_output_accuracy: 0.6865 - val_weight_output_accuracy: 0.6532 - val_footwear_output_accuracy: 0.6840 - val_gender_output_accuracy: 0.9173 - val_bodypose_output_accuracy: 0.8700\n",
      "Epoch Number: 8\n",
      "Learning Rate: 4.774999979417771e-05\n",
      "Epoch 10/80\n",
      "360/360 [==============================] - 142s 393ms/step - loss: 6.3455 - age_output_loss: 1.1754 - imagequality_output_loss: 0.8300 - emotion_output_loss: 0.8000 - carryingbag_output_loss: 0.6927 - weight_output_loss: 0.8015 - footwear_output_loss: 0.6964 - gender_output_loss: 0.2048 - bodypose_output_loss: 0.3129 - age_output_accuracy: 0.4810 - imagequality_output_accuracy: 0.6065 - emotion_output_accuracy: 0.7133 - carryingbag_output_accuracy: 0.7149 - weight_output_accuracy: 0.6751 - footwear_output_accuracy: 0.7003 - gender_output_accuracy: 0.9201 - bodypose_output_accuracy: 0.8832 - val_loss: 6.8587 - val_age_output_loss: 1.2649 - val_imagequality_output_loss: 0.8899 - val_emotion_output_loss: 0.8978 - val_carryingbag_output_loss: 0.7746 - val_weight_output_loss: 0.8830 - val_footwear_output_loss: 0.7400 - val_gender_output_loss: 0.2334 - val_bodypose_output_loss: 0.3839 - val_age_output_accuracy: 0.4259 - val_imagequality_output_accuracy: 0.5867 - val_emotion_output_accuracy: 0.7016 - val_carryingbag_output_accuracy: 0.6855 - val_weight_output_accuracy: 0.6517 - val_footwear_output_accuracy: 0.6825 - val_gender_output_accuracy: 0.9173 - val_bodypose_output_accuracy: 0.8690\n",
      "Epoch Number: 9\n",
      "Learning Rate: 5.249999958323315e-05\n",
      "Epoch 11/80\n",
      "360/360 [==============================] - 141s 392ms/step - loss: 6.3496 - age_output_loss: 1.1739 - imagequality_output_loss: 0.8303 - emotion_output_loss: 0.7986 - carryingbag_output_loss: 0.6907 - weight_output_loss: 0.8050 - footwear_output_loss: 0.6923 - gender_output_loss: 0.2076 - bodypose_output_loss: 0.3195 - age_output_accuracy: 0.4821 - imagequality_output_accuracy: 0.6043 - emotion_output_accuracy: 0.7138 - carryingbag_output_accuracy: 0.7189 - weight_output_accuracy: 0.6740 - footwear_output_accuracy: 0.6986 - gender_output_accuracy: 0.9202 - bodypose_output_accuracy: 0.8825 - val_loss: 6.8641 - val_age_output_loss: 1.2667 - val_imagequality_output_loss: 0.8889 - val_emotion_output_loss: 0.8982 - val_carryingbag_output_loss: 0.7713 - val_weight_output_loss: 0.8839 - val_footwear_output_loss: 0.7396 - val_gender_output_loss: 0.2332 - val_bodypose_output_loss: 0.3849 - val_age_output_accuracy: 0.4279 - val_imagequality_output_accuracy: 0.5847 - val_emotion_output_accuracy: 0.7016 - val_carryingbag_output_accuracy: 0.6855 - val_weight_output_accuracy: 0.6532 - val_footwear_output_accuracy: 0.6825 - val_gender_output_accuracy: 0.9178 - val_bodypose_output_accuracy: 0.8700\n",
      "Epoch Number: 10\n",
      "Learning Rate: 5.7249999372288585e-05\n",
      "Epoch 12/80\n",
      "360/360 [==============================] - 141s 393ms/step - loss: 6.3408 - age_output_loss: 1.1701 - imagequality_output_loss: 0.8286 - emotion_output_loss: 0.8006 - carryingbag_output_loss: 0.6923 - weight_output_loss: 0.8029 - footwear_output_loss: 0.6927 - gender_output_loss: 0.2069 - bodypose_output_loss: 0.3150 - age_output_accuracy: 0.4805 - imagequality_output_accuracy: 0.6033 - emotion_output_accuracy: 0.7140 - carryingbag_output_accuracy: 0.7123 - weight_output_accuracy: 0.6758 - footwear_output_accuracy: 0.7004 - gender_output_accuracy: 0.9190 - bodypose_output_accuracy: 0.8846 - val_loss: 6.8679 - val_age_output_loss: 1.2638 - val_imagequality_output_loss: 0.8902 - val_emotion_output_loss: 0.8986 - val_carryingbag_output_loss: 0.7758 - val_weight_output_loss: 0.8832 - val_footwear_output_loss: 0.7394 - val_gender_output_loss: 0.2349 - val_bodypose_output_loss: 0.3838 - val_age_output_accuracy: 0.4274 - val_imagequality_output_accuracy: 0.5857 - val_emotion_output_accuracy: 0.7031 - val_carryingbag_output_accuracy: 0.6850 - val_weight_output_accuracy: 0.6532 - val_footwear_output_accuracy: 0.6855 - val_gender_output_accuracy: 0.9178 - val_bodypose_output_accuracy: 0.8705\n",
      "Epoch Number: 11\n",
      "Learning Rate: 6.199999916134402e-05\n",
      "Epoch 13/80\n",
      "360/360 [==============================] - 141s 393ms/step - loss: 6.3423 - age_output_loss: 1.1681 - imagequality_output_loss: 0.8366 - emotion_output_loss: 0.7981 - carryingbag_output_loss: 0.6874 - weight_output_loss: 0.8031 - footwear_output_loss: 0.6953 - gender_output_loss: 0.2048 - bodypose_output_loss: 0.3173 - age_output_accuracy: 0.4833 - imagequality_output_accuracy: 0.6011 - emotion_output_accuracy: 0.7146 - carryingbag_output_accuracy: 0.7142 - weight_output_accuracy: 0.6748 - footwear_output_accuracy: 0.6956 - gender_output_accuracy: 0.9196 - bodypose_output_accuracy: 0.8813 - val_loss: 6.8584 - val_age_output_loss: 1.2662 - val_imagequality_output_loss: 0.8941 - val_emotion_output_loss: 0.8985 - val_carryingbag_output_loss: 0.7727 - val_weight_output_loss: 0.8844 - val_footwear_output_loss: 0.7404 - val_gender_output_loss: 0.2337 - val_bodypose_output_loss: 0.3836 - val_age_output_accuracy: 0.4254 - val_imagequality_output_accuracy: 0.5837 - val_emotion_output_accuracy: 0.7016 - val_carryingbag_output_accuracy: 0.6860 - val_weight_output_accuracy: 0.6542 - val_footwear_output_accuracy: 0.6865 - val_gender_output_accuracy: 0.9194 - val_bodypose_output_accuracy: 0.8700\n",
      "Epoch Number: 12\n",
      "Learning Rate: 6.674999895039946e-05\n",
      "Epoch 14/80\n",
      "360/360 [==============================] - 141s 393ms/step - loss: 6.3443 - age_output_loss: 1.1722 - imagequality_output_loss: 0.8299 - emotion_output_loss: 0.7978 - carryingbag_output_loss: 0.6910 - weight_output_loss: 0.8030 - footwear_output_loss: 0.6971 - gender_output_loss: 0.2059 - bodypose_output_loss: 0.3160 - age_output_accuracy: 0.4822 - imagequality_output_accuracy: 0.6056 - emotion_output_accuracy: 0.7135 - carryingbag_output_accuracy: 0.7147 - weight_output_accuracy: 0.6714 - footwear_output_accuracy: 0.7006 - gender_output_accuracy: 0.9192 - bodypose_output_accuracy: 0.8808 - val_loss: 6.8444 - val_age_output_loss: 1.2679 - val_imagequality_output_loss: 0.8889 - val_emotion_output_loss: 0.8985 - val_carryingbag_output_loss: 0.7727 - val_weight_output_loss: 0.8828 - val_footwear_output_loss: 0.7384 - val_gender_output_loss: 0.2339 - val_bodypose_output_loss: 0.3847 - val_age_output_accuracy: 0.4274 - val_imagequality_output_accuracy: 0.5842 - val_emotion_output_accuracy: 0.7011 - val_carryingbag_output_accuracy: 0.6850 - val_weight_output_accuracy: 0.6532 - val_footwear_output_accuracy: 0.6820 - val_gender_output_accuracy: 0.9194 - val_bodypose_output_accuracy: 0.8695\n",
      "Epoch Number: 13\n",
      "Learning Rate: 7.14999987394549e-05\n",
      "Epoch 15/80\n",
      "360/360 [==============================] - 141s 391ms/step - loss: 6.3322 - age_output_loss: 1.1766 - imagequality_output_loss: 0.8301 - emotion_output_loss: 0.7968 - carryingbag_output_loss: 0.6873 - weight_output_loss: 0.8057 - footwear_output_loss: 0.6908 - gender_output_loss: 0.2041 - bodypose_output_loss: 0.3093 - age_output_accuracy: 0.4800 - imagequality_output_accuracy: 0.6062 - emotion_output_accuracy: 0.7129 - carryingbag_output_accuracy: 0.7155 - weight_output_accuracy: 0.6723 - footwear_output_accuracy: 0.6993 - gender_output_accuracy: 0.9221 - bodypose_output_accuracy: 0.8845 - val_loss: 6.8666 - val_age_output_loss: 1.2641 - val_imagequality_output_loss: 0.8872 - val_emotion_output_loss: 0.8983 - val_carryingbag_output_loss: 0.7782 - val_weight_output_loss: 0.8842 - val_footwear_output_loss: 0.7396 - val_gender_output_loss: 0.2363 - val_bodypose_output_loss: 0.3852 - val_age_output_accuracy: 0.4284 - val_imagequality_output_accuracy: 0.5857 - val_emotion_output_accuracy: 0.7006 - val_carryingbag_output_accuracy: 0.6794 - val_weight_output_accuracy: 0.6522 - val_footwear_output_accuracy: 0.6855 - val_gender_output_accuracy: 0.9148 - val_bodypose_output_accuracy: 0.8679\n",
      "Epoch Number: 14\n",
      "Learning Rate: 7.624999852851033e-05\n",
      "Epoch 16/80\n",
      "360/360 [==============================] - 141s 393ms/step - loss: 6.3252 - age_output_loss: 1.1720 - imagequality_output_loss: 0.8249 - emotion_output_loss: 0.7963 - carryingbag_output_loss: 0.6873 - weight_output_loss: 0.8012 - footwear_output_loss: 0.6938 - gender_output_loss: 0.2034 - bodypose_output_loss: 0.3149 - age_output_accuracy: 0.4872 - imagequality_output_accuracy: 0.6080 - emotion_output_accuracy: 0.7142 - carryingbag_output_accuracy: 0.7139 - weight_output_accuracy: 0.6774 - footwear_output_accuracy: 0.6965 - gender_output_accuracy: 0.9191 - bodypose_output_accuracy: 0.8800 - val_loss: 6.8726 - val_age_output_loss: 1.2666 - val_imagequality_output_loss: 0.8910 - val_emotion_output_loss: 0.8977 - val_carryingbag_output_loss: 0.7749 - val_weight_output_loss: 0.8844 - val_footwear_output_loss: 0.7410 - val_gender_output_loss: 0.2346 - val_bodypose_output_loss: 0.3853 - val_age_output_accuracy: 0.4284 - val_imagequality_output_accuracy: 0.5832 - val_emotion_output_accuracy: 0.7011 - val_carryingbag_output_accuracy: 0.6845 - val_weight_output_accuracy: 0.6522 - val_footwear_output_accuracy: 0.6845 - val_gender_output_accuracy: 0.9163 - val_bodypose_output_accuracy: 0.8695\n",
      "Epoch Number: 15\n",
      "Learning Rate: 8.099999831756577e-05\n",
      "Epoch 17/80\n",
      "360/360 [==============================] - 142s 393ms/step - loss: 6.3504 - age_output_loss: 1.1726 - imagequality_output_loss: 0.8334 - emotion_output_loss: 0.8004 - carryingbag_output_loss: 0.6894 - weight_output_loss: 0.8062 - footwear_output_loss: 0.6935 - gender_output_loss: 0.2063 - bodypose_output_loss: 0.3173 - age_output_accuracy: 0.4850 - imagequality_output_accuracy: 0.6038 - emotion_output_accuracy: 0.7159 - carryingbag_output_accuracy: 0.7107 - weight_output_accuracy: 0.6732 - footwear_output_accuracy: 0.6997 - gender_output_accuracy: 0.9193 - bodypose_output_accuracy: 0.8808 - val_loss: 6.8623 - val_age_output_loss: 1.2647 - val_imagequality_output_loss: 0.8857 - val_emotion_output_loss: 0.8969 - val_carryingbag_output_loss: 0.7719 - val_weight_output_loss: 0.8833 - val_footwear_output_loss: 0.7390 - val_gender_output_loss: 0.2338 - val_bodypose_output_loss: 0.3843 - val_age_output_accuracy: 0.4264 - val_imagequality_output_accuracy: 0.5837 - val_emotion_output_accuracy: 0.7016 - val_carryingbag_output_accuracy: 0.6855 - val_weight_output_accuracy: 0.6512 - val_footwear_output_accuracy: 0.6850 - val_gender_output_accuracy: 0.9189 - val_bodypose_output_accuracy: 0.8690\n",
      "Epoch Number: 16\n",
      "Learning Rate: 8.57499981066212e-05\n",
      "Epoch 18/80\n",
      "360/360 [==============================] - 141s 392ms/step - loss: 6.3394 - age_output_loss: 1.1713 - imagequality_output_loss: 0.8291 - emotion_output_loss: 0.7974 - carryingbag_output_loss: 0.6901 - weight_output_loss: 0.8024 - footwear_output_loss: 0.6968 - gender_output_loss: 0.2029 - bodypose_output_loss: 0.3183 - age_output_accuracy: 0.4859 - imagequality_output_accuracy: 0.6073 - emotion_output_accuracy: 0.7166 - carryingbag_output_accuracy: 0.7153 - weight_output_accuracy: 0.6769 - footwear_output_accuracy: 0.6989 - gender_output_accuracy: 0.9207 - bodypose_output_accuracy: 0.8834 - val_loss: 6.8862 - val_age_output_loss: 1.2675 - val_imagequality_output_loss: 0.8938 - val_emotion_output_loss: 0.9001 - val_carryingbag_output_loss: 0.7748 - val_weight_output_loss: 0.8831 - val_footwear_output_loss: 0.7391 - val_gender_output_loss: 0.2344 - val_bodypose_output_loss: 0.3839 - val_age_output_accuracy: 0.4244 - val_imagequality_output_accuracy: 0.5832 - val_emotion_output_accuracy: 0.7021 - val_carryingbag_output_accuracy: 0.6850 - val_weight_output_accuracy: 0.6537 - val_footwear_output_accuracy: 0.6860 - val_gender_output_accuracy: 0.9189 - val_bodypose_output_accuracy: 0.8705\n",
      "Epoch Number: 17\n",
      "Learning Rate: 9.049999789567664e-05\n",
      "Epoch 19/80\n",
      "360/360 [==============================] - 142s 393ms/step - loss: 6.3444 - age_output_loss: 1.1727 - imagequality_output_loss: 0.8312 - emotion_output_loss: 0.8006 - carryingbag_output_loss: 0.6884 - weight_output_loss: 0.8044 - footwear_output_loss: 0.6956 - gender_output_loss: 0.2066 - bodypose_output_loss: 0.3138 - age_output_accuracy: 0.4868 - imagequality_output_accuracy: 0.6071 - emotion_output_accuracy: 0.7149 - carryingbag_output_accuracy: 0.7159 - weight_output_accuracy: 0.6750 - footwear_output_accuracy: 0.6975 - gender_output_accuracy: 0.9195 - bodypose_output_accuracy: 0.8836 - val_loss: 6.8829 - val_age_output_loss: 1.2673 - val_imagequality_output_loss: 0.8912 - val_emotion_output_loss: 0.8986 - val_carryingbag_output_loss: 0.7768 - val_weight_output_loss: 0.8840 - val_footwear_output_loss: 0.7397 - val_gender_output_loss: 0.2358 - val_bodypose_output_loss: 0.3841 - val_age_output_accuracy: 0.4269 - val_imagequality_output_accuracy: 0.5837 - val_emotion_output_accuracy: 0.7016 - val_carryingbag_output_accuracy: 0.6850 - val_weight_output_accuracy: 0.6527 - val_footwear_output_accuracy: 0.6835 - val_gender_output_accuracy: 0.9148 - val_bodypose_output_accuracy: 0.8695\n",
      "Epoch Number: 18\n",
      "Learning Rate: 9.524999768473208e-05\n",
      "Epoch 20/80\n",
      "360/360 [==============================] - 141s 392ms/step - loss: 6.3241 - age_output_loss: 1.1650 - imagequality_output_loss: 0.8268 - emotion_output_loss: 0.7987 - carryingbag_output_loss: 0.6913 - weight_output_loss: 0.8035 - footwear_output_loss: 0.6948 - gender_output_loss: 0.2031 - bodypose_output_loss: 0.3099 - age_output_accuracy: 0.4830 - imagequality_output_accuracy: 0.6096 - emotion_output_accuracy: 0.7139 - carryingbag_output_accuracy: 0.7114 - weight_output_accuracy: 0.6713 - footwear_output_accuracy: 0.6981 - gender_output_accuracy: 0.9226 - bodypose_output_accuracy: 0.8826 - val_loss: 6.8952 - val_age_output_loss: 1.2649 - val_imagequality_output_loss: 0.8914 - val_emotion_output_loss: 0.8991 - val_carryingbag_output_loss: 0.7844 - val_weight_output_loss: 0.8842 - val_footwear_output_loss: 0.7397 - val_gender_output_loss: 0.2351 - val_bodypose_output_loss: 0.3849 - val_age_output_accuracy: 0.4294 - val_imagequality_output_accuracy: 0.5837 - val_emotion_output_accuracy: 0.7021 - val_carryingbag_output_accuracy: 0.6799 - val_weight_output_accuracy: 0.6522 - val_footwear_output_accuracy: 0.6840 - val_gender_output_accuracy: 0.9168 - val_bodypose_output_accuracy: 0.8700\n",
      "Epoch Number: 19\n",
      "Learning Rate: 9.999999747378752e-05\n",
      "Epoch 21/80\n",
      "359/360 [============================>.] - ETA: 0s - loss: 6.3280 - age_output_loss: 1.1695 - imagequality_output_loss: 0.8283 - emotion_output_loss: 0.7978 - carryingbag_output_loss: 0.6879 - weight_output_loss: 0.8039 - footwear_output_loss: 0.6930 - gender_output_loss: 0.2064 - bodypose_output_loss: 0.3104 - age_output_accuracy: 0.4876 - imagequality_output_accuracy: 0.6109 - emotion_output_accuracy: 0.7152 - carryingbag_output_accuracy: 0.7151 - weight_output_accuracy: 0.6771 - footwear_output_accuracy: 0.6999 - gender_output_accuracy: 0.9186 - bodypose_output_accuracy: 0.8839Learning Rate: 9.999999747378752e-05\n",
      "Epoch Number: 19\n",
      "360/360 [==============================] - 141s 392ms/step - loss: 6.3291 - age_output_loss: 1.1696 - imagequality_output_loss: 0.8285 - emotion_output_loss: 0.7977 - carryingbag_output_loss: 0.6884 - weight_output_loss: 0.8043 - footwear_output_loss: 0.6929 - gender_output_loss: 0.2064 - bodypose_output_loss: 0.3105 - age_output_accuracy: 0.4876 - imagequality_output_accuracy: 0.6105 - emotion_output_accuracy: 0.7153 - carryingbag_output_accuracy: 0.7149 - weight_output_accuracy: 0.6766 - footwear_output_accuracy: 0.7001 - gender_output_accuracy: 0.9186 - bodypose_output_accuracy: 0.8838 - val_loss: 6.8909 - val_age_output_loss: 1.2703 - val_imagequality_output_loss: 0.8910 - val_emotion_output_loss: 0.8997 - val_carryingbag_output_loss: 0.7788 - val_weight_output_loss: 0.8852 - val_footwear_output_loss: 0.7403 - val_gender_output_loss: 0.2343 - val_bodypose_output_loss: 0.3849 - val_age_output_accuracy: 0.4274 - val_imagequality_output_accuracy: 0.5837 - val_emotion_output_accuracy: 0.7031 - val_carryingbag_output_accuracy: 0.6804 - val_weight_output_accuracy: 0.6547 - val_footwear_output_accuracy: 0.6835 - val_gender_output_accuracy: 0.9173 - val_bodypose_output_accuracy: 0.8669\n",
      "Epoch Number: 20\n",
      "Learning Rate: 9.524999768473208e-05\n",
      "Epoch 22/80\n",
      "359/360 [============================>.] - ETA: 0s - loss: 6.3234 - age_output_loss: 1.1669 - imagequality_output_loss: 0.8282 - emotion_output_loss: 0.7958 - carryingbag_output_loss: 0.6900 - weight_output_loss: 0.8058 - footwear_output_loss: 0.6947 - gender_output_loss: 0.2008 - bodypose_output_loss: 0.3105 - age_output_accuracy: 0.4845 - imagequality_output_accuracy: 0.6084 - emotion_output_accuracy: 0.7148 - carryingbag_output_accuracy: 0.7154 - weight_output_accuracy: 0.6733 - footwear_output_accuracy: 0.7019 - gender_output_accuracy: 0.9210 - bodypose_output_accuracy: 0.8835Epoch Number: 20\n",
      "Learning Rate: 9.524999768473208e-05\n",
      "360/360 [==============================] - 142s 393ms/step - loss: 6.3250 - age_output_loss: 1.1665 - imagequality_output_loss: 0.8284 - emotion_output_loss: 0.7972 - carryingbag_output_loss: 0.6901 - weight_output_loss: 0.8057 - footwear_output_loss: 0.6945 - gender_output_loss: 0.2012 - bodypose_output_loss: 0.3107 - age_output_accuracy: 0.4845 - imagequality_output_accuracy: 0.6085 - emotion_output_accuracy: 0.7141 - carryingbag_output_accuracy: 0.7151 - weight_output_accuracy: 0.6732 - footwear_output_accuracy: 0.7020 - gender_output_accuracy: 0.9208 - bodypose_output_accuracy: 0.8835 - val_loss: 6.8853 - val_age_output_loss: 1.2667 - val_imagequality_output_loss: 0.8970 - val_emotion_output_loss: 0.9004 - val_carryingbag_output_loss: 0.7740 - val_weight_output_loss: 0.8829 - val_footwear_output_loss: 0.7412 - val_gender_output_loss: 0.2352 - val_bodypose_output_loss: 0.3857 - val_age_output_accuracy: 0.4249 - val_imagequality_output_accuracy: 0.5852 - val_emotion_output_accuracy: 0.7041 - val_carryingbag_output_accuracy: 0.6860 - val_weight_output_accuracy: 0.6507 - val_footwear_output_accuracy: 0.6815 - val_gender_output_accuracy: 0.9178 - val_bodypose_output_accuracy: 0.8679\n",
      "Epoch Number: 21\n",
      "Learning Rate: 9.049999789567664e-05\n",
      "Epoch 23/80\n",
      "359/360 [============================>.] - ETA: 0s - loss: 6.3422 - age_output_loss: 1.1783 - imagequality_output_loss: 0.8328 - emotion_output_loss: 0.8004 - carryingbag_output_loss: 0.6847 - weight_output_loss: 0.8027 - footwear_output_loss: 0.6887 - gender_output_loss: 0.2061 - bodypose_output_loss: 0.3181 - age_output_accuracy: 0.4787 - imagequality_output_accuracy: 0.6055 - emotion_output_accuracy: 0.7162 - carryingbag_output_accuracy: 0.7180 - weight_output_accuracy: 0.6731 - footwear_output_accuracy: 0.6999 - gender_output_accuracy: 0.9183 - bodypose_output_accuracy: 0.8809Learning Rate: 9.049999789567664e-05\n",
      "360/360 [==============================] - 141s 392ms/step - loss: 6.3431 - age_output_loss: 1.1787 - imagequality_output_loss: 0.8325 - emotion_output_loss: 0.8010 - carryingbag_output_loss: 0.6850 - weight_output_loss: 0.8029 - footwear_output_loss: 0.6885 - gender_output_loss: 0.2060 - bodypose_output_loss: 0.3180 - age_output_accuracy: 0.4784 - imagequality_output_accuracy: 0.6056 - emotion_output_accuracy: 0.7161 - carryingbag_output_accuracy: 0.7178 - weight_output_accuracy: 0.6729 - footwear_output_accuracy: 0.6999 - gender_output_accuracy: 0.9182 - bodypose_output_accuracy: 0.8809 - val_loss: 6.9054 - val_age_output_loss: 1.2657 - val_imagequality_output_loss: 0.8947 - val_emotion_output_loss: 0.8995 - val_carryingbag_output_loss: 0.7797 - val_weight_output_loss: 0.8850 - val_footwear_output_loss: 0.7404 - val_gender_output_loss: 0.2349 - val_bodypose_output_loss: 0.3853 - val_age_output_accuracy: 0.4249 - val_imagequality_output_accuracy: 0.5832 - val_emotion_output_accuracy: 0.7016 - val_carryingbag_output_accuracy: 0.6835 - val_weight_output_accuracy: 0.6522 - val_footwear_output_accuracy: 0.6830 - val_gender_output_accuracy: 0.9183 - val_bodypose_output_accuracy: 0.8679\n",
      "Epoch Number: 22\n",
      "Learning Rate: 8.57499981066212e-05\n",
      "Epoch 24/80\n",
      "359/360 [============================>.] - ETA: 0s - loss: 6.3206 - age_output_loss: 1.1657 - imagequality_output_loss: 0.8326 - emotion_output_loss: 0.7955 - carryingbag_output_loss: 0.6934 - weight_output_loss: 0.7999 - footwear_output_loss: 0.6937 - gender_output_loss: 0.2026 - bodypose_output_loss: 0.3066 - age_output_accuracy: 0.4799 - imagequality_output_accuracy: 0.6119 - emotion_output_accuracy: 0.7154 - carryingbag_output_accuracy: 0.7086 - weight_output_accuracy: 0.6792 - footwear_output_accuracy: 0.6978 - gender_output_accuracy: 0.9224 - bodypose_output_accuracy: 0.8853\n",
      "Learning Rate: 8.57499981066212e-05\n",
      "360/360 [==============================] - 141s 393ms/step - loss: 6.3217 - age_output_loss: 1.1657 - imagequality_output_loss: 0.8325 - emotion_output_loss: 0.7963 - carryingbag_output_loss: 0.6932 - weight_output_loss: 0.8003 - footwear_output_loss: 0.6938 - gender_output_loss: 0.2029 - bodypose_output_loss: 0.3066 - age_output_accuracy: 0.4799 - imagequality_output_accuracy: 0.6122 - emotion_output_accuracy: 0.7151 - carryingbag_output_accuracy: 0.7087 - weight_output_accuracy: 0.6788 - footwear_output_accuracy: 0.6973 - gender_output_accuracy: 0.9223 - bodypose_output_accuracy: 0.8853 - val_loss: 6.8924 - val_age_output_loss: 1.2679 - val_imagequality_output_loss: 0.8967 - val_emotion_output_loss: 0.9000 - val_carryingbag_output_loss: 0.7793 - val_weight_output_loss: 0.8865 - val_footwear_output_loss: 0.7421 - val_gender_output_loss: 0.2354 - val_bodypose_output_loss: 0.3856 - val_age_output_accuracy: 0.4249 - val_imagequality_output_accuracy: 0.5817 - val_emotion_output_accuracy: 0.7026 - val_carryingbag_output_accuracy: 0.6840 - val_weight_output_accuracy: 0.6537 - val_footwear_output_accuracy: 0.6820 - val_gender_output_accuracy: 0.9163 - val_bodypose_output_accuracy: 0.8669\n",
      "Epoch Number: 23\n",
      "Learning Rate: 8.099999831756577e-05\n",
      "Epoch 25/80\n",
      "359/360 [============================>.] - ETA: 0s - loss: 6.3257 - age_output_loss: 1.1671 - imagequality_output_loss: 0.8269 - emotion_output_loss: 0.7986 - carryingbag_output_loss: 0.6902 - weight_output_loss: 0.8027 - footwear_output_loss: 0.6914 - gender_output_loss: 0.2030 - bodypose_output_loss: 0.3154 - age_output_accuracy: 0.4847 - imagequality_output_accuracy: 0.6120 - emotion_output_accuracy: 0.7154 - carryingbag_output_accuracy: 0.7131 - weight_output_accuracy: 0.6716 - footwear_output_accuracy: 0.6980 - gender_output_accuracy: 0.9210 - bodypose_output_accuracy: 0.8822Learning Rate: 8.099999831756577e-05\n",
      "Epoch Number: 23\n",
      "360/360 [==============================] - 141s 392ms/step - loss: 6.3276 - age_output_loss: 1.1680 - imagequality_output_loss: 0.8267 - emotion_output_loss: 0.7985 - carryingbag_output_loss: 0.6905 - weight_output_loss: 0.8031 - footwear_output_loss: 0.6912 - gender_output_loss: 0.2034 - bodypose_output_loss: 0.3158 - age_output_accuracy: 0.4839 - imagequality_output_accuracy: 0.6122 - emotion_output_accuracy: 0.7156 - carryingbag_output_accuracy: 0.7131 - weight_output_accuracy: 0.6718 - footwear_output_accuracy: 0.6981 - gender_output_accuracy: 0.9208 - bodypose_output_accuracy: 0.8823 - val_loss: 6.8979 - val_age_output_loss: 1.2671 - val_imagequality_output_loss: 0.9000 - val_emotion_output_loss: 0.8982 - val_carryingbag_output_loss: 0.7812 - val_weight_output_loss: 0.8878 - val_footwear_output_loss: 0.7427 - val_gender_output_loss: 0.2368 - val_bodypose_output_loss: 0.3845 - val_age_output_accuracy: 0.4259 - val_imagequality_output_accuracy: 0.5791 - val_emotion_output_accuracy: 0.7031 - val_carryingbag_output_accuracy: 0.6789 - val_weight_output_accuracy: 0.6527 - val_footwear_output_accuracy: 0.6830 - val_gender_output_accuracy: 0.9153 - val_bodypose_output_accuracy: 0.8659\n",
      "Epoch Number: 24\n",
      "Learning Rate: 7.624999852851033e-05\n",
      "Epoch 26/80\n",
      "359/360 [============================>.] - ETA: 0s - loss: 6.3295 - age_output_loss: 1.1720 - imagequality_output_loss: 0.8290 - emotion_output_loss: 0.7957 - carryingbag_output_loss: 0.6914 - weight_output_loss: 0.8036 - footwear_output_loss: 0.6936 - gender_output_loss: 0.2000 - bodypose_output_loss: 0.3138 - age_output_accuracy: 0.4876 - imagequality_output_accuracy: 0.6021 - emotion_output_accuracy: 0.7152 - carryingbag_output_accuracy: 0.7140 - weight_output_accuracy: 0.6735 - footwear_output_accuracy: 0.6965 - gender_output_accuracy: 0.9229 - bodypose_output_accuracy: 0.8821Learning Rate: 7.624999852851033e-05\n",
      "360/360 [==============================] - 142s 393ms/step - loss: 6.3300 - age_output_loss: 1.1715 - imagequality_output_loss: 0.8297 - emotion_output_loss: 0.7960 - carryingbag_output_loss: 0.6913 - weight_output_loss: 0.8033 - footwear_output_loss: 0.6939 - gender_output_loss: 0.1999 - bodypose_output_loss: 0.3142 - age_output_accuracy: 0.4881 - imagequality_output_accuracy: 0.6021 - emotion_output_accuracy: 0.7149 - carryingbag_output_accuracy: 0.7141 - weight_output_accuracy: 0.6738 - footwear_output_accuracy: 0.6963 - gender_output_accuracy: 0.9229 - bodypose_output_accuracy: 0.8820 - val_loss: 6.8896 - val_age_output_loss: 1.2683 - val_imagequality_output_loss: 0.8955 - val_emotion_output_loss: 0.8996 - val_carryingbag_output_loss: 0.7757 - val_weight_output_loss: 0.8835 - val_footwear_output_loss: 0.7395 - val_gender_output_loss: 0.2336 - val_bodypose_output_loss: 0.3856 - val_age_output_accuracy: 0.4254 - val_imagequality_output_accuracy: 0.5781 - val_emotion_output_accuracy: 0.7026 - val_carryingbag_output_accuracy: 0.6845 - val_weight_output_accuracy: 0.6562 - val_footwear_output_accuracy: 0.6850 - val_gender_output_accuracy: 0.9168 - val_bodypose_output_accuracy: 0.8684\n",
      "Epoch Number: 25\n",
      "Learning Rate: 7.14999987394549e-05\n",
      "Epoch 27/80\n",
      "360/360 [==============================] - 142s 393ms/step - loss: 6.3331 - age_output_loss: 1.1689 - imagequality_output_loss: 0.8313 - emotion_output_loss: 0.7933 - carryingbag_output_loss: 0.6845 - weight_output_loss: 0.8046 - footwear_output_loss: 0.6937 - gender_output_loss: 0.2050 - bodypose_output_loss: 0.3217 - age_output_accuracy: 0.4820 - imagequality_output_accuracy: 0.6048 - emotion_output_accuracy: 0.7160 - carryingbag_output_accuracy: 0.7161 - weight_output_accuracy: 0.6732 - footwear_output_accuracy: 0.6951 - gender_output_accuracy: 0.9201 - bodypose_output_accuracy: 0.8795 - val_loss: 6.8922 - val_age_output_loss: 1.2664 - val_imagequality_output_loss: 0.8911 - val_emotion_output_loss: 0.9001 - val_carryingbag_output_loss: 0.7746 - val_weight_output_loss: 0.8833 - val_footwear_output_loss: 0.7401 - val_gender_output_loss: 0.2361 - val_bodypose_output_loss: 0.3856 - val_age_output_accuracy: 0.4279 - val_imagequality_output_accuracy: 0.5827 - val_emotion_output_accuracy: 0.7011 - val_carryingbag_output_accuracy: 0.6875 - val_weight_output_accuracy: 0.6522 - val_footwear_output_accuracy: 0.6835 - val_gender_output_accuracy: 0.9163 - val_bodypose_output_accuracy: 0.8669\n",
      "Epoch Number: 26\n",
      "Learning Rate: 6.674999895039946e-05\n",
      "Epoch 28/80\n",
      "360/360 [==============================] - 142s 393ms/step - loss: 6.3257 - age_output_loss: 1.1639 - imagequality_output_loss: 0.8253 - emotion_output_loss: 0.7974 - carryingbag_output_loss: 0.6926 - weight_output_loss: 0.8017 - footwear_output_loss: 0.6967 - gender_output_loss: 0.2027 - bodypose_output_loss: 0.3154 - age_output_accuracy: 0.4886 - imagequality_output_accuracy: 0.6115 - emotion_output_accuracy: 0.7142 - carryingbag_output_accuracy: 0.7116 - weight_output_accuracy: 0.6744 - footwear_output_accuracy: 0.6968 - gender_output_accuracy: 0.9224 - bodypose_output_accuracy: 0.8809 - val_loss: 6.8947 - val_age_output_loss: 1.2694 - val_imagequality_output_loss: 0.8951 - val_emotion_output_loss: 0.8992 - val_carryingbag_output_loss: 0.7812 - val_weight_output_loss: 0.8853 - val_footwear_output_loss: 0.7428 - val_gender_output_loss: 0.2370 - val_bodypose_output_loss: 0.3854 - val_age_output_accuracy: 0.4254 - val_imagequality_output_accuracy: 0.5806 - val_emotion_output_accuracy: 0.7026 - val_carryingbag_output_accuracy: 0.6830 - val_weight_output_accuracy: 0.6537 - val_footwear_output_accuracy: 0.6840 - val_gender_output_accuracy: 0.9153 - val_bodypose_output_accuracy: 0.8684\n",
      "Epoch Number: 27\n",
      "Learning Rate: 6.199999916134402e-05\n",
      "Epoch 29/80\n",
      "360/360 [==============================] - 142s 393ms/step - loss: 6.3180 - age_output_loss: 1.1697 - imagequality_output_loss: 0.8238 - emotion_output_loss: 0.7968 - carryingbag_output_loss: 0.6868 - weight_output_loss: 0.8046 - footwear_output_loss: 0.6905 - gender_output_loss: 0.2040 - bodypose_output_loss: 0.3119 - age_output_accuracy: 0.4853 - imagequality_output_accuracy: 0.6089 - emotion_output_accuracy: 0.7157 - carryingbag_output_accuracy: 0.7157 - weight_output_accuracy: 0.6720 - footwear_output_accuracy: 0.7010 - gender_output_accuracy: 0.9189 - bodypose_output_accuracy: 0.8841 - val_loss: 6.8857 - val_age_output_loss: 1.2681 - val_imagequality_output_loss: 0.8974 - val_emotion_output_loss: 0.9001 - val_carryingbag_output_loss: 0.7767 - val_weight_output_loss: 0.8851 - val_footwear_output_loss: 0.7397 - val_gender_output_loss: 0.2356 - val_bodypose_output_loss: 0.3863 - val_age_output_accuracy: 0.4244 - val_imagequality_output_accuracy: 0.5786 - val_emotion_output_accuracy: 0.7021 - val_carryingbag_output_accuracy: 0.6870 - val_weight_output_accuracy: 0.6512 - val_footwear_output_accuracy: 0.6840 - val_gender_output_accuracy: 0.9148 - val_bodypose_output_accuracy: 0.8684\n",
      "Epoch Number: 28\n",
      "Learning Rate: 5.7249999372288585e-05\n",
      "Epoch 30/80\n",
      "360/360 [==============================] - 141s 393ms/step - loss: 6.3140 - age_output_loss: 1.1652 - imagequality_output_loss: 0.8292 - emotion_output_loss: 0.7955 - carryingbag_output_loss: 0.6869 - weight_output_loss: 0.8031 - footwear_output_loss: 0.6959 - gender_output_loss: 0.1956 - bodypose_output_loss: 0.3126 - age_output_accuracy: 0.4905 - imagequality_output_accuracy: 0.6092 - emotion_output_accuracy: 0.7155 - carryingbag_output_accuracy: 0.7119 - weight_output_accuracy: 0.6737 - footwear_output_accuracy: 0.6973 - gender_output_accuracy: 0.9230 - bodypose_output_accuracy: 0.8839 - val_loss: 6.8806 - val_age_output_loss: 1.2666 - val_imagequality_output_loss: 0.8945 - val_emotion_output_loss: 0.9002 - val_carryingbag_output_loss: 0.7789 - val_weight_output_loss: 0.8861 - val_footwear_output_loss: 0.7410 - val_gender_output_loss: 0.2351 - val_bodypose_output_loss: 0.3850 - val_age_output_accuracy: 0.4239 - val_imagequality_output_accuracy: 0.5801 - val_emotion_output_accuracy: 0.7011 - val_carryingbag_output_accuracy: 0.6845 - val_weight_output_accuracy: 0.6537 - val_footwear_output_accuracy: 0.6835 - val_gender_output_accuracy: 0.9163 - val_bodypose_output_accuracy: 0.8674\n",
      "Epoch Number: 29\n",
      "Learning Rate: 5.249999958323315e-05\n",
      "Epoch 31/80\n",
      "360/360 [==============================] - 142s 393ms/step - loss: 6.3025 - age_output_loss: 1.1683 - imagequality_output_loss: 0.8281 - emotion_output_loss: 0.7949 - carryingbag_output_loss: 0.6862 - weight_output_loss: 0.7992 - footwear_output_loss: 0.6888 - gender_output_loss: 0.1954 - bodypose_output_loss: 0.3116 - age_output_accuracy: 0.4803 - imagequality_output_accuracy: 0.6089 - emotion_output_accuracy: 0.7167 - carryingbag_output_accuracy: 0.7200 - weight_output_accuracy: 0.6784 - footwear_output_accuracy: 0.7017 - gender_output_accuracy: 0.9247 - bodypose_output_accuracy: 0.8833 - val_loss: 6.8824 - val_age_output_loss: 1.2692 - val_imagequality_output_loss: 0.8963 - val_emotion_output_loss: 0.8996 - val_carryingbag_output_loss: 0.7810 - val_weight_output_loss: 0.8854 - val_footwear_output_loss: 0.7408 - val_gender_output_loss: 0.2349 - val_bodypose_output_loss: 0.3851 - val_age_output_accuracy: 0.4244 - val_imagequality_output_accuracy: 0.5817 - val_emotion_output_accuracy: 0.7036 - val_carryingbag_output_accuracy: 0.6815 - val_weight_output_accuracy: 0.6537 - val_footwear_output_accuracy: 0.6855 - val_gender_output_accuracy: 0.9158 - val_bodypose_output_accuracy: 0.8684\n",
      "Epoch Number: 30\n",
      "Learning Rate: 4.774999979417771e-05\n",
      "Epoch 32/80\n",
      "360/360 [==============================] - 141s 392ms/step - loss: 6.3338 - age_output_loss: 1.1725 - imagequality_output_loss: 0.8311 - emotion_output_loss: 0.8008 - carryingbag_output_loss: 0.6890 - weight_output_loss: 0.8041 - footwear_output_loss: 0.6916 - gender_output_loss: 0.2029 - bodypose_output_loss: 0.3120 - age_output_accuracy: 0.4839 - imagequality_output_accuracy: 0.6062 - emotion_output_accuracy: 0.7145 - carryingbag_output_accuracy: 0.7165 - weight_output_accuracy: 0.6767 - footwear_output_accuracy: 0.6998 - gender_output_accuracy: 0.9212 - bodypose_output_accuracy: 0.8825 - val_loss: 6.8695 - val_age_output_loss: 1.2700 - val_imagequality_output_loss: 0.8901 - val_emotion_output_loss: 0.8989 - val_carryingbag_output_loss: 0.7748 - val_weight_output_loss: 0.8854 - val_footwear_output_loss: 0.7393 - val_gender_output_loss: 0.2348 - val_bodypose_output_loss: 0.3847 - val_age_output_accuracy: 0.4269 - val_imagequality_output_accuracy: 0.5847 - val_emotion_output_accuracy: 0.7021 - val_carryingbag_output_accuracy: 0.6865 - val_weight_output_accuracy: 0.6552 - val_footwear_output_accuracy: 0.6860 - val_gender_output_accuracy: 0.9183 - val_bodypose_output_accuracy: 0.8674\n",
      "Epoch Number: 31\n",
      "Learning Rate: 4.3000000005122274e-05\n",
      "Epoch 33/80\n",
      "360/360 [==============================] - 141s 392ms/step - loss: 6.3127 - age_output_loss: 1.1653 - imagequality_output_loss: 0.8275 - emotion_output_loss: 0.7931 - carryingbag_output_loss: 0.6865 - weight_output_loss: 0.8009 - footwear_output_loss: 0.6905 - gender_output_loss: 0.2075 - bodypose_output_loss: 0.3117 - age_output_accuracy: 0.4870 - imagequality_output_accuracy: 0.6062 - emotion_output_accuracy: 0.7156 - carryingbag_output_accuracy: 0.7170 - weight_output_accuracy: 0.6778 - footwear_output_accuracy: 0.6997 - gender_output_accuracy: 0.9182 - bodypose_output_accuracy: 0.8822 - val_loss: 6.8828 - val_age_output_loss: 1.2662 - val_imagequality_output_loss: 0.8976 - val_emotion_output_loss: 0.8996 - val_carryingbag_output_loss: 0.7726 - val_weight_output_loss: 0.8857 - val_footwear_output_loss: 0.7396 - val_gender_output_loss: 0.2339 - val_bodypose_output_loss: 0.3849 - val_age_output_accuracy: 0.4244 - val_imagequality_output_accuracy: 0.5791 - val_emotion_output_accuracy: 0.7021 - val_carryingbag_output_accuracy: 0.6875 - val_weight_output_accuracy: 0.6522 - val_footwear_output_accuracy: 0.6830 - val_gender_output_accuracy: 0.9183 - val_bodypose_output_accuracy: 0.8690\n",
      "Epoch Number: 32\n",
      "Learning Rate: 3.825000021606684e-05\n",
      "Epoch 34/80\n",
      "360/360 [==============================] - 141s 393ms/step - loss: 6.3270 - age_output_loss: 1.1712 - imagequality_output_loss: 0.8312 - emotion_output_loss: 0.7928 - carryingbag_output_loss: 0.6884 - weight_output_loss: 0.8041 - footwear_output_loss: 0.6938 - gender_output_loss: 0.1979 - bodypose_output_loss: 0.3178 - age_output_accuracy: 0.4842 - imagequality_output_accuracy: 0.6056 - emotion_output_accuracy: 0.7148 - carryingbag_output_accuracy: 0.7139 - weight_output_accuracy: 0.6765 - footwear_output_accuracy: 0.6948 - gender_output_accuracy: 0.9231 - bodypose_output_accuracy: 0.8796 - val_loss: 6.8848 - val_age_output_loss: 1.2685 - val_imagequality_output_loss: 0.8954 - val_emotion_output_loss: 0.9009 - val_carryingbag_output_loss: 0.7790 - val_weight_output_loss: 0.8851 - val_footwear_output_loss: 0.7399 - val_gender_output_loss: 0.2365 - val_bodypose_output_loss: 0.3854 - val_age_output_accuracy: 0.4269 - val_imagequality_output_accuracy: 0.5811 - val_emotion_output_accuracy: 0.7011 - val_carryingbag_output_accuracy: 0.6840 - val_weight_output_accuracy: 0.6532 - val_footwear_output_accuracy: 0.6835 - val_gender_output_accuracy: 0.9158 - val_bodypose_output_accuracy: 0.8684\n",
      "Epoch Number: 33\n",
      "Learning Rate: 3.35000004270114e-05\n",
      "Epoch 35/80\n",
      "360/360 [==============================] - 141s 392ms/step - loss: 6.3191 - age_output_loss: 1.1689 - imagequality_output_loss: 0.8299 - emotion_output_loss: 0.7977 - carryingbag_output_loss: 0.6861 - weight_output_loss: 0.8048 - footwear_output_loss: 0.6914 - gender_output_loss: 0.1986 - bodypose_output_loss: 0.3119 - age_output_accuracy: 0.4829 - imagequality_output_accuracy: 0.6090 - emotion_output_accuracy: 0.7153 - carryingbag_output_accuracy: 0.7155 - weight_output_accuracy: 0.6751 - footwear_output_accuracy: 0.7030 - gender_output_accuracy: 0.9243 - bodypose_output_accuracy: 0.8833 - val_loss: 6.8804 - val_age_output_loss: 1.2698 - val_imagequality_output_loss: 0.8960 - val_emotion_output_loss: 0.9008 - val_carryingbag_output_loss: 0.7765 - val_weight_output_loss: 0.8849 - val_footwear_output_loss: 0.7390 - val_gender_output_loss: 0.2356 - val_bodypose_output_loss: 0.3853 - val_age_output_accuracy: 0.4259 - val_imagequality_output_accuracy: 0.5822 - val_emotion_output_accuracy: 0.7016 - val_carryingbag_output_accuracy: 0.6865 - val_weight_output_accuracy: 0.6552 - val_footwear_output_accuracy: 0.6830 - val_gender_output_accuracy: 0.9194 - val_bodypose_output_accuracy: 0.8679\n",
      "Epoch Number: 34\n",
      "Learning Rate: 2.8750000637955964e-05\n",
      "Epoch 36/80\n",
      "360/360 [==============================] - 141s 392ms/step - loss: 6.3083 - age_output_loss: 1.1663 - imagequality_output_loss: 0.8236 - emotion_output_loss: 0.7955 - carryingbag_output_loss: 0.6846 - weight_output_loss: 0.7943 - footwear_output_loss: 0.6952 - gender_output_loss: 0.2056 - bodypose_output_loss: 0.3134 - age_output_accuracy: 0.4853 - imagequality_output_accuracy: 0.6091 - emotion_output_accuracy: 0.7152 - carryingbag_output_accuracy: 0.7167 - weight_output_accuracy: 0.6768 - footwear_output_accuracy: 0.6969 - gender_output_accuracy: 0.9214 - bodypose_output_accuracy: 0.8819 - val_loss: 6.8681 - val_age_output_loss: 1.2685 - val_imagequality_output_loss: 0.8955 - val_emotion_output_loss: 0.8989 - val_carryingbag_output_loss: 0.7731 - val_weight_output_loss: 0.8844 - val_footwear_output_loss: 0.7392 - val_gender_output_loss: 0.2348 - val_bodypose_output_loss: 0.3849 - val_age_output_accuracy: 0.4249 - val_imagequality_output_accuracy: 0.5806 - val_emotion_output_accuracy: 0.7031 - val_carryingbag_output_accuracy: 0.6860 - val_weight_output_accuracy: 0.6552 - val_footwear_output_accuracy: 0.6820 - val_gender_output_accuracy: 0.9178 - val_bodypose_output_accuracy: 0.8684\n",
      "Epoch Number: 35\n",
      "Learning Rate: 2.4000000848900527e-05\n",
      "Epoch 37/80\n",
      "359/360 [============================>.] - ETA: 0s - loss: 6.3087 - age_output_loss: 1.1729 - imagequality_output_loss: 0.8291 - emotion_output_loss: 0.7952 - carryingbag_output_loss: 0.6829 - weight_output_loss: 0.7979 - footwear_output_loss: 0.6891 - gender_output_loss: 0.2031 - bodypose_output_loss: 0.3088 - age_output_accuracy: 0.4822 - imagequality_output_accuracy: 0.6078 - emotion_output_accuracy: 0.7163 - carryingbag_output_accuracy: 0.7191 - weight_output_accuracy: 0.6776 - footwear_output_accuracy: 0.6986 - gender_output_accuracy: 0.9194 - bodypose_output_accuracy: 0.8837Learning Rate: 2.4000000848900527e-05\n",
      "Epoch Number: 35\n",
      "360/360 [==============================] - 142s 393ms/step - loss: 6.3087 - age_output_loss: 1.1729 - imagequality_output_loss: 0.8292 - emotion_output_loss: 0.7946 - carryingbag_output_loss: 0.6831 - weight_output_loss: 0.7981 - footwear_output_loss: 0.6894 - gender_output_loss: 0.2034 - bodypose_output_loss: 0.3085 - age_output_accuracy: 0.4819 - imagequality_output_accuracy: 0.6078 - emotion_output_accuracy: 0.7168 - carryingbag_output_accuracy: 0.7188 - weight_output_accuracy: 0.6777 - footwear_output_accuracy: 0.6985 - gender_output_accuracy: 0.9194 - bodypose_output_accuracy: 0.8838 - val_loss: 6.8874 - val_age_output_loss: 1.2698 - val_imagequality_output_loss: 0.8969 - val_emotion_output_loss: 0.9007 - val_carryingbag_output_loss: 0.7789 - val_weight_output_loss: 0.8858 - val_footwear_output_loss: 0.7417 - val_gender_output_loss: 0.2365 - val_bodypose_output_loss: 0.3843 - val_age_output_accuracy: 0.4259 - val_imagequality_output_accuracy: 0.5811 - val_emotion_output_accuracy: 0.7026 - val_carryingbag_output_accuracy: 0.6804 - val_weight_output_accuracy: 0.6557 - val_footwear_output_accuracy: 0.6845 - val_gender_output_accuracy: 0.9163 - val_bodypose_output_accuracy: 0.8674\n",
      "Epoch Number: 36\n",
      "Learning Rate: 1.9249999240855686e-05\n",
      "Epoch 38/80\n",
      "360/360 [==============================] - 142s 393ms/step - loss: 6.3255 - age_output_loss: 1.1672 - imagequality_output_loss: 0.8261 - emotion_output_loss: 0.7970 - carryingbag_output_loss: 0.6914 - weight_output_loss: 0.8033 - footwear_output_loss: 0.6931 - gender_output_loss: 0.1996 - bodypose_output_loss: 0.3182 - age_output_accuracy: 0.4827 - imagequality_output_accuracy: 0.6049 - emotion_output_accuracy: 0.7137 - carryingbag_output_accuracy: 0.7178 - weight_output_accuracy: 0.6779 - footwear_output_accuracy: 0.7010 - gender_output_accuracy: 0.9241 - bodypose_output_accuracy: 0.8787 - val_loss: 6.8781 - val_age_output_loss: 1.2693 - val_imagequality_output_loss: 0.8942 - val_emotion_output_loss: 0.9012 - val_carryingbag_output_loss: 0.7761 - val_weight_output_loss: 0.8845 - val_footwear_output_loss: 0.7415 - val_gender_output_loss: 0.2355 - val_bodypose_output_loss: 0.3853 - val_age_output_accuracy: 0.4244 - val_imagequality_output_accuracy: 0.5817 - val_emotion_output_accuracy: 0.7021 - val_carryingbag_output_accuracy: 0.6835 - val_weight_output_accuracy: 0.6532 - val_footwear_output_accuracy: 0.6845 - val_gender_output_accuracy: 0.9183 - val_bodypose_output_accuracy: 0.8679\n",
      "Epoch Number: 37\n",
      "Learning Rate: 1.4500000361294951e-05\n",
      "Epoch 39/80\n",
      "360/360 [==============================] - 141s 392ms/step - loss: 6.3313 - age_output_loss: 1.1713 - imagequality_output_loss: 0.8279 - emotion_output_loss: 0.7977 - carryingbag_output_loss: 0.6866 - weight_output_loss: 0.7976 - footwear_output_loss: 0.6986 - gender_output_loss: 0.2123 - bodypose_output_loss: 0.3098 - age_output_accuracy: 0.4826 - imagequality_output_accuracy: 0.6077 - emotion_output_accuracy: 0.7152 - carryingbag_output_accuracy: 0.7190 - weight_output_accuracy: 0.6766 - footwear_output_accuracy: 0.6957 - gender_output_accuracy: 0.9146 - bodypose_output_accuracy: 0.8845 - val_loss: 6.8743 - val_age_output_loss: 1.2690 - val_imagequality_output_loss: 0.8941 - val_emotion_output_loss: 0.9001 - val_carryingbag_output_loss: 0.7761 - val_weight_output_loss: 0.8849 - val_footwear_output_loss: 0.7396 - val_gender_output_loss: 0.2353 - val_bodypose_output_loss: 0.3851 - val_age_output_accuracy: 0.4264 - val_imagequality_output_accuracy: 0.5837 - val_emotion_output_accuracy: 0.7031 - val_carryingbag_output_accuracy: 0.6840 - val_weight_output_accuracy: 0.6552 - val_footwear_output_accuracy: 0.6840 - val_gender_output_accuracy: 0.9194 - val_bodypose_output_accuracy: 0.8684\n",
      "Epoch Number: 38\n",
      "Learning Rate: 9.749999662744813e-06\n",
      "Epoch 40/80\n",
      "360/360 [==============================] - 141s 393ms/step - loss: 6.2947 - age_output_loss: 1.1600 - imagequality_output_loss: 0.8251 - emotion_output_loss: 0.7953 - carryingbag_output_loss: 0.6910 - weight_output_loss: 0.7935 - footwear_output_loss: 0.6887 - gender_output_loss: 0.2041 - bodypose_output_loss: 0.3072 - age_output_accuracy: 0.4885 - imagequality_output_accuracy: 0.6124 - emotion_output_accuracy: 0.7143 - carryingbag_output_accuracy: 0.7142 - weight_output_accuracy: 0.6755 - footwear_output_accuracy: 0.6997 - gender_output_accuracy: 0.9191 - bodypose_output_accuracy: 0.8843 - val_loss: 6.8804 - val_age_output_loss: 1.2665 - val_imagequality_output_loss: 0.8961 - val_emotion_output_loss: 0.8994 - val_carryingbag_output_loss: 0.7760 - val_weight_output_loss: 0.8853 - val_footwear_output_loss: 0.7405 - val_gender_output_loss: 0.2356 - val_bodypose_output_loss: 0.3848 - val_age_output_accuracy: 0.4224 - val_imagequality_output_accuracy: 0.5827 - val_emotion_output_accuracy: 0.7031 - val_carryingbag_output_accuracy: 0.6840 - val_weight_output_accuracy: 0.6517 - val_footwear_output_accuracy: 0.6835 - val_gender_output_accuracy: 0.9173 - val_bodypose_output_accuracy: 0.8679\n",
      "Epoch Number: 39\n",
      "Learning Rate: 4.999999873689376e-06\n",
      "Epoch 41/80\n",
      "360/360 [==============================] - 141s 392ms/step - loss: 6.3234 - age_output_loss: 1.1701 - imagequality_output_loss: 0.8313 - emotion_output_loss: 0.7959 - carryingbag_output_loss: 0.6873 - weight_output_loss: 0.8031 - footwear_output_loss: 0.6860 - gender_output_loss: 0.2073 - bodypose_output_loss: 0.3129 - age_output_accuracy: 0.4859 - imagequality_output_accuracy: 0.6066 - emotion_output_accuracy: 0.7157 - carryingbag_output_accuracy: 0.7185 - weight_output_accuracy: 0.6728 - footwear_output_accuracy: 0.6995 - gender_output_accuracy: 0.9187 - bodypose_output_accuracy: 0.8839 - val_loss: 6.8872 - val_age_output_loss: 1.2674 - val_imagequality_output_loss: 0.8952 - val_emotion_output_loss: 0.9011 - val_carryingbag_output_loss: 0.7735 - val_weight_output_loss: 0.8847 - val_footwear_output_loss: 0.7406 - val_gender_output_loss: 0.2353 - val_bodypose_output_loss: 0.3856 - val_age_output_accuracy: 0.4244 - val_imagequality_output_accuracy: 0.5811 - val_emotion_output_accuracy: 0.7026 - val_carryingbag_output_accuracy: 0.6855 - val_weight_output_accuracy: 0.6532 - val_footwear_output_accuracy: 0.6850 - val_gender_output_accuracy: 0.9183 - val_bodypose_output_accuracy: 0.8679\n",
      "Epoch Number: 41\n",
      "Learning Rate: 5.225000222708331e-06\n",
      "Epoch 43/80\n",
      "360/360 [==============================] - 142s 393ms/step - loss: 6.3211 - age_output_loss: 1.1602 - imagequality_output_loss: 0.8260 - emotion_output_loss: 0.7940 - carryingbag_output_loss: 0.6904 - weight_output_loss: 0.8000 - footwear_output_loss: 0.6948 - gender_output_loss: 0.2086 - bodypose_output_loss: 0.3176 - age_output_accuracy: 0.4862 - imagequality_output_accuracy: 0.6087 - emotion_output_accuracy: 0.7158 - carryingbag_output_accuracy: 0.7153 - weight_output_accuracy: 0.6769 - footwear_output_accuracy: 0.6984 - gender_output_accuracy: 0.9193 - bodypose_output_accuracy: 0.8826 - val_loss: 6.8874 - val_age_output_loss: 1.2678 - val_imagequality_output_loss: 0.8958 - val_emotion_output_loss: 0.9010 - val_carryingbag_output_loss: 0.7748 - val_weight_output_loss: 0.8848 - val_footwear_output_loss: 0.7410 - val_gender_output_loss: 0.2358 - val_bodypose_output_loss: 0.3851 - val_age_output_accuracy: 0.4269 - val_imagequality_output_accuracy: 0.5801 - val_emotion_output_accuracy: 0.7021 - val_carryingbag_output_accuracy: 0.6840 - val_weight_output_accuracy: 0.6542 - val_footwear_output_accuracy: 0.6845 - val_gender_output_accuracy: 0.9189 - val_bodypose_output_accuracy: 0.8690\n",
      "Epoch Number: 42\n",
      "Learning Rate: 5.337500169844134e-06\n",
      "Epoch 44/80\n",
      "360/360 [==============================] - 141s 392ms/step - loss: 6.3229 - age_output_loss: 1.1660 - imagequality_output_loss: 0.8262 - emotion_output_loss: 0.7949 - carryingbag_output_loss: 0.6862 - weight_output_loss: 0.8052 - footwear_output_loss: 0.6964 - gender_output_loss: 0.2059 - bodypose_output_loss: 0.3126 - age_output_accuracy: 0.4865 - imagequality_output_accuracy: 0.6062 - emotion_output_accuracy: 0.7154 - carryingbag_output_accuracy: 0.7181 - weight_output_accuracy: 0.6708 - footwear_output_accuracy: 0.6986 - gender_output_accuracy: 0.9214 - bodypose_output_accuracy: 0.8838 - val_loss: 6.8830 - val_age_output_loss: 1.2690 - val_imagequality_output_loss: 0.8939 - val_emotion_output_loss: 0.9005 - val_carryingbag_output_loss: 0.7786 - val_weight_output_loss: 0.8851 - val_footwear_output_loss: 0.7414 - val_gender_output_loss: 0.2363 - val_bodypose_output_loss: 0.3849 - val_age_output_accuracy: 0.4259 - val_imagequality_output_accuracy: 0.5827 - val_emotion_output_accuracy: 0.7021 - val_carryingbag_output_accuracy: 0.6825 - val_weight_output_accuracy: 0.6522 - val_footwear_output_accuracy: 0.6855 - val_gender_output_accuracy: 0.9153 - val_bodypose_output_accuracy: 0.8690\n",
      "Epoch Number: 43\n",
      "Learning Rate: 5.450000116979936e-06\n",
      "Epoch 45/80\n",
      "338/360 [===========================>..] - ETA: 8s - loss: 6.3150 - age_output_loss: 1.1708 - imagequality_output_loss: 0.8263 - emotion_output_loss: 0.8007 - carryingbag_output_loss: 0.6861 - weight_output_loss: 0.8007 - footwear_output_loss: 0.6887 - gender_output_loss: 0.2050 - bodypose_output_loss: 0.3071 - age_output_accuracy: 0.4819 - imagequality_output_accuracy: 0.6069 - emotion_output_accuracy: 0.7145 - carryingbag_output_accuracy: 0.7180 - weight_output_accuracy: 0.6741 - footwear_output_accuracy: 0.7029 - gender_output_accuracy: 0.9211 - bodypose_output_accuracy: 0.8843"
     ]
    },
    {
     "name": "stderr",
     "output_type": "stream",
     "text": [
      "IOPub data rate exceeded.\n",
      "The notebook server will temporarily stop sending output\n",
      "to the client in order to avoid crashing it.\n",
      "To change this limit, set the config variable\n",
      "`--NotebookApp.iopub_data_rate_limit`.\n",
      "\n",
      "Current values:\n",
      "NotebookApp.iopub_data_rate_limit=1000000.0 (bytes/sec)\n",
      "NotebookApp.rate_limit_window=3.0 (secs)\n",
      "\n"
     ]
    },
    {
     "name": "stdout",
     "output_type": "stream",
     "text": [
      "360/360 [==============================] - 141s 392ms/step - loss: 6.2970 - age_output_loss: 1.1623 - imagequality_output_loss: 0.8243 - emotion_output_loss: 0.7981 - carryingbag_output_loss: 0.6804 - weight_output_loss: 0.7996 - footwear_output_loss: 0.6957 - gender_output_loss: 0.1987 - bodypose_output_loss: 0.3085 - age_output_accuracy: 0.4949 - imagequality_output_accuracy: 0.6143 - emotion_output_accuracy: 0.7172 - carryingbag_output_accuracy: 0.7150 - weight_output_accuracy: 0.6760 - footwear_output_accuracy: 0.6998 - gender_output_accuracy: 0.9218 - bodypose_output_accuracy: 0.8832 - val_loss: 6.8851 - val_age_output_loss: 1.2688 - val_imagequality_output_loss: 0.8964 - val_emotion_output_loss: 0.9004 - val_carryingbag_output_loss: 0.7754 - val_weight_output_loss: 0.8844 - val_footwear_output_loss: 0.7404 - val_gender_output_loss: 0.2352 - val_bodypose_output_loss: 0.3854 - val_age_output_accuracy: 0.4269 - val_imagequality_output_accuracy: 0.5811 - val_emotion_output_accuracy: 0.7026 - val_carryingbag_output_accuracy: 0.6855 - val_weight_output_accuracy: 0.6547 - val_footwear_output_accuracy: 0.6840 - val_gender_output_accuracy: 0.9178 - val_bodypose_output_accuracy: 0.8679\n",
      "Epoch Number: 62\n",
      "Learning Rate: 7.587500022054883e-06\n",
      "Epoch 64/80\n",
      "359/360 [============================>.] - ETA: 0s - loss: 6.3142 - age_output_loss: 1.1667 - imagequality_output_loss: 0.8252 - emotion_output_loss: 0.7985 - carryingbag_output_loss: 0.6856 - weight_output_loss: 0.7956 - footwear_output_loss: 0.6913 - gender_output_loss: 0.2059 - bodypose_output_loss: 0.3161 - age_output_accuracy: 0.4858 - imagequality_output_accuracy: 0.6121 - emotion_output_accuracy: 0.7150 - carryingbag_output_accuracy: 0.7166 - weight_output_accuracy: 0.6741 - footwear_output_accuracy: 0.7025 - gender_output_accuracy: 0.9225 - bodypose_output_accuracy: 0.8837Epoch Number: 62\n",
      "360/360 [==============================] - 142s 393ms/step - loss: 6.3125 - age_output_loss: 1.1668 - imagequality_output_loss: 0.8251 - emotion_output_loss: 0.7980 - carryingbag_output_loss: 0.6855 - weight_output_loss: 0.7951 - footwear_output_loss: 0.6908 - gender_output_loss: 0.2057 - bodypose_output_loss: 0.3161 - age_output_accuracy: 0.4858 - imagequality_output_accuracy: 0.6123 - emotion_output_accuracy: 0.7151 - carryingbag_output_accuracy: 0.7166 - weight_output_accuracy: 0.6744 - footwear_output_accuracy: 0.7026 - gender_output_accuracy: 0.9226 - bodypose_output_accuracy: 0.8838 - val_loss: 6.8865 - val_age_output_loss: 1.2679 - val_imagequality_output_loss: 0.8934 - val_emotion_output_loss: 0.9008 - val_carryingbag_output_loss: 0.7760 - val_weight_output_loss: 0.8847 - val_footwear_output_loss: 0.7413 - val_gender_output_loss: 0.2358 - val_bodypose_output_loss: 0.3854 - val_age_output_accuracy: 0.4224 - val_imagequality_output_accuracy: 0.5847 - val_emotion_output_accuracy: 0.7021 - val_carryingbag_output_accuracy: 0.6850 - val_weight_output_accuracy: 0.6522 - val_footwear_output_accuracy: 0.6835 - val_gender_output_accuracy: 0.9163 - val_bodypose_output_accuracy: 0.8695\n",
      "Epoch Number: 63\n",
      "Learning Rate: 7.700000423938036e-06\n",
      "Epoch 65/80\n",
      "360/360 [==============================] - 141s 391ms/step - loss: 6.2989 - age_output_loss: 1.1677 - imagequality_output_loss: 0.8223 - emotion_output_loss: 0.7989 - carryingbag_output_loss: 0.6842 - weight_output_loss: 0.7998 - footwear_output_loss: 0.6893 - gender_output_loss: 0.1986 - bodypose_output_loss: 0.3088 - age_output_accuracy: 0.4910 - imagequality_output_accuracy: 0.6136 - emotion_output_accuracy: 0.7148 - carryingbag_output_accuracy: 0.7189 - weight_output_accuracy: 0.6692 - footwear_output_accuracy: 0.7046 - gender_output_accuracy: 0.9234 - bodypose_output_accuracy: 0.8832 - val_loss: 6.8909 - val_age_output_loss: 1.2696 - val_imagequality_output_loss: 0.8964 - val_emotion_output_loss: 0.9012 - val_carryingbag_output_loss: 0.7771 - val_weight_output_loss: 0.8848 - val_footwear_output_loss: 0.7421 - val_gender_output_loss: 0.2356 - val_bodypose_output_loss: 0.3862 - val_age_output_accuracy: 0.4264 - val_imagequality_output_accuracy: 0.5811 - val_emotion_output_accuracy: 0.7016 - val_carryingbag_output_accuracy: 0.6845 - val_weight_output_accuracy: 0.6562 - val_footwear_output_accuracy: 0.6845 - val_gender_output_accuracy: 0.9163 - val_bodypose_output_accuracy: 0.8684\n",
      "Epoch Number: 64\n",
      "Learning Rate: 7.812500371073838e-06\n",
      "Epoch 66/80\n",
      "360/360 [==============================] - 141s 393ms/step - loss: 6.3292 - age_output_loss: 1.1616 - imagequality_output_loss: 0.8272 - emotion_output_loss: 0.7987 - carryingbag_output_loss: 0.6861 - weight_output_loss: 0.8069 - footwear_output_loss: 0.6967 - gender_output_loss: 0.2081 - bodypose_output_loss: 0.3146 - age_output_accuracy: 0.4887 - imagequality_output_accuracy: 0.6126 - emotion_output_accuracy: 0.7146 - carryingbag_output_accuracy: 0.7201 - weight_output_accuracy: 0.6744 - footwear_output_accuracy: 0.6960 - gender_output_accuracy: 0.9180 - bodypose_output_accuracy: 0.8816 - val_loss: 6.8831 - val_age_output_loss: 1.2701 - val_imagequality_output_loss: 0.8937 - val_emotion_output_loss: 0.9010 - val_carryingbag_output_loss: 0.7771 - val_weight_output_loss: 0.8851 - val_footwear_output_loss: 0.7408 - val_gender_output_loss: 0.2353 - val_bodypose_output_loss: 0.3856 - val_age_output_accuracy: 0.4259 - val_imagequality_output_accuracy: 0.5837 - val_emotion_output_accuracy: 0.7011 - val_carryingbag_output_accuracy: 0.6855 - val_weight_output_accuracy: 0.6568 - val_footwear_output_accuracy: 0.6830 - val_gender_output_accuracy: 0.9189 - val_bodypose_output_accuracy: 0.8679\n",
      "Epoch Number: 65\n",
      "Learning Rate: 7.92500031820964e-06\n",
      "Epoch 67/80\n",
      "360/360 [==============================] - 141s 392ms/step - loss: 6.3077 - age_output_loss: 1.1653 - imagequality_output_loss: 0.8240 - emotion_output_loss: 0.8026 - carryingbag_output_loss: 0.6834 - weight_output_loss: 0.7993 - footwear_output_loss: 0.6862 - gender_output_loss: 0.1988 - bodypose_output_loss: 0.3187 - age_output_accuracy: 0.4882 - imagequality_output_accuracy: 0.6128 - emotion_output_accuracy: 0.7148 - carryingbag_output_accuracy: 0.7182 - weight_output_accuracy: 0.6753 - footwear_output_accuracy: 0.7049 - gender_output_accuracy: 0.9227 - bodypose_output_accuracy: 0.8829 - val_loss: 6.8852 - val_age_output_loss: 1.2679 - val_imagequality_output_loss: 0.8967 - val_emotion_output_loss: 0.9006 - val_carryingbag_output_loss: 0.7749 - val_weight_output_loss: 0.8846 - val_footwear_output_loss: 0.7404 - val_gender_output_loss: 0.2349 - val_bodypose_output_loss: 0.3869 - val_age_output_accuracy: 0.4254 - val_imagequality_output_accuracy: 0.5822 - val_emotion_output_accuracy: 0.7011 - val_carryingbag_output_accuracy: 0.6860 - val_weight_output_accuracy: 0.6552 - val_footwear_output_accuracy: 0.6835 - val_gender_output_accuracy: 0.9173 - val_bodypose_output_accuracy: 0.8669\n",
      "Epoch Number: 66\n",
      "Learning Rate: 8.037500265345443e-06\n",
      "Epoch 68/80\n",
      "360/360 [==============================] - 141s 392ms/step - loss: 6.2879 - age_output_loss: 1.1599 - imagequality_output_loss: 0.8266 - emotion_output_loss: 0.7957 - carryingbag_output_loss: 0.6828 - weight_output_loss: 0.7942 - footwear_output_loss: 0.6928 - gender_output_loss: 0.1979 - bodypose_output_loss: 0.3086 - age_output_accuracy: 0.4929 - imagequality_output_accuracy: 0.6108 - emotion_output_accuracy: 0.7136 - carryingbag_output_accuracy: 0.7142 - weight_output_accuracy: 0.6780 - footwear_output_accuracy: 0.6976 - gender_output_accuracy: 0.9226 - bodypose_output_accuracy: 0.8860 - val_loss: 6.8881 - val_age_output_loss: 1.2697 - val_imagequality_output_loss: 0.8956 - val_emotion_output_loss: 0.9008 - val_carryingbag_output_loss: 0.7759 - val_weight_output_loss: 0.8846 - val_footwear_output_loss: 0.7425 - val_gender_output_loss: 0.2356 - val_bodypose_output_loss: 0.3857 - val_age_output_accuracy: 0.4254 - val_imagequality_output_accuracy: 0.5811 - val_emotion_output_accuracy: 0.7016 - val_carryingbag_output_accuracy: 0.6845 - val_weight_output_accuracy: 0.6542 - val_footwear_output_accuracy: 0.6840 - val_gender_output_accuracy: 0.9173 - val_bodypose_output_accuracy: 0.8690\n",
      "Epoch Number: 67\n",
      "Learning Rate: 8.150000212481245e-06\n",
      "Epoch 69/80\n",
      "359/360 [============================>.] - ETA: 0s - loss: 6.3086 - age_output_loss: 1.1677 - imagequality_output_loss: 0.8293 - emotion_output_loss: 0.7985 - carryingbag_output_loss: 0.6853 - weight_output_loss: 0.7997 - footwear_output_loss: 0.6871 - gender_output_loss: 0.1996 - bodypose_output_loss: 0.3123 - age_output_accuracy: 0.4855 - imagequality_output_accuracy: 0.6085 - emotion_output_accuracy: 0.7143 - carryingbag_output_accuracy: 0.7171 - weight_output_accuracy: 0.6770 - footwear_output_accuracy: 0.6988 - gender_output_accuracy: 0.9239 - bodypose_output_accuracy: 0.8830Epoch Number: 67\n",
      "Learning Rate: 8.150000212481245e-06\n",
      "360/360 [==============================] - 141s 393ms/step - loss: 6.3091 - age_output_loss: 1.1672 - imagequality_output_loss: 0.8292 - emotion_output_loss: 0.7982 - carryingbag_output_loss: 0.6853 - weight_output_loss: 0.8003 - footwear_output_loss: 0.6880 - gender_output_loss: 0.1995 - bodypose_output_loss: 0.3121 - age_output_accuracy: 0.4857 - imagequality_output_accuracy: 0.6086 - emotion_output_accuracy: 0.7143 - carryingbag_output_accuracy: 0.7170 - weight_output_accuracy: 0.6766 - footwear_output_accuracy: 0.6984 - gender_output_accuracy: 0.9240 - bodypose_output_accuracy: 0.8832 - val_loss: 6.8944 - val_age_output_loss: 1.2664 - val_imagequality_output_loss: 0.8963 - val_emotion_output_loss: 0.9003 - val_carryingbag_output_loss: 0.7786 - val_weight_output_loss: 0.8848 - val_footwear_output_loss: 0.7416 - val_gender_output_loss: 0.2348 - val_bodypose_output_loss: 0.3861 - val_age_output_accuracy: 0.4239 - val_imagequality_output_accuracy: 0.5817 - val_emotion_output_accuracy: 0.7021 - val_carryingbag_output_accuracy: 0.6809 - val_weight_output_accuracy: 0.6527 - val_footwear_output_accuracy: 0.6835 - val_gender_output_accuracy: 0.9178 - val_bodypose_output_accuracy: 0.8674\n",
      "Epoch Number: 68\n",
      "Learning Rate: 8.262500159617048e-06\n",
      "Epoch 70/80\n",
      "360/360 [==============================] - 141s 393ms/step - loss: 6.3047 - age_output_loss: 1.1662 - imagequality_output_loss: 0.8251 - emotion_output_loss: 0.7939 - carryingbag_output_loss: 0.6837 - weight_output_loss: 0.7995 - footwear_output_loss: 0.6888 - gender_output_loss: 0.2016 - bodypose_output_loss: 0.3166 - age_output_accuracy: 0.4867 - imagequality_output_accuracy: 0.6124 - emotion_output_accuracy: 0.7153 - carryingbag_output_accuracy: 0.7206 - weight_output_accuracy: 0.6752 - footwear_output_accuracy: 0.6989 - gender_output_accuracy: 0.9234 - bodypose_output_accuracy: 0.8786 - val_loss: 6.8894 - val_age_output_loss: 1.2695 - val_imagequality_output_loss: 0.8946 - val_emotion_output_loss: 0.8999 - val_carryingbag_output_loss: 0.7787 - val_weight_output_loss: 0.8846 - val_footwear_output_loss: 0.7419 - val_gender_output_loss: 0.2360 - val_bodypose_output_loss: 0.3856 - val_age_output_accuracy: 0.4254 - val_imagequality_output_accuracy: 0.5842 - val_emotion_output_accuracy: 0.7021 - val_carryingbag_output_accuracy: 0.6835 - val_weight_output_accuracy: 0.6527 - val_footwear_output_accuracy: 0.6840 - val_gender_output_accuracy: 0.9158 - val_bodypose_output_accuracy: 0.8669\n",
      "Epoch Number: 69\n",
      "Learning Rate: 8.37500010675285e-06\n",
      "Epoch 71/80\n",
      "360/360 [==============================] - 141s 393ms/step - loss: 6.3117 - age_output_loss: 1.1672 - imagequality_output_loss: 0.8278 - emotion_output_loss: 0.7949 - carryingbag_output_loss: 0.6851 - weight_output_loss: 0.7989 - footwear_output_loss: 0.6960 - gender_output_loss: 0.1984 - bodypose_output_loss: 0.3141 - age_output_accuracy: 0.4871 - imagequality_output_accuracy: 0.6071 - emotion_output_accuracy: 0.7157 - carryingbag_output_accuracy: 0.7168 - weight_output_accuracy: 0.6763 - footwear_output_accuracy: 0.6965 - gender_output_accuracy: 0.9266 - bodypose_output_accuracy: 0.8845 - val_loss: 6.8874 - val_age_output_loss: 1.2665 - val_imagequality_output_loss: 0.8948 - val_emotion_output_loss: 0.9004 - val_carryingbag_output_loss: 0.7755 - val_weight_output_loss: 0.8844 - val_footwear_output_loss: 0.7413 - val_gender_output_loss: 0.2340 - val_bodypose_output_loss: 0.3856 - val_age_output_accuracy: 0.4269 - val_imagequality_output_accuracy: 0.5822 - val_emotion_output_accuracy: 0.7021 - val_carryingbag_output_accuracy: 0.6845 - val_weight_output_accuracy: 0.6547 - val_footwear_output_accuracy: 0.6830 - val_gender_output_accuracy: 0.9183 - val_bodypose_output_accuracy: 0.8674\n",
      "Epoch Number: 70\n",
      "Learning Rate: 8.487500053888652e-06\n",
      "Epoch 72/80\n",
      "360/360 [==============================] - 141s 393ms/step - loss: 6.2988 - age_output_loss: 1.1626 - imagequality_output_loss: 0.8276 - emotion_output_loss: 0.7954 - carryingbag_output_loss: 0.6833 - weight_output_loss: 0.8000 - footwear_output_loss: 0.6869 - gender_output_loss: 0.2023 - bodypose_output_loss: 0.3114 - age_output_accuracy: 0.4896 - imagequality_output_accuracy: 0.6096 - emotion_output_accuracy: 0.7139 - carryingbag_output_accuracy: 0.7148 - weight_output_accuracy: 0.6753 - footwear_output_accuracy: 0.7009 - gender_output_accuracy: 0.9237 - bodypose_output_accuracy: 0.8840 - val_loss: 6.8796 - val_age_output_loss: 1.2678 - val_imagequality_output_loss: 0.8945 - val_emotion_output_loss: 0.8999 - val_carryingbag_output_loss: 0.7756 - val_weight_output_loss: 0.8844 - val_footwear_output_loss: 0.7404 - val_gender_output_loss: 0.2342 - val_bodypose_output_loss: 0.3857 - val_age_output_accuracy: 0.4239 - val_imagequality_output_accuracy: 0.5822 - val_emotion_output_accuracy: 0.7021 - val_carryingbag_output_accuracy: 0.6850 - val_weight_output_accuracy: 0.6537 - val_footwear_output_accuracy: 0.6840 - val_gender_output_accuracy: 0.9173 - val_bodypose_output_accuracy: 0.8669\n",
      "Epoch Number: 71\n",
      "Learning Rate: 8.600000001024455e-06\n",
      "Epoch 73/80\n",
      "360/360 [==============================] - 141s 392ms/step - loss: 6.3152 - age_output_loss: 1.1632 - imagequality_output_loss: 0.8283 - emotion_output_loss: 0.7966 - carryingbag_output_loss: 0.6876 - weight_output_loss: 0.7946 - footwear_output_loss: 0.6957 - gender_output_loss: 0.2049 - bodypose_output_loss: 0.3149 - age_output_accuracy: 0.4854 - imagequality_output_accuracy: 0.6048 - emotion_output_accuracy: 0.7159 - carryingbag_output_accuracy: 0.7152 - weight_output_accuracy: 0.6749 - footwear_output_accuracy: 0.6990 - gender_output_accuracy: 0.9219 - bodypose_output_accuracy: 0.8811 - val_loss: 6.8844 - val_age_output_loss: 1.2680 - val_imagequality_output_loss: 0.8949 - val_emotion_output_loss: 0.8998 - val_carryingbag_output_loss: 0.7771 - val_weight_output_loss: 0.8847 - val_footwear_output_loss: 0.7401 - val_gender_output_loss: 0.2348 - val_bodypose_output_loss: 0.3847 - val_age_output_accuracy: 0.4244 - val_imagequality_output_accuracy: 0.5822 - val_emotion_output_accuracy: 0.7021 - val_carryingbag_output_accuracy: 0.6835 - val_weight_output_accuracy: 0.6532 - val_footwear_output_accuracy: 0.6830 - val_gender_output_accuracy: 0.9163 - val_bodypose_output_accuracy: 0.8690\n",
      "Epoch Number: 72\n",
      "Learning Rate: 8.712499948160257e-06\n",
      "Epoch 74/80\n",
      "359/360 [============================>.] - ETA: 0s - loss: 6.3164 - age_output_loss: 1.1657 - imagequality_output_loss: 0.8287 - emotion_output_loss: 0.7971 - carryingbag_output_loss: 0.6896 - weight_output_loss: 0.7962 - footwear_output_loss: 0.6923 - gender_output_loss: 0.1979 - bodypose_output_loss: 0.3197 - age_output_accuracy: 0.4831 - imagequality_output_accuracy: 0.6054 - emotion_output_accuracy: 0.7132 - carryingbag_output_accuracy: 0.7127 - weight_output_accuracy: 0.6762 - footwear_output_accuracy: 0.7025 - gender_output_accuracy: 0.9226 - bodypose_output_accuracy: 0.8796Epoch Number: 72\n",
      "Learning Rate: 8.712499948160257e-06\n",
      "360/360 [==============================] - 141s 393ms/step - loss: 6.3175 - age_output_loss: 1.1657 - imagequality_output_loss: 0.8287 - emotion_output_loss: 0.7973 - carryingbag_output_loss: 0.6898 - weight_output_loss: 0.7970 - footwear_output_loss: 0.6925 - gender_output_loss: 0.1978 - bodypose_output_loss: 0.3194 - age_output_accuracy: 0.4831 - imagequality_output_accuracy: 0.6056 - emotion_output_accuracy: 0.7132 - carryingbag_output_accuracy: 0.7123 - weight_output_accuracy: 0.6759 - footwear_output_accuracy: 0.7019 - gender_output_accuracy: 0.9227 - bodypose_output_accuracy: 0.8797 - val_loss: 6.8863 - val_age_output_loss: 1.2681 - val_imagequality_output_loss: 0.8944 - val_emotion_output_loss: 0.9006 - val_carryingbag_output_loss: 0.7760 - val_weight_output_loss: 0.8846 - val_footwear_output_loss: 0.7416 - val_gender_output_loss: 0.2352 - val_bodypose_output_loss: 0.3854 - val_age_output_accuracy: 0.4259 - val_imagequality_output_accuracy: 0.5837 - val_emotion_output_accuracy: 0.7016 - val_carryingbag_output_accuracy: 0.6835 - val_weight_output_accuracy: 0.6517 - val_footwear_output_accuracy: 0.6850 - val_gender_output_accuracy: 0.9173 - val_bodypose_output_accuracy: 0.8684\n",
      "Epoch Number: 73\n",
      "Learning Rate: 8.82499989529606e-06\n",
      "Epoch 75/80\n",
      "359/360 [============================>.] - ETA: 0s - loss: 6.2990 - age_output_loss: 1.1661 - imagequality_output_loss: 0.8316 - emotion_output_loss: 0.7988 - carryingbag_output_loss: 0.6820 - weight_output_loss: 0.7944 - footwear_output_loss: 0.6939 - gender_output_loss: 0.1952 - bodypose_output_loss: 0.3076 - age_output_accuracy: 0.4871 - imagequality_output_accuracy: 0.6084 - emotion_output_accuracy: 0.7161 - carryingbag_output_accuracy: 0.7204 - weight_output_accuracy: 0.6780 - footwear_output_accuracy: 0.6958 - gender_output_accuracy: 0.9258 - bodypose_output_accuracy: 0.8852Epoch Number: 73\n",
      "360/360 [==============================] - 142s 393ms/step - loss: 6.2986 - age_output_loss: 1.1668 - imagequality_output_loss: 0.8313 - emotion_output_loss: 0.7982 - carryingbag_output_loss: 0.6815 - weight_output_loss: 0.7950 - footwear_output_loss: 0.6939 - gender_output_loss: 0.1953 - bodypose_output_loss: 0.3072 - age_output_accuracy: 0.4869 - imagequality_output_accuracy: 0.6083 - emotion_output_accuracy: 0.7164 - carryingbag_output_accuracy: 0.7207 - weight_output_accuracy: 0.6778 - footwear_output_accuracy: 0.6958 - gender_output_accuracy: 0.9257 - bodypose_output_accuracy: 0.8853 - val_loss: 6.8840 - val_age_output_loss: 1.2687 - val_imagequality_output_loss: 0.8961 - val_emotion_output_loss: 0.8997 - val_carryingbag_output_loss: 0.7773 - val_weight_output_loss: 0.8848 - val_footwear_output_loss: 0.7416 - val_gender_output_loss: 0.2356 - val_bodypose_output_loss: 0.3854 - val_age_output_accuracy: 0.4254 - val_imagequality_output_accuracy: 0.5817 - val_emotion_output_accuracy: 0.7026 - val_carryingbag_output_accuracy: 0.6835 - val_weight_output_accuracy: 0.6512 - val_footwear_output_accuracy: 0.6835 - val_gender_output_accuracy: 0.9168 - val_bodypose_output_accuracy: 0.8674\n",
      "Epoch Number: 74\n",
      "Learning Rate: 8.937499842431862e-06\n",
      "Epoch 76/80\n",
      "360/360 [==============================] - 141s 392ms/step - loss: 6.3213 - age_output_loss: 1.1699 - imagequality_output_loss: 0.8240 - emotion_output_loss: 0.7958 - carryingbag_output_loss: 0.6832 - weight_output_loss: 0.8017 - footwear_output_loss: 0.6990 - gender_output_loss: 0.2029 - bodypose_output_loss: 0.3155 - age_output_accuracy: 0.4851 - imagequality_output_accuracy: 0.6111 - emotion_output_accuracy: 0.7157 - carryingbag_output_accuracy: 0.7161 - weight_output_accuracy: 0.6760 - footwear_output_accuracy: 0.6965 - gender_output_accuracy: 0.9200 - bodypose_output_accuracy: 0.8830 - val_loss: 6.8857 - val_age_output_loss: 1.2682 - val_imagequality_output_loss: 0.8936 - val_emotion_output_loss: 0.9001 - val_carryingbag_output_loss: 0.7776 - val_weight_output_loss: 0.8854 - val_footwear_output_loss: 0.7416 - val_gender_output_loss: 0.2353 - val_bodypose_output_loss: 0.3855 - val_age_output_accuracy: 0.4254 - val_imagequality_output_accuracy: 0.5852 - val_emotion_output_accuracy: 0.7021 - val_carryingbag_output_accuracy: 0.6835 - val_weight_output_accuracy: 0.6537 - val_footwear_output_accuracy: 0.6840 - val_gender_output_accuracy: 0.9168 - val_bodypose_output_accuracy: 0.8684\n",
      "Epoch Number: 75\n",
      "Learning Rate: 9.049999789567664e-06\n",
      "Epoch 77/80\n",
      "359/360 [============================>.] - ETA: 0s - loss: 6.3210 - age_output_loss: 1.1652 - imagequality_output_loss: 0.8312 - emotion_output_loss: 0.7971 - carryingbag_output_loss: 0.6878 - weight_output_loss: 0.8003 - footwear_output_loss: 0.6928 - gender_output_loss: 0.2095 - bodypose_output_loss: 0.3078 - age_output_accuracy: 0.4921 - imagequality_output_accuracy: 0.6063 - emotion_output_accuracy: 0.7167 - carryingbag_output_accuracy: 0.7161 - weight_output_accuracy: 0.6730 - footwear_output_accuracy: 0.7002 - gender_output_accuracy: 0.9189 - bodypose_output_accuracy: 0.8848Learning Rate: 9.049999789567664e-06\n",
      "Epoch Number: 75\n",
      "360/360 [==============================] - 141s 392ms/step - loss: 6.3223 - age_output_loss: 1.1650 - imagequality_output_loss: 0.8315 - emotion_output_loss: 0.7978 - carryingbag_output_loss: 0.6881 - weight_output_loss: 0.8000 - footwear_output_loss: 0.6927 - gender_output_loss: 0.2095 - bodypose_output_loss: 0.3086 - age_output_accuracy: 0.4924 - imagequality_output_accuracy: 0.6060 - emotion_output_accuracy: 0.7162 - carryingbag_output_accuracy: 0.7160 - weight_output_accuracy: 0.6734 - footwear_output_accuracy: 0.7004 - gender_output_accuracy: 0.9189 - bodypose_output_accuracy: 0.8846 - val_loss: 6.8905 - val_age_output_loss: 1.2690 - val_imagequality_output_loss: 0.8956 - val_emotion_output_loss: 0.9009 - val_carryingbag_output_loss: 0.7793 - val_weight_output_loss: 0.8846 - val_footwear_output_loss: 0.7413 - val_gender_output_loss: 0.2360 - val_bodypose_output_loss: 0.3861 - val_age_output_accuracy: 0.4269 - val_imagequality_output_accuracy: 0.5822 - val_emotion_output_accuracy: 0.7021 - val_carryingbag_output_accuracy: 0.6809 - val_weight_output_accuracy: 0.6522 - val_footwear_output_accuracy: 0.6845 - val_gender_output_accuracy: 0.9153 - val_bodypose_output_accuracy: 0.8684\n",
      "Epoch Number: 76\n",
      "Learning Rate: 9.162499736703467e-06\n",
      "Epoch 78/80\n",
      "359/360 [============================>.] - ETA: 0s - loss: 6.3124 - age_output_loss: 1.1643 - imagequality_output_loss: 0.8266 - emotion_output_loss: 0.7957 - carryingbag_output_loss: 0.6877 - weight_output_loss: 0.8014 - footwear_output_loss: 0.6936 - gender_output_loss: 0.1994 - bodypose_output_loss: 0.3145 - age_output_accuracy: 0.4819 - imagequality_output_accuracy: 0.6092 - emotion_output_accuracy: 0.7162 - carryingbag_output_accuracy: 0.7210 - weight_output_accuracy: 0.6733 - footwear_output_accuracy: 0.6973 - gender_output_accuracy: 0.9243 - bodypose_output_accuracy: 0.8838Epoch Number: 76\n",
      "360/360 [==============================] - 142s 393ms/step - loss: 6.3129 - age_output_loss: 1.1643 - imagequality_output_loss: 0.8270 - emotion_output_loss: 0.7958 - carryingbag_output_loss: 0.6876 - weight_output_loss: 0.8014 - footwear_output_loss: 0.6940 - gender_output_loss: 0.1992 - bodypose_output_loss: 0.3144 - age_output_accuracy: 0.4816 - imagequality_output_accuracy: 0.6091 - emotion_output_accuracy: 0.7161 - carryingbag_output_accuracy: 0.7213 - weight_output_accuracy: 0.6734 - footwear_output_accuracy: 0.6972 - gender_output_accuracy: 0.9243 - bodypose_output_accuracy: 0.8838 - val_loss: 6.8844 - val_age_output_loss: 1.2700 - val_imagequality_output_loss: 0.8949 - val_emotion_output_loss: 0.9017 - val_carryingbag_output_loss: 0.7762 - val_weight_output_loss: 0.8849 - val_footwear_output_loss: 0.7413 - val_gender_output_loss: 0.2365 - val_bodypose_output_loss: 0.3866 - val_age_output_accuracy: 0.4234 - val_imagequality_output_accuracy: 0.5852 - val_emotion_output_accuracy: 0.7011 - val_carryingbag_output_accuracy: 0.6840 - val_weight_output_accuracy: 0.6522 - val_footwear_output_accuracy: 0.6825 - val_gender_output_accuracy: 0.9163 - val_bodypose_output_accuracy: 0.8679\n",
      "Epoch Number: 77\n",
      "Learning Rate: 9.274999683839269e-06\n",
      "Epoch 79/80\n",
      "360/360 [==============================] - 141s 393ms/step - loss: 6.3141 - age_output_loss: 1.1717 - imagequality_output_loss: 0.8270 - emotion_output_loss: 0.7966 - carryingbag_output_loss: 0.6835 - weight_output_loss: 0.7978 - footwear_output_loss: 0.6946 - gender_output_loss: 0.2026 - bodypose_output_loss: 0.3111 - age_output_accuracy: 0.4793 - imagequality_output_accuracy: 0.6100 - emotion_output_accuracy: 0.7147 - carryingbag_output_accuracy: 0.7199 - weight_output_accuracy: 0.6777 - footwear_output_accuracy: 0.6946 - gender_output_accuracy: 0.9240 - bodypose_output_accuracy: 0.8839 - val_loss: 6.8831 - val_age_output_loss: 1.2691 - val_imagequality_output_loss: 0.8934 - val_emotion_output_loss: 0.9012 - val_carryingbag_output_loss: 0.7779 - val_weight_output_loss: 0.8844 - val_footwear_output_loss: 0.7420 - val_gender_output_loss: 0.2360 - val_bodypose_output_loss: 0.3861 - val_age_output_accuracy: 0.4224 - val_imagequality_output_accuracy: 0.5842 - val_emotion_output_accuracy: 0.7021 - val_carryingbag_output_accuracy: 0.6835 - val_weight_output_accuracy: 0.6542 - val_footwear_output_accuracy: 0.6815 - val_gender_output_accuracy: 0.9148 - val_bodypose_output_accuracy: 0.8690\n",
      "Epoch Number: 78\n",
      "Learning Rate: 9.387499630975071e-06\n",
      "Epoch 80/80\n",
      "360/360 [==============================] - 142s 393ms/step - loss: 6.3180 - age_output_loss: 1.1698 - imagequality_output_loss: 0.8242 - emotion_output_loss: 0.7987 - carryingbag_output_loss: 0.6812 - weight_output_loss: 0.7992 - footwear_output_loss: 0.6934 - gender_output_loss: 0.2094 - bodypose_output_loss: 0.3128 - age_output_accuracy: 0.4885 - imagequality_output_accuracy: 0.6135 - emotion_output_accuracy: 0.7150 - carryingbag_output_accuracy: 0.7147 - weight_output_accuracy: 0.6774 - footwear_output_accuracy: 0.6977 - gender_output_accuracy: 0.9184 - bodypose_output_accuracy: 0.8860 - val_loss: 6.8848 - val_age_output_loss: 1.2687 - val_imagequality_output_loss: 0.8971 - val_emotion_output_loss: 0.9005 - val_carryingbag_output_loss: 0.7792 - val_weight_output_loss: 0.8848 - val_footwear_output_loss: 0.7405 - val_gender_output_loss: 0.2353 - val_bodypose_output_loss: 0.3856 - val_age_output_accuracy: 0.4254 - val_imagequality_output_accuracy: 0.5806 - val_emotion_output_accuracy: 0.7016 - val_carryingbag_output_accuracy: 0.6825 - val_weight_output_accuracy: 0.6537 - val_footwear_output_accuracy: 0.6845 - val_gender_output_accuracy: 0.9173 - val_bodypose_output_accuracy: 0.8684\n",
      "Epoch Number: 79\n",
      "Learning Rate: 9.499999578110874e-06\n"
     ]
    }
   ],
   "source": [
    "hist=model.fit_generator(generator=train_gen,validation_data=val_gen,use_multiprocessing=True,workers=6,verbose=1\n",
    "                    ,callbacks=[sched],epochs=NEPOCHS)"
   ]
  },
  {
   "cell_type": "code",
   "execution_count": 44,
   "metadata": {
    "hidden": true
   },
   "outputs": [
    {
     "data": {
      "image/png": "[encoded data removed]",
      "text/plain": [
       "<Figure size 432x288 with 1 Axes>"
      ]
     },
     "metadata": {
      "needs_background": "light"
     },
     "output_type": "display_data"
    }
   ],
   "source": [
    "plt.plot(hist.history['loss'])\n",
    "plt.plot(hist.history['val_loss'])\n",
    "plt.show()"
   ]
  },
  {
   "cell_type": "code",
   "execution_count": 45,
   "metadata": {
    "hidden": true
   },
   "outputs": [],
   "source": [
    "validation_score=model.evaluate_generator(val_gen)"
   ]
  },
  {
   "cell_type": "code",
   "execution_count": 47,
   "metadata": {
    "hidden": true
   },
   "outputs": [
    {
     "data": {
      "text/plain": [
       "dict_keys(['val_loss', 'val_age_output_loss', 'val_imagequality_output_loss', 'val_emotion_output_loss', 'val_carryingbag_output_loss', 'val_weight_output_loss', 'val_footwear_output_loss', 'val_gender_output_loss', 'val_bodypose_output_loss', 'val_age_output_accuracy', 'val_imagequality_output_accuracy', 'val_emotion_output_accuracy', 'val_carryingbag_output_accuracy', 'val_weight_output_accuracy', 'val_footwear_output_accuracy', 'val_gender_output_accuracy', 'val_bodypose_output_accuracy', 'loss', 'age_output_loss', 'imagequality_output_loss', 'emotion_output_loss', 'carryingbag_output_loss', 'weight_output_loss', 'footwear_output_loss', 'gender_output_loss', 'bodypose_output_loss', 'age_output_accuracy', 'imagequality_output_accuracy', 'emotion_output_accuracy', 'carryingbag_output_accuracy', 'weight_output_accuracy', 'footwear_output_accuracy', 'gender_output_accuracy', 'bodypose_output_accuracy'])"
      ]
     },
     "execution_count": 47,
     "metadata": {},
     "output_type": "execute_result"
    }
   ],
   "source": [
    "hist.history.keys()"
   ]
  },
  {
   "cell_type": "code",
   "execution_count": 57,
   "metadata": {
    "hidden": true
   },
   "outputs": [],
   "source": [
    "model.save_weights('model_valid_28thDec_before_removing_dropout.h5')"
   ]
  },
  {
   "cell_type": "markdown",
   "metadata": {},
   "source": [
    "###  Final validation accuracy numbers"
   ]
  },
  {
   "cell_type": "code",
   "execution_count": 60,
   "metadata": {},
   "outputs": [
    {
     "data": {
      "text/plain": [
       "{'age_output_accuracy': 0.4254032373428345,\n",
       " 'imagequality_output_accuracy': 0.5806451439857483,\n",
       " 'emotion_output_accuracy': 0.7016128897666931,\n",
       " 'carryingbag_output_accuracy': 0.6824596524238586,\n",
       " 'weight_output_accuracy': 0.6537298560142517,\n",
       " 'footwear_output_accuracy': 0.6844757795333862,\n",
       " 'gender_output_accuracy': 0.9173387289047241,\n",
       " 'bodypose_output_accuracy': 0.8684476017951965}"
      ]
     },
     "execution_count": 60,
     "metadata": {},
     "output_type": "execute_result"
    }
   ],
   "source": [
    "{n:s for s,n in zip(validation_score,model.metrics_names) if re.search(r'accuracy',n)}"
   ]
  },
  {
   "cell_type": "code",
   "execution_count": null,
   "metadata": {},
   "outputs": [],
   "source": []
  }
 ],
 "metadata": {
  "kernelspec": {
   "display_name": "Python 3",
   "language": "python",
   "name": "python3"
  }
 },
 "nbformat": 4,
 "nbformat_minor": 2
}
